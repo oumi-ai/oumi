{
 "cells": [
  {
   "cell_type": "code",
   "execution_count": 2,
   "metadata": {},
   "outputs": [],
   "source": [
    "import torch\n",
    "from torch.utils.data import DataLoader\n",
    "from transformers import AutoModelForCausalLM, AutoTokenizer\n",
    "\n",
    "from lema.core.types.base_dataset import AlpacaDataset"
   ]
  },
  {
   "cell_type": "code",
   "execution_count": 41,
   "metadata": {},
   "outputs": [],
   "source": [
    "%load_ext line_profiler\n",
    "%load_ext memory_profiler"
   ]
  },
  {
   "cell_type": "markdown",
   "metadata": {},
   "source": [
    "### 1. Listing Supported Datasets"
   ]
  },
  {
   "cell_type": "code",
   "execution_count": 3,
   "metadata": {},
   "outputs": [
    {
     "name": "stdout",
     "output_type": "stream",
     "text": [
      "'tatsu-lab/alpaca' -> AlpacaDataset\n",
      "'yahma/alpaca-cleaned' -> AlpacaDataset\n",
      "'nvidia/ChatQA-Training-Data' -> ChatQADataset\n"
     ]
    }
   ],
   "source": [
    "import inspect\n",
    "import sys\n",
    "\n",
    "\n",
    "def list_supported_datasets():\n",
    "    \"\"\"List all supported datasets and their corresponding dataset classes.\"\"\"\n",
    "    root_module = \"lema.core.types.base_dataset\"\n",
    "\n",
    "    dataset_classes = inspect.getmembers(sys.modules[root_module], inspect.isclass)\n",
    "\n",
    "    for cls_name, cls_obj in dataset_classes:\n",
    "        if (\n",
    "            hasattr(cls_obj, \"supported_datasets\")\n",
    "            and cls_obj.supported_datasets is not None\n",
    "        ):\n",
    "            for dataset_name in cls_obj.supported_datasets:\n",
    "                print(f\"'{dataset_name}' -> {cls_name}\")\n",
    "\n",
    "\n",
    "list_supported_datasets()"
   ]
  },
  {
   "cell_type": "markdown",
   "metadata": {},
   "source": [
    "### 2. Loading Datasets"
   ]
  },
  {
   "cell_type": "markdown",
   "metadata": {},
   "source": [
    "We load the alpaca dataset. Since multiple variants can be registered in the HuggingFace hub, by default we use `Dataset.default`."
   ]
  },
  {
   "cell_type": "code",
   "execution_count": 4,
   "metadata": {},
   "outputs": [
    {
     "name": "stderr",
     "output_type": "stream",
     "text": [
      "/Users/oussamaelachqar/miniconda3/envs/dev/lib/python3.11/site-packages/huggingface_hub/file_download.py:1132: FutureWarning: `resume_download` is deprecated and will be removed in version 1.0.0. Downloads always resume when possible. If you want to force a new download, use `force_download=True`.\n",
      "  warnings.warn(\n"
     ]
    },
    {
     "name": "stdout",
     "output_type": "stream",
     "text": [
      "CPU times: user 79.8 ms, sys: 12.8 ms, total: 92.6 ms\n",
      "Wall time: 275 ms\n"
     ]
    }
   ],
   "source": [
    "%%time\n",
    "\n",
    "tokenizer = AutoTokenizer.from_pretrained(\"gpt2\")\n",
    "tokenizer.pad_token = tokenizer.eos_token"
   ]
  },
  {
   "cell_type": "code",
   "execution_count": 5,
   "metadata": {},
   "outputs": [
    {
     "name": "stdout",
     "output_type": "stream",
     "text": [
      "Using: tatsu-lab/alpaca\n",
      "CPU times: user 161 ms, sys: 53.6 ms, total: 215 ms\n",
      "Wall time: 2.17 s\n"
     ]
    }
   ],
   "source": [
    "%%time\n",
    "\n",
    "dataset = AlpacaDataset(tokenizer=tokenizer)\n",
    "\n",
    "print(f\"Using: {dataset.dataset_name_or_path}\")"
   ]
  },
  {
   "cell_type": "markdown",
   "metadata": {},
   "source": [
    "Alternatively, you can pass a custom HuggingFace hub identifier. You can find a list of supported datasets in `Dataset.supported_datasets`"
   ]
  },
  {
   "cell_type": "code",
   "execution_count": 6,
   "metadata": {},
   "outputs": [
    {
     "name": "stdout",
     "output_type": "stream",
     "text": [
      "Using: yahma/alpaca-cleaned\n",
      "CPU times: user 150 ms, sys: 31 ms, total: 181 ms\n",
      "Wall time: 2.06 s\n"
     ]
    }
   ],
   "source": [
    "%%time\n",
    "\n",
    "dataset = AlpacaDataset(\n",
    "    dataset_name_or_path=\"yahma/alpaca-cleaned\", tokenizer=tokenizer\n",
    ")\n",
    "\n",
    "print(f\"Using: {dataset.dataset_name_or_path}\")"
   ]
  },
  {
   "cell_type": "markdown",
   "metadata": {},
   "source": [
    "Under the hood, the dataset is downloaded from the HuggingFace hub, and cached in the `~/.cache/huggingface/datasets` directory.\n",
    "\n",
    "When instantiating the class, the dataset is loaded in memory. This is acceptable with small datasets, but for larger datasets, we can either use `IterableDataset` for streaming batch from disk, or shard per worker rank (so that Memory // N_GPUs)."
   ]
  },
  {
   "cell_type": "markdown",
   "metadata": {},
   "source": [
    "Finally, you can also load a dataset from a local `jsonl` or `parquet` file."
   ]
  },
  {
   "cell_type": "code",
   "execution_count": 40,
   "metadata": {},
   "outputs": [],
   "source": [
    "# dataset = LemaSftDataset(dataset_name_or_path=\"./sft.jsonl\", tokenizer=tokenizer)\n",
    "# dataset = LemaSftDataset(dataset_name_or_path=\"./sft.parquet\", tokenizer=tokenizer)"
   ]
  },
  {
   "cell_type": "markdown",
   "metadata": {},
   "source": [
    "### 3. Iterating Over Dataset"
   ]
  },
  {
   "cell_type": "code",
   "execution_count": 7,
   "metadata": {},
   "outputs": [
    {
     "name": "stdout",
     "output_type": "stream",
     "text": [
      "Number of examples: 51760\n"
     ]
    }
   ],
   "source": [
    "print(f\"Number of examples: {len(dataset)}\")"
   ]
  },
  {
   "cell_type": "markdown",
   "metadata": {},
   "source": [
    "Given everything is loaded into memory, we can randomly access any row in the dataset:"
   ]
  },
  {
   "cell_type": "code",
   "execution_count": 8,
   "metadata": {},
   "outputs": [
    {
     "name": "stderr",
     "output_type": "stream",
     "text": [
      "\n",
      "No chat template is defined for this tokenizer - using the default template for the GPT2TokenizerFast class. If the default is not appropriate for your model, please set `tokenizer.chat_template` to an appropriate template. See https://huggingface.co/docs/transformers/main/chat_templating for more information.\n",
      "\n"
     ]
    },
    {
     "name": "stdout",
     "output_type": "stream",
     "text": [
      "291 µs ± 6.12 µs per loop (mean ± std. dev. of 7 runs, 1,000 loops each)\n"
     ]
    }
   ],
   "source": [
    "%%timeit\n",
    "\n",
    "dataset[42]"
   ]
  },
  {
   "cell_type": "markdown",
   "metadata": {},
   "source": [
    "We can iterate over the dataset to get the examples, either manually or using a DataLoader."
   ]
  },
  {
   "cell_type": "code",
   "execution_count": 9,
   "metadata": {},
   "outputs": [
    {
     "name": "stdout",
     "output_type": "stream",
     "text": [
      "CPU times: user 17.5 s, sys: 214 ms, total: 17.7 s\n",
      "Wall time: 17.8 s\n"
     ]
    }
   ],
   "source": [
    "%%time\n",
    "\n",
    "# Manual iteration\n",
    "[dataset[i] for i in range(len(dataset))];"
   ]
  },
  {
   "cell_type": "code",
   "execution_count": 10,
   "metadata": {},
   "outputs": [
    {
     "name": "stdout",
     "output_type": "stream",
     "text": [
      "CPU times: user 18.7 s, sys: 93.2 ms, total: 18.8 s\n",
      "Wall time: 18.9 s\n"
     ]
    }
   ],
   "source": [
    "%%time\n",
    "\n",
    "# With a pytorch data loader\n",
    "loader = DataLoader(dataset, batch_size=1, num_workers=0, shuffle=False)\n",
    "list(loader);"
   ]
  },
  {
   "cell_type": "markdown",
   "metadata": {},
   "source": [
    "We can also use any library from the pytorch ecosystem, e.g. `torchtext`, `torchdata`, etc."
   ]
  },
  {
   "cell_type": "code",
   "execution_count": 23,
   "metadata": {},
   "outputs": [],
   "source": [
    "from torchdata.stateful_dataloader import StatefulDataLoader\n",
    "\n",
    "loader = StatefulDataLoader(dataset, batch_size=1, num_workers=0, shuffle=False)"
   ]
  },
  {
   "cell_type": "code",
   "execution_count": 26,
   "metadata": {},
   "outputs": [
    {
     "data": {
      "text/plain": [
       "{'_index_sampler_state': {'samples_yielded': 1},\n",
       " '_sampler_iter_state': None,\n",
       " '_sampler_iter_yielded': 1,\n",
       " '_num_yielded': 1,\n",
       " '_IterableDataset_len_called': None,\n",
       " '_shared_seed': None,\n",
       " 'fetcher_state': None,\n",
       " 'dataset_state': None,\n",
       " '_iterator_finished': False}"
      ]
     },
     "execution_count": 26,
     "metadata": {},
     "output_type": "execute_result"
    }
   ],
   "source": [
    "loader.state_dict()"
   ]
  },
  {
   "cell_type": "code",
   "execution_count": 25,
   "metadata": {},
   "outputs": [],
   "source": [
    "next(iter(loader));"
   ]
  },
  {
   "cell_type": "markdown",
   "metadata": {},
   "source": [
    "### 4. Accessing Individual Examples\n",
    "\n",
    "Alpaca is a \"Supervised Finetuning Dataset\". It contains instructions, user inputs, and model outputs. An SFT dataset has the following methods:\n",
    "\n",
    "**Base Map Dataset**\n",
    "```python\n",
    "dataset[0] -> model inputs  # pytorch convention\n",
    "dataset.raw(0) -> raw data  # lema convention\n",
    "```\n",
    "**Base SFT Dataset**\n",
    "```python\n",
    "dataset.conversation(0) -> conversation # model independent\n",
    "dataset.prompt(0) -> prompt  # dependends on the tokenizer\n",
    "```"
   ]
  },
  {
   "cell_type": "code",
   "execution_count": 11,
   "metadata": {},
   "outputs": [
    {
     "data": {
      "text/plain": [
       "output         1. Eat a balanced and nutritious diet: Make su...\n",
       "input                                                           \n",
       "instruction                 Give three tips for staying healthy.\n",
       "Name: 0, dtype: object"
      ]
     },
     "execution_count": 11,
     "metadata": {},
     "output_type": "execute_result"
    }
   ],
   "source": [
    "# Raw data (pd.Series, dict), as defined by the dataset authors\n",
    "dataset.raw(0)"
   ]
  },
  {
   "cell_type": "code",
   "execution_count": 12,
   "metadata": {},
   "outputs": [
    {
     "data": {
      "text/plain": [
       "[Message(id=None, content='Below is an instruction that describes a task, paired with an input that provides further context. Write a response that appropriately completes the request.', role=<Role.SYSTEM: 'system'>),\n",
       " Message(id=None, content='Give three tips for staying healthy.', role=<Role.USER: 'user'>),\n",
       " Message(id=None, content='1. Eat a balanced and nutritious diet: Make sure your meals are inclusive of a variety of fruits and vegetables, lean protein, whole grains, and healthy fats. This helps to provide your body with the essential nutrients to function at its best and can help prevent chronic diseases.\\n\\n2. Engage in regular physical activity: Exercise is crucial for maintaining strong bones, muscles, and cardiovascular health. Aim for at least 150 minutes of moderate aerobic exercise or 75 minutes of vigorous exercise each week.\\n\\n3. Get enough sleep: Getting enough quality sleep is crucial for physical and mental well-being. It helps to regulate mood, improve cognitive function, and supports healthy growth and immune function. Aim for 7-9 hours of sleep each night.', role=<Role.ASSISTANT: 'assistant'>)]"
      ]
     },
     "execution_count": 12,
     "metadata": {},
     "output_type": "execute_result"
    }
   ],
   "source": [
    "# Convert to standard Lema SFT format (lema.core.types.Conversation)\n",
    "dataset.conversation(0).messages"
   ]
  },
  {
   "cell_type": "code",
   "execution_count": 13,
   "metadata": {},
   "outputs": [
    {
     "data": {
      "text/plain": [
       "'Below is an instruction that describes a task, paired with an input that provides further context. Write a response that appropriately completes the request.<|endoftext|>Give three tips for staying healthy.<|endoftext|>1. Eat a balanced and nutritious diet: Make sure your meals are inclusive of a variety of fruits and vegetables, lean protein, whole grains, and healthy fats. This helps to provide your body with the essential nutrients to function at its best and can help prevent chronic diseases.\\n\\n2. Engage in regular physical activity: Exercise is crucial for maintaining strong bones, muscles, and cardiovascular health. Aim for at least 150 minutes of moderate aerobic exercise or 75 minutes of vigorous exercise each week.\\n\\n3. Get enough sleep: Getting enough quality sleep is crucial for physical and mental well-being. It helps to regulate mood, improve cognitive function, and supports healthy growth and immune function. Aim for 7-9 hours of sleep each night.<|endoftext|>'"
      ]
     },
     "execution_count": 13,
     "metadata": {},
     "output_type": "execute_result"
    }
   ],
   "source": [
    "# Convert to model prompt (str). This include the model's chat temlate,\n",
    "# EOS tokens for inference/generation, etc.\n",
    "dataset.prompt(0)"
   ]
  },
  {
   "cell_type": "code",
   "execution_count": 14,
   "metadata": {},
   "outputs": [
    {
     "data": {
      "text/plain": [
       "{'input_ids': tensor([[21106,   318,   281, 12064,   326,  8477,   257,  4876,    11, 20312,\n",
       "           351,   281,  5128,   326,  3769,  2252,  4732,    13, 19430,   257,\n",
       "          2882,   326, 20431, 32543,   262,  2581,    13, 50256, 23318,  1115,\n",
       "          9040,   329, 10589,  5448,    13, 50256,    16,    13, 27574,   257,\n",
       "         12974,   290, 48102,  5496,    25,  6889,  1654,   534, 13840,   389,\n",
       "         19889,   286,   257,  4996,   286, 15921,   290, 13701,    11, 10904,\n",
       "          7532,    11,  2187, 21824,    11,   290,  5448, 27997,    13,   770,\n",
       "          5419,   284,  2148,   534,  1767,   351,   262,  6393, 20901,   284,\n",
       "          2163,   379,   663,  1266,   290,   460,  1037,  2948, 10726, 10040,\n",
       "            13,   198,   198,    17,    13,  1985,   496,   287,  3218,  3518,\n",
       "          3842,    25, 32900,   318,  8780,   329, 10941,  1913, 11945,    11,\n",
       "         12749,    11,   290, 21134,  1535,    13, 36223,   329,   379,  1551,\n",
       "          6640,  2431,   286, 10768, 43294,  5517,   393,  5441,  2431,   286,\n",
       "         31543,  5517,  1123,  1285,    13,   198,   198,    18,    13,  3497,\n",
       "          1576,  3993,    25, 18067,  1576,  3081,  3993,   318,  8780,   329,\n",
       "          3518,   290,  5110,   880,    12, 11873,    13,   632,  5419,   284,\n",
       "         16697, 10038,    11,  2987, 10870,  2163,    11,   290,  6971,  5448,\n",
       "          3349,   290, 10900,  2163,    13, 36223,   329,   767,    12,    24,\n",
       "          2250,   286,  3993,  1123,  1755,    13, 50256]]), 'attention_mask': tensor([[1, 1, 1, 1, 1, 1, 1, 1, 1, 1, 1, 1, 1, 1, 1, 1, 1, 1, 1, 1, 1, 1, 1, 1,\n",
       "         1, 1, 1, 1, 1, 1, 1, 1, 1, 1, 1, 1, 1, 1, 1, 1, 1, 1, 1, 1, 1, 1, 1, 1,\n",
       "         1, 1, 1, 1, 1, 1, 1, 1, 1, 1, 1, 1, 1, 1, 1, 1, 1, 1, 1, 1, 1, 1, 1, 1,\n",
       "         1, 1, 1, 1, 1, 1, 1, 1, 1, 1, 1, 1, 1, 1, 1, 1, 1, 1, 1, 1, 1, 1, 1, 1,\n",
       "         1, 1, 1, 1, 1, 1, 1, 1, 1, 1, 1, 1, 1, 1, 1, 1, 1, 1, 1, 1, 1, 1, 1, 1,\n",
       "         1, 1, 1, 1, 1, 1, 1, 1, 1, 1, 1, 1, 1, 1, 1, 1, 1, 1, 1, 1, 1, 1, 1, 1,\n",
       "         1, 1, 1, 1, 1, 1, 1, 1, 1, 1, 1, 1, 1, 1, 1, 1, 1, 1, 1, 1, 1, 1, 1, 1,\n",
       "         1, 1, 1, 1, 1, 1, 1, 1, 1, 1, 1, 1, 1, 1, 1, 1, 1, 1, 1]])}"
      ]
     },
     "execution_count": 14,
     "metadata": {},
     "output_type": "execute_result"
    }
   ],
   "source": [
    "# What is fed to the model.forward (dict)\n",
    "dataset[0]"
   ]
  },
  {
   "cell_type": "markdown",
   "metadata": {},
   "source": [
    "### 5. Accessing the underlying data backend (for debugging only)"
   ]
  },
  {
   "cell_type": "markdown",
   "metadata": {},
   "source": [
    "We currently use pd.DataFrame as a backend for the dataset. We can trivially use either HuggingFace `datasets`, or an `arrow` Table as a backend for the dataset."
   ]
  },
  {
   "cell_type": "code",
   "execution_count": 16,
   "metadata": {},
   "outputs": [
    {
     "data": {
      "text/plain": [
       "Index(['instruction', 'input', 'output', 'text'], dtype='object')"
      ]
     },
     "execution_count": 16,
     "metadata": {},
     "output_type": "execute_result"
    }
   ],
   "source": [
    "dataset.data.columns"
   ]
  },
  {
   "cell_type": "code",
   "execution_count": 5,
   "metadata": {},
   "outputs": [
    {
     "data": {
      "text/html": [
       "<div>\n",
       "<style scoped>\n",
       "    .dataframe tbody tr th:only-of-type {\n",
       "        vertical-align: middle;\n",
       "    }\n",
       "\n",
       "    .dataframe tbody tr th {\n",
       "        vertical-align: top;\n",
       "    }\n",
       "\n",
       "    .dataframe thead th {\n",
       "        text-align: right;\n",
       "    }\n",
       "</style>\n",
       "<table border=\"1\" class=\"dataframe\">\n",
       "  <thead>\n",
       "    <tr style=\"text-align: right;\">\n",
       "      <th></th>\n",
       "      <th>instruction</th>\n",
       "      <th>input</th>\n",
       "      <th>output</th>\n",
       "      <th>text</th>\n",
       "    </tr>\n",
       "  </thead>\n",
       "  <tbody>\n",
       "    <tr>\n",
       "      <th>0</th>\n",
       "      <td>Give three tips for staying healthy.</td>\n",
       "      <td></td>\n",
       "      <td>1.Eat a balanced diet and make sure to include...</td>\n",
       "      <td>Below is an instruction that describes a task....</td>\n",
       "    </tr>\n",
       "    <tr>\n",
       "      <th>1</th>\n",
       "      <td>What are the three primary colors?</td>\n",
       "      <td></td>\n",
       "      <td>The three primary colors are red, blue, and ye...</td>\n",
       "      <td>Below is an instruction that describes a task....</td>\n",
       "    </tr>\n",
       "    <tr>\n",
       "      <th>2</th>\n",
       "      <td>Describe the structure of an atom.</td>\n",
       "      <td></td>\n",
       "      <td>An atom is made up of a nucleus, which contain...</td>\n",
       "      <td>Below is an instruction that describes a task....</td>\n",
       "    </tr>\n",
       "    <tr>\n",
       "      <th>3</th>\n",
       "      <td>How can we reduce air pollution?</td>\n",
       "      <td></td>\n",
       "      <td>There are a number of ways to reduce air pollu...</td>\n",
       "      <td>Below is an instruction that describes a task....</td>\n",
       "    </tr>\n",
       "    <tr>\n",
       "      <th>4</th>\n",
       "      <td>Describe a time when you had to make a difficu...</td>\n",
       "      <td></td>\n",
       "      <td>I had to make a difficult decision when I was ...</td>\n",
       "      <td>Below is an instruction that describes a task....</td>\n",
       "    </tr>\n",
       "  </tbody>\n",
       "</table>\n",
       "</div>"
      ],
      "text/plain": [
       "                                         instruction input  \\\n",
       "0               Give three tips for staying healthy.         \n",
       "1                 What are the three primary colors?         \n",
       "2                 Describe the structure of an atom.         \n",
       "3                   How can we reduce air pollution?         \n",
       "4  Describe a time when you had to make a difficu...         \n",
       "\n",
       "                                              output  \\\n",
       "0  1.Eat a balanced diet and make sure to include...   \n",
       "1  The three primary colors are red, blue, and ye...   \n",
       "2  An atom is made up of a nucleus, which contain...   \n",
       "3  There are a number of ways to reduce air pollu...   \n",
       "4  I had to make a difficult decision when I was ...   \n",
       "\n",
       "                                                text  \n",
       "0  Below is an instruction that describes a task....  \n",
       "1  Below is an instruction that describes a task....  \n",
       "2  Below is an instruction that describes a task....  \n",
       "3  Below is an instruction that describes a task....  \n",
       "4  Below is an instruction that describes a task....  "
      ]
     },
     "execution_count": 5,
     "metadata": {},
     "output_type": "execute_result"
    }
   ],
   "source": [
    "dataset.data.head()"
   ]
  },
  {
   "cell_type": "code",
   "execution_count": 37,
   "metadata": {},
   "outputs": [
    {
     "data": {
      "image/png": "[encoded data removed]",
      "text/plain": [
       "<Figure size 640x480 with 4 Axes>"
      ]
     },
     "metadata": {},
     "output_type": "display_data"
    }
   ],
   "source": [
    "dataset.data[[\"instruction\", \"output\", \"input\"]].map(len).hist();"
   ]
  },
  {
   "cell_type": "markdown",
   "metadata": {},
   "source": [
    "### Preprocessing"
   ]
  },
  {
   "cell_type": "markdown",
   "metadata": {},
   "source": [
    "To customize preprocessing behavior, we can override the appropriate method:\n",
    "- `BaseMapDataset.__getitem__` for fully custom behavior, multi-modal, multi-task, etc.\n",
    "- `BaseMapDataset.preprocess_items` for custom preprocessing of standard datasets (inputs, labels)\n",
    "- `BaseSftDataset.preprocess_items` To customize preprocessing, tokenization of a standard SFT dataset\n",
    "- `BaseSftDataset.format_inputs` To transform raw data row into lema conversation\n",
    "- `LemaSftDataset` -> If raw data already in Lema format, no custom class needed!"
   ]
  },
  {
   "cell_type": "code",
   "execution_count": 7,
   "metadata": {},
   "outputs": [
    {
     "name": "stdout",
     "output_type": "stream",
     "text": [
      "Using: tatsu-lab/alpaca\n"
     ]
    }
   ],
   "source": [
    "dataset = AlpacaDataset(tokenizer=tokenizer)\n",
    "\n",
    "print(f\"Using: {dataset.dataset_name_or_path}\")"
   ]
  },
  {
   "cell_type": "code",
   "execution_count": 15,
   "metadata": {},
   "outputs": [
    {
     "name": "stdout",
     "output_type": "stream",
     "text": [
      "5.6 µs ± 17.7 ns per loop (mean ± std. dev. of 7 runs, 100,000 loops each)\n"
     ]
    }
   ],
   "source": [
    "%%timeit\n",
    "\n",
    "dataset.raw(0)"
   ]
  },
  {
   "cell_type": "code",
   "execution_count": 16,
   "metadata": {},
   "outputs": [
    {
     "name": "stdout",
     "output_type": "stream",
     "text": [
      "13.8 µs ± 65.4 ns per loop (mean ± std. dev. of 7 runs, 100,000 loops each)\n"
     ]
    }
   ],
   "source": [
    "%%timeit\n",
    "\n",
    "dataset.conversation(0)"
   ]
  },
  {
   "cell_type": "code",
   "execution_count": 17,
   "metadata": {},
   "outputs": [
    {
     "name": "stdout",
     "output_type": "stream",
     "text": [
      "25.4 µs ± 81.5 ns per loop (mean ± std. dev. of 7 runs, 10,000 loops each)\n"
     ]
    }
   ],
   "source": [
    "%%timeit\n",
    "\n",
    "dataset.prompt(0)"
   ]
  },
  {
   "cell_type": "code",
   "execution_count": 18,
   "metadata": {},
   "outputs": [
    {
     "name": "stdout",
     "output_type": "stream",
     "text": [
      "315 µs ± 4.11 µs per loop (mean ± std. dev. of 7 runs, 1,000 loops each)\n"
     ]
    }
   ],
   "source": [
    "%%timeit\n",
    "\n",
    "dataset[0]"
   ]
  },
  {
   "cell_type": "markdown",
   "metadata": {},
   "source": [
    "## 6. Comparing with other datasets"
   ]
  },
  {
   "cell_type": "code",
   "execution_count": 33,
   "metadata": {},
   "outputs": [],
   "source": [
    "import datasets"
   ]
  },
  {
   "cell_type": "code",
   "execution_count": 34,
   "metadata": {},
   "outputs": [],
   "source": [
    "hf_dataset = datasets.load_dataset(\"yahma/alpaca-cleaned\")\n",
    "hf_dataset = hf_dataset[\"train\"]"
   ]
  },
  {
   "cell_type": "markdown",
   "metadata": {},
   "source": [
    "#### Raw Random Access"
   ]
  },
  {
   "cell_type": "code",
   "execution_count": 35,
   "metadata": {},
   "outputs": [
    {
     "name": "stdout",
     "output_type": "stream",
     "text": [
      "5.66 µs ± 56 ns per loop (mean ± std. dev. of 7 runs, 100,000 loops each)\n"
     ]
    }
   ],
   "source": [
    "%%timeit\n",
    "\n",
    "dataset.raw(0)  # use lema dataset random access"
   ]
  },
  {
   "cell_type": "code",
   "execution_count": 36,
   "metadata": {},
   "outputs": [
    {
     "name": "stdout",
     "output_type": "stream",
     "text": [
      "14.6 µs ± 246 ns per loop (mean ± std. dev. of 7 runs, 100,000 loops each)\n"
     ]
    }
   ],
   "source": [
    "%%timeit\n",
    "\n",
    "hf_dataset[0]  # use huggingface dataset random access"
   ]
  },
  {
   "cell_type": "code",
   "execution_count": 37,
   "metadata": {},
   "outputs": [
    {
     "name": "stdout",
     "output_type": "stream",
     "text": [
      "504 ns ± 5.03 ns per loop (mean ± std. dev. of 7 runs, 1,000,000 loops each)\n"
     ]
    }
   ],
   "source": [
    "%%timeit\n",
    "\n",
    "hf_dataset.data[0]  # directly access the arrow table"
   ]
  },
  {
   "cell_type": "markdown",
   "metadata": {},
   "source": [
    "#### With Tokenization"
   ]
  },
  {
   "cell_type": "code",
   "execution_count": null,
   "metadata": {},
   "outputs": [
    {
     "name": "stdout",
     "output_type": "stream",
     "text": [
      "118 ms ± 1.88 ms per loop (mean ± std. dev. of 7 runs, 10 loops each)\n"
     ]
    }
   ],
   "source": [
    "%%timeit\n",
    "\n",
    "# Arrow\n",
    "dataset.tokenize(hf_dataset.data[0])"
   ]
  },
  {
   "cell_type": "code",
   "execution_count": null,
   "metadata": {},
   "outputs": [
    {
     "name": "stdout",
     "output_type": "stream",
     "text": [
      "40 µs ± 205 ns per loop (mean ± std. dev. of 7 runs, 10,000 loops each)\n"
     ]
    }
   ],
   "source": [
    "%%timeit\n",
    "\n",
    "# HF Datasets\n",
    "dataset.tokenize(hf_dataset[0])"
   ]
  },
  {
   "cell_type": "code",
   "execution_count": 21,
   "metadata": {},
   "outputs": [
    {
     "name": "stdout",
     "output_type": "stream",
     "text": [
      "314 µs ± 4.13 µs per loop (mean ± std. dev. of 7 runs, 1,000 loops each)\n"
     ]
    }
   ],
   "source": [
    "%%timeit\n",
    "\n",
    "# HF Datasets\n",
    "dataset[0]"
   ]
  },
  {
   "cell_type": "code",
   "execution_count": 22,
   "metadata": {},
   "outputs": [
    {
     "name": "stdout",
     "output_type": "stream",
     "text": [
      "44.4 µs ± 573 ns per loop (mean ± std. dev. of 7 runs, 10,000 loops each)\n"
     ]
    }
   ],
   "source": [
    "%%timeit\n",
    "\n",
    "# Lema dataset\n",
    "dataset.tokenize(dataset.raw(0))"
   ]
  },
  {
   "cell_type": "code",
   "execution_count": 23,
   "metadata": {},
   "outputs": [
    {
     "name": "stdout",
     "output_type": "stream",
     "text": [
      "316 µs ± 8.6 µs per loop (mean ± std. dev. of 7 runs, 1,000 loops each)\n"
     ]
    }
   ],
   "source": [
    "%%timeit\n",
    "\n",
    "# Full lema pipeline\n",
    "dataset[0]"
   ]
  },
  {
   "cell_type": "markdown",
   "metadata": {},
   "source": [
    "### Iterate over dataset"
   ]
  },
  {
   "cell_type": "code",
   "execution_count": null,
   "metadata": {},
   "outputs": [],
   "source": [
    "%%timeit\n",
    "\n",
    "# Manual iteration\n",
    "[dataset[i] for i in range(len(dataset))];"
   ]
  },
  {
   "cell_type": "code",
   "execution_count": null,
   "metadata": {},
   "outputs": [],
   "source": [
    "%%timeit\n",
    "\n",
    "# With a pytorch data loader\n",
    "loader = DataLoader(dataset, batch_size=1, num_workers=0, shuffle=False)\n",
    "list(loader);"
   ]
  },
  {
   "cell_type": "code",
   "execution_count": 40,
   "metadata": {},
   "outputs": [
    {
     "name": "stdout",
     "output_type": "stream",
     "text": [
      " "
     ]
    },
    {
     "name": "stdout",
     "output_type": "stream",
     "text": [
      "         21800369 function calls (21748606 primitive calls) in 23.434 seconds\n",
      "\n",
      "   Ordered by: internal time\n",
      "\n",
      "   ncalls  tottime  percall  cumtime  percall filename:lineno(function)\n",
      "    51760   14.265    0.000   14.265    0.000 {method 'encode_batch' of 'tokenizers.Tokenizer' objects}\n",
      "   103520    1.456    0.000    1.456    0.000 {built-in method torch.tensor}\n",
      "        1    0.396    0.396   23.434   23.434 <string>:1(<module>)\n",
      "   207040    0.367    0.000    0.611    0.000 {method 'validate_python' of 'pydantic_core._pydantic_core.SchemaValidator' objects}\n",
      "  4547145    0.355    0.000    0.575    0.000 {built-in method builtins.isinstance}\n",
      "   207040    0.259    0.000    0.294    0.000 enum.py:686(__call__)\n",
      "   226197    0.197    0.000    0.719    0.000 series.py:1085(__getitem__)\n",
      "   155280    0.190    0.000    0.294    0.000 sandbox.py:125(is_internal_attribute)\n",
      "    51760    0.182    0.000   19.989    0.000 tokenization_utils_base.py:1684(apply_chat_template)\n",
      "    51760    0.181    0.000    1.603    0.000 base_dataset.py:314(format_inputs)\n",
      "    51760    0.178    0.000    0.183    0.000 tokenization_utils_fast.py:267(_convert_encoding)\n",
      "    51760    0.177    0.000   17.141    0.000 tokenization_utils_fast.py:469(_batch_encode_plus)\n",
      "    51760    0.160    0.000    0.579    0.000 runtime.py:91(new_context)\n",
      "    51760    0.151    0.000    1.971    0.000 tokenization_utils_base.py:681(convert_to_tensors)\n",
      "    51760    0.146    0.000    0.292    0.000 tokenization_utils_fast.py:398(set_truncation_and_padding)\n",
      "    51760    0.121    0.000   17.265    0.000 tokenization_gpt2_fast.py:121(_batch_encode_plus)\n",
      "   277957    0.120    0.000    0.173    0.000 indexing.py:2758(check_dict_or_set_indexers)\n",
      "   226197    0.120    0.000    0.324    0.000 series.py:1210(_get_value)\n",
      "    51760    0.115    0.000    0.759    0.000 frame.py:3971(_ixs)\n",
      "   362320    0.114    0.000    0.931    0.000 <template>:4(root)\n",
      "   776400    0.113    0.000    0.192    0.000 {built-in method builtins.getattr}\n",
      "   226197    0.097    0.000    0.110    0.000 base.py:3774(get_loc)\n",
      "    51760    0.095    0.000   17.881    0.000 tokenization_utils_base.py:2784(__call__)\n",
      "   362320    0.094    0.000    0.094    0.000 __init__.py:1000(__getitem__)\n",
      "   103520    0.092    0.000    0.144    0.000 __init__.py:1014(__iter__)\n",
      "    51760    0.091    0.000   17.683    0.000 tokenization_utils_base.py:2985(encode_plus)\n",
      "    51760    0.090    0.000    0.198    0.000 managers.py:959(fast_xs)\n",
      "   155280    0.088    0.000    0.279    0.000 sandbox.py:162(modifies_known_mutable)\n",
      "    51760    0.087    0.000    1.116    0.000 indexing.py:1720(_getitem_axis)\n",
      "    51760    0.084    0.000   17.368    0.000 tokenization_utils_fast.py:554(_encode_plus)\n",
      "    51760    0.082    0.000    0.118    0.000 generic.py:6230(__finalize__)\n",
      "    51760    0.081    0.000    0.173    0.000 tokenization_utils_base.py:2646(_get_padding_truncation_strategies)\n",
      "    51760    0.074    0.000    0.167    0.000 runtime.py:163(__init__)\n",
      "    51760    0.074    0.000   17.774    0.000 tokenization_utils_base.py:2873(_call_one)\n",
      "   155280    0.072    0.000    0.072    0.000 generic.py:6295(__setattr__)\n",
      "   155280    0.070    0.000    0.713    0.000 sandbox.py:402(is_safe_attribute)\n",
      "   517600    0.068    0.000    0.127    0.000 <frozen abc>:117(__instancecheck__)\n",
      "    51760    0.066    0.000    2.156    0.000 tokenization_utils_base.py:204(__init__)\n",
      "    51760    0.065    0.000    0.232    0.000 tokenization_utils_base.py:1293(special_tokens_map)\n",
      "    51760    0.063    0.000    1.243    0.000 indexing.py:1177(__getitem__)\n",
      "   517600    0.059    0.000    0.059    0.000 {built-in method _abc._abc_instancecheck}\n",
      "    51760    0.058    0.000    0.137    0.000 copy.py:128(deepcopy)\n",
      "   155280    0.057    0.000    0.783    0.000 sandbox.py:321(getattr)\n",
      "    51760    0.053    0.000    0.067    0.000 generic.py:278(__init__)\n",
      "   103520    0.053    0.000    1.518    0.000 tokenization_utils_base.py:718(as_tensor)\n",
      "   155280    0.052    0.000    0.364    0.000 sandbox.py:258(is_safe_attribute)\n",
      "    51760    0.051    0.000   20.043    0.000 base_dataset.py:240(tokenize)\n",
      "    51760    0.049    0.000    1.629    0.000 environment.py:1269(render)\n",
      "    51760    0.048    0.000    0.979    0.000 {method 'join' of 'str' objects}\n",
      "   207040    0.047    0.000    0.659    0.000 main.py:161(__init__)\n",
      "    51760    0.047    0.000   17.419    0.000 tokenization_gpt2_fast.py:130(_encode_plus)\n",
      "   226197    0.047    0.000    0.093    0.000 series.py:826(_values)\n",
      "    51760    0.046    0.000    0.092    0.000 <frozen _collections_abc>:941(update)\n",
      "   155280    0.046    0.000    0.108    0.000 _std_types_schema.py:91(to_enum)\n",
      "   277957    0.045    0.000    0.059    0.000 common.py:370(apply_if_callable)\n",
      "   103520    0.045    0.000    0.142    0.000 tokenization_utils_base.py:1215(pad_token_id)\n",
      "   103520    0.043    0.000    0.043    0.000 tokenization_gpt2_fast.py:144(default_chat_template)\n",
      "   207040    0.041    0.000    0.094    0.000 generic.py:42(_instancecheck)\n",
      "    51760    0.041    0.000    1.294    0.000 base_dataset.py:72(raw)\n",
      "   414080    0.041    0.000    0.119    0.000 <frozen _collections_abc>:835(__iter__)\n",
      "   207040    0.040    0.000    0.053    0.000 generic.py:37(_check)\n",
      "   226197    0.040    0.000    0.047    0.000 managers.py:2003(internal_values)\n",
      "    51760    0.039    0.000    0.077    0.000 blocks.py:2709(new_block)\n",
      "    51760    0.039    0.000   21.684    0.000 base_dataset.py:236(preprocess_inputs)\n",
      "   258800    0.039    0.000    0.039    0.000 tokenization_utils_base.py:1083(pad_token)\n",
      "   103520    0.036    0.000    0.081    0.000 tokenization_utils_fast.py:314(convert_tokens_to_ids)\n",
      "   207040    0.035    0.000    0.035    0.000 enum.py:1093(__new__)\n",
      "   207040    0.035    0.000    0.035    0.000 runtime.py:227(resolve_or_missing)\n",
      "        1    0.034    0.034   23.038   23.038 <string>:1(<listcomp>)\n",
      "310564/258801    0.034    0.000    0.045    0.000 {built-in method builtins.len}\n",
      "    51760    0.033    0.000    0.045    0.000 tokenization_utils_fast.py:448(<dictcomp>)\n",
      "   310560    0.031    0.000    0.031    0.000 {method 'startswith' of 'str' objects}\n",
      "    51760    0.030    0.000    0.187    0.000 frame.py:672(_constructor_sliced_from_mgr)\n",
      "   103520    0.029    0.000    0.044    0.000 managers.py:292(arrays)\n",
      "    51760    0.029    0.000    0.094    0.000 indexing.py:1668(_validate_integer)\n",
      "    51760    0.029    0.000    0.036    0.000 copy.py:243(_keep_alive)\n",
      "   362320    0.029    0.000    0.029    0.000 {built-in method builtins.hasattr}\n",
      "    51760    0.028    0.000    0.038    0.000 blocks.py:2667(get_block_type)\n",
      "   414080    0.027    0.000    0.027    0.000 {method 'get' of 'dict' objects}\n",
      "   207040    0.027    0.000    0.027    0.000 {built-in method fromkeys}\n",
      "   207040    0.027    0.000    0.027    0.000 __init__.py:1128(__setitem__)\n",
      "    51760    0.026    0.000    0.029    0.000 range.py:1009(__getitem__)\n",
      "    51760    0.026    0.000    0.035    0.000 generic.py:585(_get_axis)\n",
      "    51760    0.025    0.000    0.099    0.000 generic.py:339(_from_mgr)\n",
      "    51760    0.025    0.000    0.209    0.000 tokenization_utils_fast.py:516(<listcomp>)\n",
      "   103520    0.025    0.000    0.068    0.000 base.py:332(array)\n",
      "   103520    0.025    0.000    0.041    0.000 tokenization_utils_fast.py:333(_convert_token_to_id_with_added_voc)\n",
      "    51760    0.025    0.000   23.003    0.000 base_dataset.py:51(__getitem__)\n",
      "   258800    0.023    0.000    0.023    0.000 {method 'update' of 'dict' objects}\n",
      "    51760    0.022    0.000    0.029    0.000 copy.py:227(_deepcopy_dict)\n",
      "    51760    0.021    0.000    0.601    0.000 environment.py:1375(new_context)\n",
      "   103520    0.021    0.000    0.021    0.000 tokenization_utils_fast.py:538(<listcomp>)\n",
      "   103520    0.021    0.000    0.031    0.000 __init__.py:584(is_tensor)\n",
      "    51760    0.021    0.000    0.118    0.000 common.py:97(is_bool_indexer)\n",
      "    51760    0.020    0.000    0.112    0.000 __init__.py:1111(__init__)\n",
      "   381477    0.019    0.000    0.019    0.000 {built-in method builtins.callable}\n",
      "    51760    0.019    0.000    0.025    0.000 tokenization_utils_base.py:1118(additional_special_tokens)\n",
      "    51760    0.017    0.000    0.023    0.000 enum.py:193(__get__)\n",
      "   310560    0.017    0.000    0.017    0.000 {method 'append' of 'list' objects}\n",
      "    51760    0.017    0.000    0.024    0.000 <frozen _collections_abc>:786(keys)\n",
      "    51760    0.016    0.000    0.019    0.000 nodes.py:74(__init__)\n",
      "   103520    0.016    0.000    0.016    0.000 {method 'token_to_id' of 'tokenizers.Tokenizer' objects}\n",
      "    51760    0.015    0.000    0.114    0.000 frame.py:669(_sliced_from_mgr)\n",
      "    51760    0.015    0.000    0.015    0.000 flags.py:87(allows_duplicate_labels)\n",
      "   207040    0.015    0.000    0.015    0.000 {built-in method builtins.id}\n",
      "    51760    0.014    0.000    0.014    0.000 blocks.py:1253(iget)\n",
      "   103520    0.014    0.000    0.014    0.000 managers.py:304(<listcomp>)\n",
      "    51760    0.014    0.000    0.225    0.000 generic.py:4520(get)\n",
      "   226197    0.014    0.000    0.014    0.000 base.py:6671(_maybe_cast_indexer)\n",
      "    51760    0.014    0.000    0.016    0.000 indexing.py:1166(_check_deprecated_callable_usage)\n",
      "    51760    0.014    0.000    0.014    0.000 flags.py:51(__init__)\n",
      "    51760    0.013    0.000    0.015    0.000 tokenization_utils_base.py:243(__getitem__)\n",
      "   207040    0.013    0.000    0.013    0.000 {method 'items' of 'dict' objects}\n",
      "    51760    0.012    0.000    0.012    0.000 tokenization_utils_base.py:1038(bos_token)\n",
      "    51760    0.012    0.000    0.027    0.000 generic.py:4373(_set_is_copy)\n",
      "    51760    0.011    0.000    0.011    0.000 utils.py:62(is_list_like_indexer)\n",
      "    19157    0.011    0.000    0.011    0.000 {method 'format' of 'str' objects}\n",
      "    51760    0.011    0.000    0.013    0.000 tokenization_utils_base.py:2895(_is_valid_text_input)\n",
      "    51760    0.011    0.000    0.014    0.000 tokenization_utils_base.py:287(items)\n",
      "    51760    0.011    0.000    0.017    0.000 __init__.py:1023(__bool__)\n",
      "    51760    0.011    0.000    0.011    0.000 indexing.py:161(iloc)\n",
      "    51761    0.011    0.000    0.016    0.000 range.py:999(__len__)\n",
      "    51760    0.010    0.000    0.010    0.000 managers.py:1836(__init__)\n",
      "   136123    0.009    0.000    0.009    0.000 typing.py:2268(cast)\n",
      "    51760    0.009    0.000    0.009    0.000 generic.py:571(_get_axis_number)\n",
      "   103520    0.009    0.000    0.009    0.000 tokenization_utils_base.py:3883(_eventual_warn_about_too_long_sequence)\n",
      "   103520    0.009    0.000    0.009    0.000 generic.py:404(flags)\n",
      "    51760    0.009    0.000    0.009    0.000 tokenization_utils_fast.py:540(<listcomp>)\n",
      "    51760    0.008    0.000    0.008    0.000 tokenization_utils_base.py:1071(sep_token)\n",
      "   103520    0.008    0.000    0.008    0.000 tokenization_utils_base.py:3903(_switch_to_input_mode)\n",
      "    51760    0.008    0.000    0.008    0.000 tokenization_utils_base.py:1049(eos_token)\n",
      "    51760    0.007    0.000    0.007    0.000 tokenization_utils_base.py:1060(unk_token)\n",
      "   103520    0.007    0.000    0.007    0.000 {method 'pop' of 'dict' objects}\n",
      "    51760    0.007    0.000    0.007    0.000 managers.py:1939(_block)\n",
      "    51760    0.007    0.000    0.007    0.000 <frozen _collections_abc>:812(__init__)\n",
      "    51760    0.007    0.000    0.007    0.000 {built-in method __new__ of type object at 0x1029bd600}\n",
      "   103520    0.006    0.000    0.006    0.000 {built-in method builtins.iter}\n",
      "    51760    0.006    0.000    0.006    0.000 tokenization_utils_base.py:1094(cls_token)\n",
      "    51760    0.006    0.000    0.006    0.000 enum.py:1255(value)\n",
      "    51760    0.006    0.000    0.006    0.000 {built-in method builtins.any}\n",
      "    51760    0.006    0.000    0.006    0.000 tokenization_utils_base.py:1106(mask_token)\n",
      "    51760    0.006    0.000    0.006    0.000 tokenization_utils_base.py:1128(<listcomp>)\n",
      "    51760    0.006    0.000    0.006    0.000 import_utils.py:290(is_torch_available)\n",
      "    51760    0.005    0.000    0.005    0.000 generic.py:362(attrs)\n",
      "    51760    0.005    0.000    0.005    0.000 runtime.py:182(<dictcomp>)\n",
      "    51760    0.005    0.000    0.005    0.000 tokenization_utils_base.py:1224(pad_token_type_id)\n",
      "    51760    0.005    0.000    0.005    0.000 flags.py:55(allows_duplicate_labels)\n",
      "    51760    0.004    0.000    0.004    0.000 {method 'keys' of 'dict' objects}\n",
      "        1    0.000    0.000   23.434   23.434 {built-in method builtins.exec}\n",
      "        1    0.000    0.000    0.000    0.000 frame.py:1631(__len__)\n",
      "        1    0.000    0.000    0.000    0.000 base_dataset.py:64(__len__)\n",
      "        1    0.000    0.000    0.000    0.000 {method 'disable' of '_lsprof.Profiler' objects}"
     ]
    }
   ],
   "source": [
    "%prun [dataset[i] for i in range(len(dataset))];"
   ]
  },
  {
   "cell_type": "code",
   "execution_count": 43,
   "metadata": {},
   "outputs": [
    {
     "name": "stdout",
     "output_type": "stream",
     "text": [
      "Timer unit: 1e-09 s\n",
      "\n",
      "Total time: 21.6536 s\n",
      "File: /Users/oussamaelachqar/source/lema/lema/src/lema/core/types/base_dataset.py\n",
      "Function: __getitem__ at line 51\n",
      "\n",
      "Line #      Hits         Time  Per Hit   % Time  Line Contents\n",
      "==============================================================\n",
      "    51                                               def __getitem__(self, idx: int) -> Union[Conversation, dict]:\n",
      "    52                                                   \"\"\"Gets the item at the specified index.\n",
      "    53                                           \n",
      "    54                                                   Args:\n",
      "    55                                                       idx (int): The index of the item to retrieve.\n",
      "    56                                           \n",
      "    57                                                   Returns:\n",
      "    58                                                       dict: The item at the specified index.\n",
      "    59                                                   \"\"\"\n",
      "    60     51760 1041049000.0  20113.0      4.8          sample = self.raw(idx)\n",
      "    61     51760        2e+10 398108.2     95.2          processed = self.preprocess_inputs(sample)\n",
      "    62     51760    6509000.0    125.8      0.0          return processed"
     ]
    }
   ],
   "source": [
    "%lprun -f dataset.__getitem__ [dataset[i] for i in range(len(dataset))];"
   ]
  },
  {
   "cell_type": "code",
   "execution_count": 45,
   "metadata": {},
   "outputs": [
    {
     "name": "stderr",
     "output_type": "stream",
     "text": [
      "huggingface/tokenizers: The current process just got forked, after parallelism has already been used. Disabling parallelism to avoid deadlocks...\n",
      "To disable this warning, you can either:\n",
      "\t- Avoid using `tokenizers` before the fork if possible\n",
      "\t- Explicitly set the environment variable TOKENIZERS_PARALLELISM=(true | false)\n"
     ]
    },
    {
     "name": "stdout",
     "output_type": "stream",
     "text": [
      "peak memory: 3034.42 MiB, increment: 317.41 MiB\n"
     ]
    }
   ],
   "source": [
    "%memit [dataset[i] for i in range(len(dataset))]"
   ]
  },
  {
   "cell_type": "markdown",
   "metadata": {},
   "source": [
    "## 7. Benchmark with Model Forward Pass"
   ]
  },
  {
   "cell_type": "code",
   "execution_count": 27,
   "metadata": {},
   "outputs": [
    {
     "name": "stderr",
     "output_type": "stream",
     "text": [
      "/Users/oussamaelachqar/miniconda3/envs/dev/lib/python3.11/site-packages/huggingface_hub/file_download.py:1132: FutureWarning: `resume_download` is deprecated and will be removed in version 1.0.0. Downloads always resume when possible. If you want to force a new download, use `force_download=True`.\n",
      "  warnings.warn(\n"
     ]
    },
    {
     "name": "stdout",
     "output_type": "stream",
     "text": [
      "CPU times: user 928 ms, sys: 1.59 s, total: 2.52 s\n",
      "Wall time: 706 ms\n"
     ]
    }
   ],
   "source": [
    "%%time\n",
    "\n",
    "model = AutoModelForCausalLM.from_pretrained(\"gpt2\")"
   ]
  },
  {
   "cell_type": "code",
   "execution_count": 28,
   "metadata": {},
   "outputs": [],
   "source": [
    "loader = DataLoader(dataset, batch_size=1, num_workers=0, shuffle=False)"
   ]
  },
  {
   "cell_type": "code",
   "execution_count": 34,
   "metadata": {},
   "outputs": [
    {
     "name": "stdout",
     "output_type": "stream",
     "text": [
      "77.5 ms ± 1.55 ms per loop (mean ± std. dev. of 7 runs, 10 loops each)\n"
     ]
    }
   ],
   "source": [
    "%%timeit\n",
    "\n",
    "# Including pre-processing\n",
    "# Excluding pre-processing\n",
    "with torch.no_grad():\n",
    "    batch = next(iter(loader))\n",
    "    model.forward(**batch)"
   ]
  },
  {
   "cell_type": "code",
   "execution_count": 31,
   "metadata": {},
   "outputs": [],
   "source": [
    "fixed_batch = next(iter(loader))"
   ]
  },
  {
   "cell_type": "code",
   "execution_count": 33,
   "metadata": {},
   "outputs": [
    {
     "name": "stdout",
     "output_type": "stream",
     "text": [
      "77.2 ms ± 1.78 ms per loop (mean ± std. dev. of 7 runs, 10 loops each)\n"
     ]
    }
   ],
   "source": [
    "%%timeit\n",
    "\n",
    "# Excluding pre-processing\n",
    "with torch.no_grad():\n",
    "    model.forward(**fixed_batch)"
   ]
  },
  {
   "cell_type": "code",
   "execution_count": null,
   "metadata": {},
   "outputs": [],
   "source": []
  }
 ],
 "metadata": {
  "kernelspec": {
   "display_name": "dev",
   "language": "python",
   "name": "python3"
  },
  "language_info": {
   "codemirror_mode": {
    "name": "ipython",
    "version": 3
   },
   "file_extension": ".py",
   "mimetype": "text/x-python",
   "name": "python",
   "nbconvert_exporter": "python",
   "pygments_lexer": "ipython3",
   "version": "3.11.8"
  }
 },
 "nbformat": 4,
 "nbformat_minor": 2
}
