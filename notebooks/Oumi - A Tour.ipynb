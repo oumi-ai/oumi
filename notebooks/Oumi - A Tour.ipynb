{
 "cells": [
  {
   "cell_type": "markdown",
   "metadata": {
    "id": "S7bYaH10SgtN"
   },
   "source": [
    "# A Tour of Oumi"
   ]
  },
  {
   "cell_type": "markdown",
   "metadata": {
    "id": "QkhNGqE1SgtP"
   },
   "source": [
    "Welcome to Open Universal Machine Intelligence (Oumi)! We created this platform to democratize the development of large models for the open source world. We strongly believe that together, as a community, we can push the boundaries of AI.\n",
    "\n",
    "This tutorial will give you a brief overview of Oumi's core functionality. We'll cover:\n",
    "\n",
    "1. Training a model\n",
    "1. Performing model inference\n",
    "1. Evaluating a model against common benchmarks\n",
    "1. Launching jobs\n",
    "1. Customizing datasets and clouds"
   ]
  },
  {
   "cell_type": "markdown",
   "metadata": {
    "id": "fHDr11SqSgtP"
   },
   "source": [
    "# Prerequisites\n",
    "## Oumi Installation\n",
    "First, let's install Oumi. You can find detailed instructions [here](https://github.com/oumi-ai/oumi/blob/main/README.md), but it should be as simple as:\n",
    "\n",
    "```bash\n",
    "pip install -e \".[gpu]\"  # if you have an nvidia or AMD GPU\n",
    "# OR\n",
    "pip install -e \".\"  # if you don't have a GPU\n",
    "```"
   ]
  },
  {
   "cell_type": "code",
   "execution_count": 1,
   "metadata": {
    "id": "JPmWKRVCSgtP"
   },
   "outputs": [],
   "source": [
    "import os\n",
    "from pathlib import Path\n",
    "\n",
    "tutorial_dir = \"tour_tutorial\"\n",
    "\n",
    "Path(tutorial_dir).mkdir(parents=True, exist_ok=True)\n",
    "os.environ[\"TOKENIZERS_PARALLELISM\"] = \"false\"  # Disable warnings from HF."
   ]
  },
  {
   "cell_type": "markdown",
   "metadata": {
    "id": "m8PTJuc4SgtQ"
   },
   "source": [
    "# Training a Model"
   ]
  },
  {
   "cell_type": "markdown",
   "metadata": {
    "id": "b2_HamuySgtQ"
   },
   "source": [
    "Oumi supports training both custom and out-of-the-box models. Want to try out a model on HuggingFace? We can do that. Want to train your own custom Pytorch model? We've got you covered there too.\n",
    "\n",
    "## A Quick Demo\n",
    "\n",
    "Let's try training a pre-existing model on HuggingFace. We'll use SmolLM2 135M as it's small and trains quickly.\n",
    "\n",
    "Oumi uses [training configuration files](https://oumi.ai/docs/latest/api/oumi.core.configs.html#oumi.core.configs.TrainingConfig) to specify training parameters. We've already created a training config for SmolLM2--let's give it a try!"
   ]
  },
  {
   "cell_type": "code",
   "execution_count": 2,
   "metadata": {
    "id": "l2SQ9fZiSgtQ"
   },
   "outputs": [],
   "source": [
    "yaml_content = f\"\"\"\n",
    "model:\n",
    "  model_name: \"HuggingFaceTB/SmolLM2-135M-Instruct\"\n",
    "  torch_dtype_str: \"bfloat16\"\n",
    "  trust_remote_code: True\n",
    "\n",
    "data:\n",
    "  train:\n",
    "    datasets:\n",
    "      - dataset_name: \"yahma/alpaca-cleaned\"\n",
    "    target_col: \"prompt\"\n",
    "\n",
    "training:\n",
    "  trainer_type: \"TRL_SFT\"\n",
    "  per_device_train_batch_size: 2\n",
    "  max_steps: 10 # Quick \"mini\" training, for demo purposes only.\n",
    "  run_name: \"smollm2_135m_sft\"\n",
    "  output_dir: \"{tutorial_dir}/output\"\n",
    "\"\"\"\n",
    "\n",
    "with open(f\"{tutorial_dir}/train.yaml\", \"w\") as f:\n",
    "    f.write(yaml_content)"
   ]
  },
  {
   "cell_type": "code",
   "execution_count": 3,
   "metadata": {
    "id": "2GpQDGG5SgtQ"
   },
   "outputs": [
    {
     "name": "stderr",
     "output_type": "stream",
     "text": [
      "[2025-01-22 09:01:17,535][oumi][rank0][pid:2761258][MainThread][INFO]][torch_utils.py:66] Torch version: 2.4.0+cu121. NumPy version: 1.26.4\n",
      "[2025-01-22 09:01:17,536][oumi][rank0][pid:2761258][MainThread][INFO]][torch_utils.py:72] CUDA version: 12.1 CuDNN version: 90.1.0\n",
      "[2025-01-22 09:01:17,720][oumi][rank0][pid:2761258][MainThread][INFO]][torch_utils.py:106] CPU cores: 24 CUDA devices: 1\n",
      "device(0)='NVIDIA GeForce RTX 3090' Capability: (8, 6) Memory: [Total: 24.0GiB Free: 22.76GiB Allocated: 0.0GiB Cached: 0.0GiB]\n",
      "[2025-01-22 09:01:17,722][oumi][rank0][pid:2761258][MainThread][INFO]][train.py:133] Oumi version: 0.1.2.1\n",
      "[2025-01-22 09:01:17,725][oumi][rank0][pid:2761258][MainThread][INFO]][train.py:174] TrainingConfig: TrainingConfig(data=DataParams(train=DatasetSplitParams(datasets=[DatasetParams(dataset_name='yahma/alpaca-cleaned',\n",
      "                                                                                dataset_path=None,\n",
      "                                                                                subset=None,\n",
      "                                                                                split='train',\n",
      "                                                                                dataset_kwargs={},\n",
      "                                                                                sample_count=None,\n",
      "                                                                                mixture_proportion=None,\n",
      "                                                                                shuffle=False,\n",
      "                                                                                seed=None,\n",
      "                                                                                shuffle_buffer_size=1000,\n",
      "                                                                                trust_remote_code=False,\n",
      "                                                                                transform_num_workers=None)],\n",
      "                                                        collator_name=None,\n",
      "                                                        pack=False,\n",
      "                                                        stream=False,\n",
      "                                                        target_col='prompt',\n",
      "                                                        mixture_strategy='first_exhausted',\n",
      "                                                        seed=None,\n",
      "                                                        use_async_dataset=False,\n",
      "                                                        experimental_use_torch_datapipes=False),\n",
      "                               test=DatasetSplitParams(datasets=[],\n",
      "                                                       collator_name=None,\n",
      "                                                       pack=False,\n",
      "                                                       stream=False,\n",
      "                                                       target_col=None,\n",
      "                                                       mixture_strategy='first_exhausted',\n",
      "                                                       seed=None,\n",
      "                                                       use_async_dataset=False,\n",
      "                                                       experimental_use_torch_datapipes=False),\n",
      "                               validation=DatasetSplitParams(datasets=[],\n",
      "                                                             collator_name=None,\n",
      "                                                             pack=False,\n",
      "                                                             stream=False,\n",
      "                                                             target_col=None,\n",
      "                                                             mixture_strategy='first_exhausted',\n",
      "                                                             seed=None,\n",
      "                                                             use_async_dataset=False,\n",
      "                                                             experimental_use_torch_datapipes=False)),\n",
      "               model=ModelParams(model_name='HuggingFaceTB/SmolLM2-135M-Instruct',\n",
      "                                 adapter_model=None,\n",
      "                                 tokenizer_name=None,\n",
      "                                 tokenizer_pad_token=None,\n",
      "                                 tokenizer_kwargs={},\n",
      "                                 model_max_length=None,\n",
      "                                 load_pretrained_weights=True,\n",
      "                                 trust_remote_code=True,\n",
      "                                 torch_dtype_str='bfloat16',\n",
      "                                 compile=False,\n",
      "                                 chat_template=None,\n",
      "                                 attn_implementation=None,\n",
      "                                 device_map='auto',\n",
      "                                 model_kwargs={},\n",
      "                                 enable_liger_kernel=False,\n",
      "                                 shard_for_eval=False,\n",
      "                                 freeze_layers=[]),\n",
      "               training=TrainingParams(use_peft=False,\n",
      "                                       trainer_type=<TrainerType.TRL_SFT: 'trl_sft'>,\n",
      "                                       enable_gradient_checkpointing=False,\n",
      "                                       gradient_checkpointing_kwargs={},\n",
      "                                       output_dir='tour_tutorial/output',\n",
      "                                       per_device_train_batch_size=2,\n",
      "                                       per_device_eval_batch_size=8,\n",
      "                                       gradient_accumulation_steps=1,\n",
      "                                       max_steps=10,\n",
      "                                       num_train_epochs=3,\n",
      "                                       save_epoch=False,\n",
      "                                       save_steps=500,\n",
      "                                       save_final_model=True,\n",
      "                                       seed=42,\n",
      "                                       run_name='smollm2_135m_sft',\n",
      "                                       metrics_function=None,\n",
      "                                       log_level='info',\n",
      "                                       dep_log_level='warning',\n",
      "                                       enable_wandb=False,\n",
      "                                       enable_tensorboard=True,\n",
      "                                       logging_strategy='steps',\n",
      "                                       logging_dir=None,\n",
      "                                       logging_steps=50,\n",
      "                                       logging_first_step=False,\n",
      "                                       eval_strategy='no',\n",
      "                                       eval_steps=500,\n",
      "                                       learning_rate=5e-05,\n",
      "                                       lr_scheduler_type='linear',\n",
      "                                       lr_scheduler_kwargs={},\n",
      "                                       warmup_ratio=None,\n",
      "                                       warmup_steps=None,\n",
      "                                       optimizer='adamw_torch',\n",
      "                                       weight_decay=0.0,\n",
      "                                       adam_beta1=0.9,\n",
      "                                       adam_beta2=0.999,\n",
      "                                       adam_epsilon=1e-08,\n",
      "                                       sgd_momentum=0.0,\n",
      "                                       mixed_precision_dtype=<MixedPrecisionDtype.NONE: 'none'>,\n",
      "                                       compile=False,\n",
      "                                       include_performance_metrics=False,\n",
      "                                       include_alternative_mfu_metrics=False,\n",
      "                                       log_model_summary=False,\n",
      "                                       resume_from_checkpoint=None,\n",
      "                                       try_resume_from_last_checkpoint=False,\n",
      "                                       dataloader_num_workers=0,\n",
      "                                       dataloader_prefetch_factor=None,\n",
      "                                       dataloader_main_process_only=None,\n",
      "                                       ddp_find_unused_parameters=None,\n",
      "                                       max_grad_norm=1.0,\n",
      "                                       trainer_kwargs={},\n",
      "                                       profiler=ProfilerParams(save_dir=None,\n",
      "                                                               enable_cpu_profiling=False,\n",
      "                                                               enable_cuda_profiling=False,\n",
      "                                                               record_shapes=False,\n",
      "                                                               profile_memory=False,\n",
      "                                                               with_stack=False,\n",
      "                                                               with_flops=False,\n",
      "                                                               with_modules=False,\n",
      "                                                               row_limit=50,\n",
      "                                                               schedule=ProfilerScheduleParams(enable_schedule=False,\n",
      "                                                                                               wait=0,\n",
      "                                                                                               warmup=1,\n",
      "                                                                                               active=3,\n",
      "                                                                                               repeat=1,\n",
      "                                                                                               skip_first=1)),\n",
      "                                       telemetry=TelemetryParams(telemetry_dir='telemetry',\n",
      "                                                                 collect_telemetry_for_all_ranks=False,\n",
      "                                                                 track_gpu_temperature=False),\n",
      "                                       empty_device_cache_steps=None,\n",
      "                                       nccl_default_timeout_minutes=None),\n",
      "               peft=PeftParams(lora_r=8,\n",
      "                               lora_alpha=8,\n",
      "                               lora_dropout=0.0,\n",
      "                               lora_target_modules=None,\n",
      "                               lora_modules_to_save=None,\n",
      "                               lora_bias='none',\n",
      "                               init_lora_weights=<LoraWeightInitialization.DEFAULT: 'default'>,\n",
      "                               lora_task_type=<TaskType.CAUSAL_LM: 'CAUSAL_LM'>,\n",
      "                               q_lora=False,\n",
      "                               q_lora_bits=4,\n",
      "                               bnb_4bit_quant_type='fp4',\n",
      "                               use_bnb_nested_quant=False,\n",
      "                               bnb_4bit_quant_storage='uint8',\n",
      "                               bnb_4bit_compute_dtype='float32',\n",
      "                               peft_save_mode=<PeftSaveMode.ADAPTER_ONLY: 'adapter_only'>),\n",
      "               fsdp=FSDPParams(enable_fsdp=False,\n",
      "                               sharding_strategy=<ShardingStrategy.FULL_SHARD: 'FULL_SHARD'>,\n",
      "                               cpu_offload=False,\n",
      "                               mixed_precision=None,\n",
      "                               backward_prefetch=<BackwardPrefetch.BACKWARD_PRE: 'BACKWARD_PRE'>,\n",
      "                               forward_prefetch=False,\n",
      "                               use_orig_params=None,\n",
      "                               state_dict_type=<StateDictType.FULL_STATE_DICT: 'FULL_STATE_DICT'>,\n",
      "                               auto_wrap_policy=<AutoWrapPolicy.NO_WRAP: 'NO_WRAP'>,\n",
      "                               min_num_params=100000,\n",
      "                               transformer_layer_cls=None,\n",
      "                               sync_module_states=True))\n",
      "[2025-01-22 09:01:18,206][oumi][rank0][pid:2761258][MainThread][INFO]][models.py:186] Building model using device_map: auto (DeviceRankInfo(world_size=1, rank=0, local_world_size=1, local_rank=0))...\n",
      "[2025-01-22 09:01:18,207][oumi][rank0][pid:2761258][MainThread][INFO]][models.py:256] Using model class: <class 'transformers.models.auto.modeling_auto.AutoModelForCausalLM'> to instantiate model.\n",
      "INFO:accelerate.utils.modeling:We will use 90% of the memory on device 0 for storing the model, and 10% for the buffer to avoid OOM. You can set `max_memory` in to a higher value to use more memory (at your own risk).\n",
      "[2025-01-22 09:01:18,605][oumi][rank0][pid:2761258][MainThread][INFO]][base_map_dataset.py:68] Creating map dataset (type: AlpacaDataset) dataset_name: 'yahma/alpaca-cleaned', dataset_path: 'None'...\n",
      "[2025-01-22 09:01:20,519][oumi][rank0][pid:2761258][MainThread][INFO]][base_map_dataset.py:472] Dataset Info:\n",
      "\tSplit: train\n",
      "\tVersion: 0.0.0\n",
      "\tDataset size: 40283906\n",
      "\tDownload size: 44307561\n",
      "\tSize: 84591467 bytes\n",
      "\tRows: 51760\n",
      "\tColumns: ['output', 'input', 'instruction']\n",
      "[2025-01-22 09:01:20,706][oumi][rank0][pid:2761258][MainThread][INFO]][base_map_dataset.py:411] Loaded DataFrame with shape: (51760, 3). Columns:\n",
      "output         object\n",
      "input          object\n",
      "instruction    object\n",
      "dtype: object\n",
      "[2025-01-22 09:01:20,764][oumi][rank0][pid:2761258][MainThread][INFO]][base_map_dataset.py:297] AlpacaDataset: features=dict_keys(['input_ids', 'attention_mask'])\n",
      "[2025-01-22 09:01:22,053][oumi][rank0][pid:2761258][MainThread][INFO]][base_map_dataset.py:361] Finished transforming dataset (AlpacaDataset)! Speed: 40168.83 examples/sec. Examples: 51760. Duration: 1.3 sec. Transform workers: 1.\n",
      "[2025-01-22 09:01:22,215][oumi][rank0][pid:2761258][MainThread][INFO]][torch_profiler_utils.py:150] PROF: Torch Profiler disabled!\n",
      "[2025-01-22 09:01:22,237][oumi][rank0][pid:2761258][MainThread][INFO]][training.py:49] SFTConfig(output_dir='tour_tutorial/output',\n",
      "          overwrite_output_dir=False,\n",
      "          do_train=False,\n",
      "          do_eval=False,\n",
      "          do_predict=False,\n",
      "          eval_strategy=<IntervalStrategy.NO: 'no'>,\n",
      "          prediction_loss_only=False,\n",
      "          per_device_train_batch_size=2,\n",
      "          per_device_eval_batch_size=8,\n",
      "          per_gpu_train_batch_size=None,\n",
      "          per_gpu_eval_batch_size=None,\n",
      "          gradient_accumulation_steps=1,\n",
      "          eval_accumulation_steps=None,\n",
      "          eval_delay=0,\n",
      "          torch_empty_cache_steps=None,\n",
      "          learning_rate=5e-05,\n",
      "          weight_decay=0.0,\n",
      "          adam_beta1=0.9,\n",
      "          adam_beta2=0.999,\n",
      "          adam_epsilon=1e-08,\n",
      "          max_grad_norm=1.0,\n",
      "          num_train_epochs=3,\n",
      "          max_steps=10,\n",
      "          lr_scheduler_type=<SchedulerType.LINEAR: 'linear'>,\n",
      "          lr_scheduler_kwargs={},\n",
      "          warmup_ratio=0.0,\n",
      "          warmup_steps=0,\n",
      "          log_level='warning',\n",
      "          log_level_replica='warning',\n",
      "          log_on_each_node=True,\n",
      "          logging_dir='tour_tutorial/output/runs/Jan22_09-01-22_PUGET-SYSTEMS',\n",
      "          logging_strategy=<IntervalStrategy.STEPS: 'steps'>,\n",
      "          logging_first_step=False,\n",
      "          logging_steps=50,\n",
      "          logging_nan_inf_filter=True,\n",
      "          save_strategy=<IntervalStrategy.STEPS: 'steps'>,\n",
      "          save_steps=500,\n",
      "          save_total_limit=None,\n",
      "          save_safetensors=True,\n",
      "          save_on_each_node=False,\n",
      "          save_only_model=False,\n",
      "          restore_callback_states_from_checkpoint=False,\n",
      "          no_cuda=False,\n",
      "          use_cpu=False,\n",
      "          use_mps_device=False,\n",
      "          seed=42,\n",
      "          data_seed=None,\n",
      "          jit_mode_eval=False,\n",
      "          use_ipex=False,\n",
      "          bf16=False,\n",
      "          fp16=False,\n",
      "          fp16_opt_level='O1',\n",
      "          half_precision_backend='auto',\n",
      "          bf16_full_eval=False,\n",
      "          fp16_full_eval=False,\n",
      "          tf32=None,\n",
      "          local_rank=0,\n",
      "          ddp_backend=None,\n",
      "          tpu_num_cores=None,\n",
      "          tpu_metrics_debug=False,\n",
      "          debug=[],\n",
      "          dataloader_drop_last=False,\n",
      "          eval_steps=500,\n",
      "          dataloader_num_workers=0,\n",
      "          dataloader_prefetch_factor=None,\n",
      "          past_index=-1,\n",
      "          run_name='smollm2_135m_sft',\n",
      "          disable_tqdm=False,\n",
      "          remove_unused_columns=True,\n",
      "          label_names=None,\n",
      "          load_best_model_at_end=False,\n",
      "          metric_for_best_model=None,\n",
      "          greater_is_better=None,\n",
      "          ignore_data_skip=False,\n",
      "          fsdp=[],\n",
      "          fsdp_min_num_params=0,\n",
      "          fsdp_config={'min_num_params': 0,\n",
      "                       'xla': False,\n",
      "                       'xla_fsdp_grad_ckpt': False,\n",
      "                       'xla_fsdp_v2': False},\n",
      "          fsdp_transformer_layer_cls_to_wrap=None,\n",
      "          accelerator_config=AcceleratorConfig(split_batches=False,\n",
      "                                               dispatch_batches=None,\n",
      "                                               even_batches=True,\n",
      "                                               use_seedable_sampler=True,\n",
      "                                               non_blocking=False,\n",
      "                                               gradient_accumulation_kwargs=None,\n",
      "                                               use_configured_state=False),\n",
      "          deepspeed=None,\n",
      "          label_smoothing_factor=0.0,\n",
      "          optim=<OptimizerNames.ADAMW_TORCH: 'adamw_torch'>,\n",
      "          optim_args=None,\n",
      "          adafactor=False,\n",
      "          group_by_length=False,\n",
      "          length_column_name='length',\n",
      "          report_to=['tensorboard'],\n",
      "          ddp_find_unused_parameters=None,\n",
      "          ddp_bucket_cap_mb=None,\n",
      "          ddp_broadcast_buffers=None,\n",
      "          dataloader_pin_memory=True,\n",
      "          dataloader_persistent_workers=False,\n",
      "          skip_memory_metrics=True,\n",
      "          use_legacy_prediction_loop=False,\n",
      "          push_to_hub=False,\n",
      "          resume_from_checkpoint=None,\n",
      "          hub_model_id=None,\n",
      "          hub_strategy=<HubStrategy.EVERY_SAVE: 'every_save'>,\n",
      "          hub_token=None,\n",
      "          hub_private_repo=False,\n",
      "          hub_always_push=False,\n",
      "          gradient_checkpointing=False,\n",
      "          gradient_checkpointing_kwargs={},\n",
      "          include_inputs_for_metrics=False,\n",
      "          eval_do_concat_batches=True,\n",
      "          fp16_backend='auto',\n",
      "          evaluation_strategy=None,\n",
      "          push_to_hub_model_id=None,\n",
      "          push_to_hub_organization=None,\n",
      "          push_to_hub_token=None,\n",
      "          mp_parameters='',\n",
      "          auto_find_batch_size=False,\n",
      "          full_determinism=False,\n",
      "          torchdynamo=None,\n",
      "          ray_scope='last',\n",
      "          ddp_timeout=1800,\n",
      "          torch_compile=False,\n",
      "          torch_compile_backend=None,\n",
      "          torch_compile_mode=None,\n",
      "          dispatch_batches=None,\n",
      "          split_batches=None,\n",
      "          include_tokens_per_second=False,\n",
      "          include_num_input_tokens_seen=False,\n",
      "          neftune_noise_alpha=None,\n",
      "          optim_target_modules=None,\n",
      "          batch_eval_metrics=False,\n",
      "          eval_on_start=False,\n",
      "          use_liger_kernel=False,\n",
      "          eval_use_gather_object=False,\n",
      "          dataset_text_field=None,\n",
      "          packing=False,\n",
      "          max_seq_length=None,\n",
      "          dataset_num_proc=None,\n",
      "          dataset_batch_size=1000,\n",
      "          model_init_kwargs=None,\n",
      "          dataset_kwargs=None,\n",
      "          eval_packing=None,\n",
      "          num_of_sequences=1024,\n",
      "          chars_per_token=3.6,\n",
      "          use_liger=False)\n",
      "/home/user/miniconda3/envs/oumi/lib/python3.11/site-packages/trl/trainer/sft_trainer.py:292: UserWarning: You didn't pass a `max_seq_length` argument to the SFTTrainer, this will default to 1024\n",
      "  warnings.warn(\n",
      "max_steps is given, it will override any value given in num_train_epochs\n",
      "[2025-01-22 09:01:22,260][oumi][rank0][pid:2761258][MainThread][INFO]][device_utils.py:283] GPU Metrics Before Training: GPU runtime info: NVidiaGpuRuntimeInfo(device_index=0, device_count=1, used_memory_mb=1629.0, temperature=38, fan_speed=0, fan_speeds=(0, 0), power_usage_watts=104.982, power_limit_watts=350.0, gpu_utilization=0, memory_utilization=0, performance_state=2, clock_speed_graphics=1695, clock_speed_sm=1695, clock_speed_memory=9501).\n",
      "[2025-01-22 09:01:22,261][oumi][rank0][pid:2761258][MainThread][INFO]][train.py:312] Training init time: 4.726s\n",
      "[2025-01-22 09:01:22,262][oumi][rank0][pid:2761258][MainThread][INFO]][train.py:313] Starting training... (TrainerType.TRL_SFT, transformers: 4.45.2)\n"
     ]
    },
    {
     "data": {
      "text/html": [
       "\n",
       "    <div>\n",
       "      \n",
       "      <progress value='10' max='10' style='width:300px; height:20px; vertical-align: middle;'></progress>\n",
       "      [10/10 00:06, Epoch 0/1]\n",
       "    </div>\n",
       "    <table border=\"1\" class=\"dataframe\">\n",
       "  <thead>\n",
       " <tr style=\"text-align: left;\">\n",
       "      <th>Step</th>\n",
       "      <th>Training Loss</th>\n",
       "    </tr>\n",
       "  </thead>\n",
       "  <tbody>\n",
       "  </tbody>\n",
       "</table><p>"
      ],
      "text/plain": [
       "<IPython.core.display.HTML object>"
      ]
     },
     "metadata": {},
     "output_type": "display_data"
    },
    {
     "name": "stderr",
     "output_type": "stream",
     "text": [
      "[2025-01-22 09:01:29,507][oumi][rank0][pid:2761258][MainThread][INFO]][train.py:320] Training is Complete.\n",
      "[2025-01-22 09:01:29,526][oumi][rank0][pid:2761258][MainThread][INFO]][device_utils.py:283] GPU Metrics After Training: GPU runtime info: NVidiaGpuRuntimeInfo(device_index=0, device_count=1, used_memory_mb=3962.0, temperature=36, fan_speed=0, fan_speeds=(0, 0), power_usage_watts=29.63, power_limit_watts=350.0, gpu_utilization=0, memory_utilization=1, performance_state=5, clock_speed_graphics=210, clock_speed_sm=210, clock_speed_memory=810).\n",
      "[2025-01-22 09:01:29,527][oumi][rank0][pid:2761258][MainThread][INFO]][torch_utils.py:117] Peak GPU memory usage: 1.73 GB\n",
      "[2025-01-22 09:01:29,527][oumi][rank0][pid:2761258][MainThread][INFO]][train.py:327] Saving final state...\n",
      "[2025-01-22 09:01:29,528][oumi][rank0][pid:2761258][MainThread][INFO]][train.py:332] Saving final model...\n",
      "[2025-01-22 09:01:31,408][oumi][rank0][pid:2761258][MainThread][INFO]][hf_trainer.py:102] Model has been saved at tour_tutorial/output\n",
      "[2025-01-22 09:01:31,408][oumi][rank0][pid:2761258][MainThread][INFO]][train.py:339] \n",
      "\n",
      "» We're always looking for feedback. What's one thing we can improve? https://oumi.ai/feedback\n"
     ]
    }
   ],
   "source": [
    "from oumi.core.configs import TrainingConfig\n",
    "from oumi.train import train\n",
    "\n",
    "config = TrainingConfig.from_yaml(str(Path(tutorial_dir) / \"train.yaml\"))\n",
    "\n",
    "train(config)"
   ]
  },
  {
   "cell_type": "markdown",
   "metadata": {
    "id": "1XfsWKEFSgtR"
   },
   "source": [
    "Congratulations, you've trained your first model using Oumi!\n",
    "\n",
    "You can also train your own custom Pytorch model. We cover that in depth in our [Finetuning Tutorial](https://github.com/oumi-ai/oumi/blob/main/notebooks/Oumi%20-%20Finetuning%20Tutorial.ipynb)."
   ]
  },
  {
   "cell_type": "markdown",
   "metadata": {
    "id": "PdMUxYZcSgtR"
   },
   "source": [
    "# Model Inference\n",
    "\n",
    "Now that you've trained a model, let's run inference."
   ]
  },
  {
   "cell_type": "code",
   "execution_count": null,
   "metadata": {
    "id": "z4bx6ibXSgtR"
   },
   "outputs": [],
   "source": [
    "yaml_content = f\"\"\"\n",
    "model:\n",
    "  model_name: \"{tutorial_dir}/output\"\n",
    "  torch_dtype_str: \"bfloat16\"\n",
    "\n",
    "generation:\n",
    "  max_new_tokens: 128\n",
    "  batch_size: 1\n",
    "\"\"\"\n",
    "\n",
    "with open(f\"{tutorial_dir}/infer.yaml\", \"w\") as f:\n",
    "    f.write(yaml_content)"
   ]
  },
  {
   "cell_type": "code",
   "execution_count": null,
   "metadata": {
    "id": "XaxxRD1sSgtR"
   },
   "outputs": [],
   "source": [
    "from oumi.core.configs import InferenceConfig\n",
    "from oumi.infer import infer\n",
    "\n",
    "config = InferenceConfig.from_yaml(str(Path(tutorial_dir) / \"infer.yaml\"))\n",
    "\n",
    "input_text = (\n",
    "    \"Remember that we didn't train for long, so the results might not be great.\"\n",
    ")\n",
    "\n",
    "results = infer(config=config, inputs=[input_text])\n",
    "\n",
    "print(results[0])"
   ]
  },
  {
   "cell_type": "markdown",
   "metadata": {
    "id": "xmlA3ynCSgtR"
   },
   "source": [
    "We can also run inference using the pretrained model by slightly tweaking our config:"
   ]
  },
  {
   "cell_type": "code",
   "execution_count": null,
   "metadata": {
    "id": "Wbo2QAxoSgtR"
   },
   "outputs": [],
   "source": [
    "base_model_config = InferenceConfig.from_yaml(str(Path(tutorial_dir) / \"infer.yaml\"))\n",
    "base_model_config.model.model_name = \"HuggingFaceTB/SmolLM2-135M-Instruct\"\n",
    "\n",
    "input_text = \"Input for the pretrained model: What is your name? \"\n",
    "\n",
    "results = infer(config=base_model_config, inputs=[input_text])\n",
    "\n",
    "print(results[0])"
   ]
  },
  {
   "cell_type": "markdown",
   "metadata": {
    "id": "HnxsJBCTSgtR"
   },
   "source": [
    "# Evaluating a Model against Common Benchmarks\n",
    "\n",
    "You can use Oumi to evaluate pretrained and tuned models against standard benchmarks. For example, let's evaluate our tuned model against `Hellaswag`:"
   ]
  },
  {
   "cell_type": "code",
   "execution_count": null,
   "metadata": {
    "id": "tArOVDzVSgtR"
   },
   "outputs": [],
   "source": [
    "yaml_content = f\"\"\"\n",
    "model:\n",
    "  model_name: \"{tutorial_dir}/output\"\n",
    "  torch_dtype_str: \"bfloat16\"\n",
    "\n",
    "tasks:\n",
    "  - evaluation_platform: lm_harness\n",
    "    task_name: mmlu_college_computer_science\n",
    "\n",
    "generation:\n",
    "  batch_size: null # This will let LM HARNESS find the maximum possible batch size.\n",
    "output_dir: \"{tutorial_dir}/output/evaluation\"\n",
    "\"\"\"\n",
    "\n",
    "with open(f\"{tutorial_dir}/eval.yaml\", \"w\") as f:\n",
    "    f.write(yaml_content)"
   ]
  },
  {
   "cell_type": "code",
   "execution_count": null,
   "metadata": {
    "id": "e-tcwtMhSgtR"
   },
   "outputs": [],
   "source": [
    "from oumi.core.configs import EvaluationConfig\n",
    "from oumi.evaluate import evaluate\n",
    "\n",
    "eval_config = EvaluationConfig.from_yaml(str(Path(tutorial_dir) / \"eval.yaml\"))\n",
    "\n",
    "# Uncomment the following line to run evals against the V1 HuggingFace Leaderboard.\n",
    "# This may take a while.\n",
    "# eval_config.data.datasets[0].dataset_name = \"huggingface_leaderboard_v1\"\n",
    "\n",
    "evaluate(eval_config)"
   ]
  },
  {
   "cell_type": "markdown",
   "metadata": {
    "id": "ZUnIyaZfSgtS"
   },
   "source": [
    "# Launching Jobs\n",
    "\n",
    "Often times you'll need to run various tasks (training, evaluation, etc.) on remote hardware that's better suited for the task. Oumi can handle this for you by launching jobs on various compute clusters. For more information about running jobs, see our [Running Jobs Remotely tutorial](https://github.com/oumi-ai/oumi/blob/main/notebooks/Oumi%20-%20Running%20Jobs%20Remotely.ipynb). For running jobs on custom clusters, see our [Launching Jobs on Custom Clusters tutorial](https://github.com/oumi-ai/oumi/blob/main/notebooks/Oumi%20-%20Launching%20Jobs%20on%20Custom%20Clusters.ipynb).\n",
    "\n",
    "\n",
    "Today, Oumi supports running jobs on several cloud provider platforms.\n",
    "\n",
    "For the latest list, we can run the `which_clouds` method:"
   ]
  },
  {
   "cell_type": "code",
   "execution_count": null,
   "metadata": {
    "id": "MJipzQl4SgtS"
   },
   "outputs": [],
   "source": [
    "import oumi.launcher as launcher\n",
    "\n",
    "print(\"Supported Clouds in Oumi:\")\n",
    "for cloud in launcher.which_clouds():\n",
    "    print(cloud)"
   ]
  },
  {
   "cell_type": "markdown",
   "metadata": {
    "id": "5VdZqPtpSgtS"
   },
   "source": [
    "Let's run a simple \"Hello World\" job locally to demonstrate how to use the Oumi job launcher. This job will echo `Hello World`, then run the same training job executed above. Running this job on a cloud provider like GCP simply involves changing the `cloud` field."
   ]
  },
  {
   "cell_type": "code",
   "execution_count": null,
   "metadata": {
    "id": "15_fKEiNSgtS"
   },
   "outputs": [],
   "source": [
    "yaml_content = f\"\"\"\n",
    "name: hello-world\n",
    "resources:\n",
    "  cloud: local\n",
    "\n",
    "working_dir: .\n",
    "\n",
    "envs:\n",
    "  TEST_ENV_VARIABLE: '\"Hello, World!\"'\n",
    "  OUMI_LOGGING_DIR: \"{tutorial_dir}/logs\"\n",
    "\n",
    "run: |\n",
    "  echo \"$TEST_ENV_VARIABLE\"\n",
    "  oumi train -c {tutorial_dir}/train.yaml\n",
    "\"\"\"\n",
    "\n",
    "with open(f\"{tutorial_dir}/job.yaml\", \"w\") as f:\n",
    "    f.write(yaml_content)"
   ]
  },
  {
   "cell_type": "code",
   "execution_count": null,
   "metadata": {
    "id": "VA-n5iUASgtS"
   },
   "outputs": [],
   "source": [
    "import time\n",
    "\n",
    "job_config = launcher.JobConfig.from_yaml(str(Path(tutorial_dir) / \"job.yaml\"))\n",
    "cluster, job_status = launcher.up(job_config, cluster_name=None)\n",
    "\n",
    "while job_status and not job_status.done:\n",
    "    print(\"Job is running...\")\n",
    "    time.sleep(15)\n",
    "    job_status = cluster.get_job(job_status.id)\n",
    "print(\"Job is done!\")"
   ]
  },
  {
   "cell_type": "markdown",
   "metadata": {
    "id": "DuVVlpbOSgtS"
   },
   "source": [
    "The job created logs under our tutorial directory. Let's take a look at the directory:"
   ]
  },
  {
   "cell_type": "code",
   "execution_count": null,
   "metadata": {
    "id": "-BGuSP6XTVKh"
   },
   "outputs": [],
   "source": [
    "logs_dir = f\"{tutorial_dir}/logs\"\n",
    "os.listdir(logs_dir)"
   ]
  },
  {
   "cell_type": "markdown",
   "metadata": {
    "id": "N_iz4i4ATXuB"
   },
   "source": [
    "Now let's parse the logfiles."
   ]
  },
  {
   "cell_type": "code",
   "execution_count": null,
   "metadata": {
    "id": "RbhUaUchSgtT"
   },
   "outputs": [],
   "source": [
    "for log_file in Path(logs_dir).iterdir():\n",
    "    print(f\"Log file: {log_file}\")\n",
    "    with open(log_file) as f:\n",
    "        print(f.read())"
   ]
  },
  {
   "cell_type": "markdown",
   "metadata": {
    "id": "nnWJ_XgiSgtT"
   },
   "source": [
    "# Customizing Datasets and Clusters \n",
    "\n",
    "Oumi offers rich customization that allows users to build custom solutions on top of our existing building blocks. Several of Oumi's primary resources (Datasets, Clouds, etc.) leverage the Oumi Registry when invoked.\n",
    "\n",
    "This registry allows users to build custom classes that function as drop-in replacements for core functionality.\n",
    "\n",
    "For more details on registering custom datasets, see the [tutorial here](https://github.com/oumi-ai/oumi/blob/main/notebooks/Oumi%20-%20Datasets%20Tutorial.ipynb).\n",
    "\n",
    "For a tutorial on writing a custom cloud/cluster for running jobs, see the [tutorial here](https://github.com/oumi-ai/oumi/blob/main/notebooks/Oumi%20-%20Launching%20Jobs%20on%20Custom%20Clusters.ipynb).\n",
    "\n",
    "You can find further information about the required registry decorators [here](https://oumi.ai/docs/latest/api/oumi.core.registry.html#oumi.core.registry.register_cloud_builder)."
   ]
  },
  {
   "cell_type": "markdown",
   "metadata": {
    "id": "KcM7KZ2OSgtT"
   },
   "source": [
    "# What's Next?\n",
    "\n",
    "Now that you've completed the basic tour, you're ready to tackle the other [notebook guides & tutorials](https://oumi.ai/docs/latest/get_started/tutorials.html).\n",
    "\n",
    "If you have not already, make sure to take a look at the [Quickstart](https://oumi.ai/docs/latest/get_started/quickstart.html) for an overview of our CLI."
   ]
  }
 ],
 "metadata": {
  "colab": {
   "provenance": []
  },
  "kernelspec": {
   "display_name": "Python 3 (ipykernel)",
   "language": "python",
   "name": "python3"
  },
  "language_info": {
   "codemirror_mode": {
    "name": "ipython",
    "version": 3
   },
   "file_extension": ".py",
   "mimetype": "text/x-python",
   "name": "python",
   "nbconvert_exporter": "python",
   "pygments_lexer": "ipython3",
   "version": "3.11.9"
  }
 },
 "nbformat": 4,
 "nbformat_minor": 4
}
