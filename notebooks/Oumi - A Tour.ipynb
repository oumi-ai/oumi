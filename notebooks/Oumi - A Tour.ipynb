{
 "cells": [
  {
   "cell_type": "markdown",
   "metadata": {},
   "source": [
    "<div class=\"align-center\">\n",
    "<a href=\"https://oumi.ai/\"><img src=\"https://oumi.ai/docs/en/latest/_static/logo/header_logo.png\" height=\"200\"></a>\n",
    "\n",
    "[![Documentation](https://img.shields.io/badge/Documentation-latest-blue.svg)](https://oumi.ai/docs/en/latest/index.html)\n",
    "[![Discord](https://img.shields.io/discord/1286348126797430814?label=Discord)](https://discord.gg/oumi)\n",
    "[![GitHub Repo stars](https://img.shields.io/github/stars/oumi-ai/oumi)](https://github.com/oumi-ai/oumi)\n",
    "<a target=\"_blank\" href=\"https://colab.research.google.com/github/oumi-ai/oumi/blob/main/notebooks/Oumi - A Tour.ipynb\"><img src=\"https://colab.research.google.com/assets/colab-badge.svg\" alt=\"Open In Colab\"/></a>\n",
    "</div>\n",
    "\n",
    "👋 Welcome to Open Universal Machine Intelligence (Oumi)!\n",
    "\n",
    "🚀 Oumi is a fully open-source platform that streamlines the entire lifecycle of foundation models - from [data preparation](https://oumi.ai/docs/en/latest/resources/datasets/datasets.html) and [training](https://oumi.ai/docs/en/latest/user_guides/train/train.html) to [evaluation](https://oumi.ai/docs/en/latest/user_guides/evaluate/evaluate.html) and [deployment](https://oumi.ai/docs/en/latest/user_guides/launch/launch.html). Whether you're developing on a laptop, launching large scale experiments on a cluster, or deploying models in production, Oumi provides the tools and workflows you need.\n",
    "\n",
    "🤝 Make sure to join our [Discord community](https://discord.gg/oumi) to get help, share your experiences, and contribute to the project! If you are interested in joining one of the community's open-science efforts, check out our [open collaboration](https://oumi.ai/community) page.\n",
    "\n",
    "⭐ If you like Oumi and you would like to support it, please give it a star on [GitHub](https://github.com/oumi-ai/oumi)."
   ]
  },
  {
   "cell_type": "markdown",
   "metadata": {
    "id": "S7bYaH10SgtN"
   },
   "source": [
    "# A Tour of Oumi"
   ]
  },
  {
   "cell_type": "markdown",
   "metadata": {
    "id": "QkhNGqE1SgtP"
   },
   "source": [
    "This tutorial will give you a brief overview of Oumi's core functionality. We'll cover:\n",
    "\n",
    "1. Training a model\n",
    "1. Performing model inference\n",
    "1. Evaluating a model against common benchmarks\n",
    "1. Launching jobs\n",
    "1. Customizing datasets and clouds"
   ]
  },
  {
   "cell_type": "markdown",
   "metadata": {
    "id": "fHDr11SqSgtP"
   },
   "source": [
    "# 📋 Prerequisites\n",
    "\n",
    "❗**NOTICE:** We recommend running this notebook on a GPU. If running on Google Colab, you can use the free T4 GPU runtime (Colab Menu: `Runtime` -> `Change runtime type`).\n",
    "\n",
    "## Oumi Installation\n",
    "\n",
    "First, let's install Oumi. You can find more detailed instructions [here](https://oumi.ai/docs/en/latest/get_started/installation.html).\n"
   ]
  },
  {
   "cell_type": "code",
   "execution_count": 3,
   "metadata": {},
   "outputs": [
    {
     "name": "stdout",
     "output_type": "stream",
     "text": [
      "Note: you may need to restart the kernel to use updated packages.\n",
      "\u001b[2mUsing Python 3.11.8 environment at: /Users/oussamaelachqar/miniconda3/envs/oumi\u001b[0m\n",
      "\u001b[2mAudited \u001b[1m1 package\u001b[0m \u001b[2min 15ms\u001b[0m\u001b[0m\n"
     ]
    }
   ],
   "source": [
    "%pip install uv -q\n",
    "!uv pip install oumi --no-progress --system"
   ]
  },
  {
   "cell_type": "code",
   "execution_count": 1,
   "metadata": {
    "id": "JPmWKRVCSgtP"
   },
   "outputs": [],
   "source": [
    "import os\n",
    "from pathlib import Path\n",
    "\n",
    "tutorial_dir = \"tour_tutorial\"\n",
    "\n",
    "Path(tutorial_dir).mkdir(parents=True, exist_ok=True)\n",
    "os.environ[\"TOKENIZERS_PARALLELISM\"] = \"false\"  # Disable warnings from HF."
   ]
  },
  {
   "cell_type": "markdown",
   "metadata": {
    "id": "m8PTJuc4SgtQ"
   },
   "source": [
    "# ⚒️ Training a Model"
   ]
  },
  {
   "cell_type": "markdown",
   "metadata": {
    "id": "b2_HamuySgtQ"
   },
   "source": [
    "Oumi supports training both custom and out-of-the-box models. Want to try out a model on HuggingFace? You can do that. Want to train your own custom Pytorch model? No problem.\n",
    "\n",
    "## A Quick Demo\n",
    "\n",
    "Let's try training a pre-existing model on HuggingFace. We'll use SmolLM2 135M as it's small and trains quickly.\n",
    "\n",
    "Oumi uses [training configuration files](https://oumi.ai/docs/en/latest/api/oumi.core.configs.html#oumi.core.configs.TrainingConfig) to specify training parameters. We've already created a training config for SmolLM2 — let's give it a try!"
   ]
  },
  {
   "cell_type": "code",
   "execution_count": 6,
   "metadata": {
    "id": "l2SQ9fZiSgtQ"
   },
   "outputs": [],
   "source": [
    "yaml_content = \"\"\"\n",
    "# GRPO config to train a letter counting model.\n",
    "#\n",
    "# Requirements:\n",
    "#   - Log into WandB (`wandb login`) or disable `enable_wandb`\n",
    "#\n",
    "# Usage:\n",
    "#   oumi train -c configs/examples/grpo_letter_counting/train.yaml\n",
    "#\n",
    "# See Also:\n",
    "#   - Documentation: https://oumi.ai/docs/en/latest/user_guides/train/train.html\n",
    "#   - Config class: oumi.core.configs.TrainingConfig\n",
    "#   - Config source: https://github.com/oumi-ai/oumi/blob/main/src/oumi/core/configs/training_config.py\n",
    "#   - Other training configs: configs/**/pretraining/, configs/**/sft/, configs/**/dpo/\n",
    "\n",
    "model:\n",
    "  model_name: \"Qwen/Qwen2-0.5B-Instruct\"\n",
    "  model_max_length: 8192\n",
    "  torch_dtype_str: \"bfloat16\"\n",
    "  attn_implementation: \"sdpa\"\n",
    "\n",
    "data:\n",
    "  train:\n",
    "    datasets:\n",
    "      - dataset_name: \"trl-lib/tldr\"\n",
    "        split: \"train\"\n",
    "\n",
    "training:\n",
    "  trainer_type: \"TRL_GRPO\"\n",
    "  save_steps: 500\n",
    "  max_steps: 500\n",
    "  per_device_train_batch_size: 3\n",
    "  gradient_accumulation_steps: 1\n",
    "\n",
    "  reward_functions: [\"soft_20tokens_completions\"]\n",
    "\n",
    "  enable_gradient_checkpointing: False\n",
    "  gradient_checkpointing_kwargs:\n",
    "    use_reentrant: False\n",
    "  ddp_find_unused_parameters: False\n",
    "  optimizer: \"adamw_torch_fused\"\n",
    "  # empty_device_cache_steps: 1\n",
    "  compile: False # Set to False if `grpo.use_vllm` is enabled: https://github.com/vllm-project/vllm/issues/12783\n",
    "\n",
    "  grpo:\n",
    "    use_vllm: True\n",
    "    num_generations: 6\n",
    "\n",
    "  dataloader_num_workers: \"auto\"\n",
    "  dataloader_prefetch_factor: 32\n",
    "\n",
    "  logging_steps: 10\n",
    "  output_dir: \"output/letter_counting.grpo\"\n",
    "  include_performance_metrics: False\n",
    "  enable_wandb: True\n",
    "\"\"\"\n",
    "\n",
    "with open(f\"{tutorial_dir}/train.yaml\", \"w\") as f:\n",
    "    f.write(yaml_content)"
   ]
  },
  {
   "cell_type": "code",
   "execution_count": 7,
   "metadata": {
    "id": "2GpQDGG5SgtQ"
   },
   "outputs": [
    {
     "name": "stdout",
     "output_type": "stream",
     "text": [
      "[2025-03-11 23:02:15,292][oumi][rank0][pid:64176][MainThread][WARNING]][training_config.py:111] Ignored model.model_max_length=8192 parameter for trainer TrainerType.TRL_GRPO.\n",
      "[2025-03-11 23:02:15,294][oumi][rank0][pid:64176][MainThread][INFO]][torch_utils.py:80] Torch version: 2.5.1. NumPy version: 1.26.4\n",
      "[2025-03-11 23:02:15,295][oumi][rank0][pid:64176][MainThread][INFO]][torch_utils.py:82] CUDA is not available!\n",
      "[2025-03-11 23:02:15,298][oumi][rank0][pid:64176][MainThread][INFO]][train.py:148] Oumi version: 0.1.9.dev1+gbc574954\n",
      "[2025-03-11 23:02:15,320][oumi][rank0][pid:64176][MainThread][INFO]][train.py:150] Git revision hash: 5de3133710ebebb017911c795b591a8217a20cf8\n",
      "[2025-03-11 23:02:15,347][oumi][rank0][pid:64176][MainThread][INFO]][train.py:151] Git tag: None\n",
      "[2025-03-11 23:02:15,350][oumi][rank0][pid:64176][MainThread][INFO]][train.py:159] Resolved 'training.dataloader_num_workers=auto' to 'training.dataloader_num_workers=2'\n",
      "[2025-03-11 23:02:15,351][oumi][rank0][pid:64176][MainThread][WARNING]][train.py:173] For TrainerType.TRL_GRPO, global batch size (3) should be evenly divisible by `grpo.num_generations` (6). It's not! World size: 1. Per-device batch size: 3.\n",
      "[2025-03-11 23:02:15,352][oumi][rank0][pid:64176][MainThread][INFO]][train.py:229] TrainingConfig:\n",
      "TrainingConfig(data=DataParams(train=DatasetSplitParams(datasets=[DatasetParams(dataset_name='trl-lib/tldr',\n",
      "                                                                                dataset_path=None,\n",
      "                                                                                subset=None,\n",
      "                                                                                split='train',\n",
      "                                                                                dataset_kwargs={},\n",
      "                                                                                sample_count=None,\n",
      "                                                                                mixture_proportion=None,\n",
      "                                                                                shuffle=False,\n",
      "                                                                                seed=None,\n",
      "                                                                                shuffle_buffer_size=1000,\n",
      "                                                                                trust_remote_code=False,\n",
      "                                                                                transform_num_workers=None)],\n",
      "                                                        collator_name=None,\n",
      "                                                        pack=False,\n",
      "                                                        stream=False,\n",
      "                                                        target_col=None,\n",
      "                                                        mixture_strategy='first_exhausted',\n",
      "                                                        seed=None,\n",
      "                                                        use_async_dataset=False,\n",
      "                                                        use_torchdata=None),\n",
      "                               test=DatasetSplitParams(datasets=[],\n",
      "                                                       collator_name=None,\n",
      "                                                       pack=False,\n",
      "                                                       stream=False,\n",
      "                                                       target_col=None,\n",
      "                                                       mixture_strategy='first_exhausted',\n",
      "                                                       seed=None,\n",
      "                                                       use_async_dataset=False,\n",
      "                                                       use_torchdata=None),\n",
      "                               validation=DatasetSplitParams(datasets=[],\n",
      "                                                             collator_name=None,\n",
      "                                                             pack=False,\n",
      "                                                             stream=False,\n",
      "                                                             target_col=None,\n",
      "                                                             mixture_strategy='first_exhausted',\n",
      "                                                             seed=None,\n",
      "                                                             use_async_dataset=False,\n",
      "                                                             use_torchdata=None)),\n",
      "               model=ModelParams(model_name='Qwen/Qwen2-0.5B-Instruct',\n",
      "                                 adapter_model=None,\n",
      "                                 tokenizer_name=None,\n",
      "                                 tokenizer_pad_token=None,\n",
      "                                 tokenizer_kwargs={},\n",
      "                                 model_max_length=8192,\n",
      "                                 load_pretrained_weights=True,\n",
      "                                 trust_remote_code=False,\n",
      "                                 torch_dtype_str='bfloat16',\n",
      "                                 compile=False,\n",
      "                                 chat_template=None,\n",
      "                                 attn_implementation='sdpa',\n",
      "                                 device_map='auto',\n",
      "                                 model_kwargs={},\n",
      "                                 enable_liger_kernel=False,\n",
      "                                 shard_for_eval=False,\n",
      "                                 freeze_layers=[]),\n",
      "               training=TrainingParams(use_peft=False,\n",
      "                                       trainer_type=<TrainerType.TRL_GRPO: 'trl_grpo'>,\n",
      "                                       enable_gradient_checkpointing=False,\n",
      "                                       gradient_checkpointing_kwargs={'use_reentrant': False},\n",
      "                                       output_dir='output/letter_counting.grpo',\n",
      "                                       per_device_train_batch_size=3,\n",
      "                                       per_device_eval_batch_size=8,\n",
      "                                       gradient_accumulation_steps=1,\n",
      "                                       max_steps=500,\n",
      "                                       num_train_epochs=3,\n",
      "                                       save_epoch=False,\n",
      "                                       save_steps=500,\n",
      "                                       save_final_model=True,\n",
      "                                       seed=42,\n",
      "                                       data_seed=42,\n",
      "                                       use_deterministic=False,\n",
      "                                       full_determinism=False,\n",
      "                                       run_name=None,\n",
      "                                       metrics_function=None,\n",
      "                                       reward_functions=['soft_20tokens_completions'],\n",
      "                                       grpo=GrpoParams(model_init_kwargs={},\n",
      "                                                       max_prompt_length=None,\n",
      "                                                       max_completion_length=None,\n",
      "                                                       num_generations=6,\n",
      "                                                       temperature=0.9,\n",
      "                                                       remove_unused_columns=False,\n",
      "                                                       use_vllm=True,\n",
      "                                                       vllm_device=None,\n",
      "                                                       vllm_gpu_memory_utilization=0.9,\n",
      "                                                       vllm_dtype=None,\n",
      "                                                       vllm_max_model_len=None),\n",
      "                                       log_level='info',\n",
      "                                       dep_log_level='warning',\n",
      "                                       enable_wandb=True,\n",
      "                                       enable_tensorboard=True,\n",
      "                                       logging_strategy='steps',\n",
      "                                       logging_dir=None,\n",
      "                                       logging_steps=10,\n",
      "                                       logging_first_step=False,\n",
      "                                       eval_strategy='no',\n",
      "                                       eval_steps=500,\n",
      "                                       learning_rate=5e-05,\n",
      "                                       lr_scheduler_type='linear',\n",
      "                                       lr_scheduler_kwargs={},\n",
      "                                       warmup_ratio=None,\n",
      "                                       warmup_steps=None,\n",
      "                                       optimizer='adamw_torch_fused',\n",
      "                                       weight_decay=0.0,\n",
      "                                       adam_beta1=0.9,\n",
      "                                       adam_beta2=0.999,\n",
      "                                       adam_epsilon=1e-08,\n",
      "                                       sgd_momentum=0.0,\n",
      "                                       mixed_precision_dtype=<MixedPrecisionDtype.NONE: 'none'>,\n",
      "                                       compile=False,\n",
      "                                       include_performance_metrics=False,\n",
      "                                       include_alternative_mfu_metrics=False,\n",
      "                                       log_model_summary=False,\n",
      "                                       resume_from_checkpoint=None,\n",
      "                                       try_resume_from_last_checkpoint=False,\n",
      "                                       dataloader_num_workers=2,\n",
      "                                       dataloader_persistent_workers=False,\n",
      "                                       dataloader_prefetch_factor=32,\n",
      "                                       dataloader_main_process_only=None,\n",
      "                                       ddp_find_unused_parameters=False,\n",
      "                                       max_grad_norm=1.0,\n",
      "                                       trainer_kwargs={},\n",
      "                                       profiler=ProfilerParams(save_dir=None,\n",
      "                                                               enable_cpu_profiling=False,\n",
      "                                                               enable_cuda_profiling=False,\n",
      "                                                               record_shapes=False,\n",
      "                                                               profile_memory=False,\n",
      "                                                               with_stack=False,\n",
      "                                                               with_flops=False,\n",
      "                                                               with_modules=False,\n",
      "                                                               row_limit=50,\n",
      "                                                               schedule=ProfilerScheduleParams(enable_schedule=False,\n",
      "                                                                                               wait=0,\n",
      "                                                                                               warmup=1,\n",
      "                                                                                               active=3,\n",
      "                                                                                               repeat=1,\n",
      "                                                                                               skip_first=1)),\n",
      "                                       telemetry=TelemetryParams(telemetry_dir='telemetry',\n",
      "                                                                 collect_telemetry_for_all_ranks=False,\n",
      "                                                                 track_gpu_temperature=False),\n",
      "                                       empty_device_cache_steps=None,\n",
      "                                       nccl_default_timeout_minutes=None),\n",
      "               peft=PeftParams(lora_r=8,\n",
      "                               lora_alpha=8,\n",
      "                               lora_dropout=0.0,\n",
      "                               lora_target_modules=None,\n",
      "                               lora_modules_to_save=None,\n",
      "                               lora_bias='none',\n",
      "                               lora_init_weights=<LoraWeightInitialization.DEFAULT: 'default'>,\n",
      "                               lora_task_type=<TaskType.CAUSAL_LM: 'CAUSAL_LM'>,\n",
      "                               q_lora=False,\n",
      "                               q_lora_bits=4,\n",
      "                               bnb_4bit_quant_type='fp4',\n",
      "                               use_bnb_nested_quant=False,\n",
      "                               bnb_4bit_quant_storage='uint8',\n",
      "                               bnb_4bit_compute_dtype='float32',\n",
      "                               peft_save_mode=<PeftSaveMode.ADAPTER_ONLY: 'adapter_only'>),\n",
      "               fsdp=FSDPParams(enable_fsdp=False,\n",
      "                               sharding_strategy=<ShardingStrategy.FULL_SHARD: 'FULL_SHARD'>,\n",
      "                               cpu_offload=False,\n",
      "                               mixed_precision=None,\n",
      "                               backward_prefetch=<BackwardPrefetch.BACKWARD_PRE: 'BACKWARD_PRE'>,\n",
      "                               forward_prefetch=False,\n",
      "                               use_orig_params=None,\n",
      "                               state_dict_type=<StateDictType.FULL_STATE_DICT: 'FULL_STATE_DICT'>,\n",
      "                               auto_wrap_policy=<AutoWrapPolicy.NO_WRAP: 'NO_WRAP'>,\n",
      "                               min_num_params=100000,\n",
      "                               transformer_layer_cls=None,\n",
      "                               sync_module_states=True))\n",
      "[2025-03-11 23:02:15,752][oumi][rank0][pid:64176][MainThread][INFO]][models.py:482] Using the model's built-in chat template for model 'Qwen/Qwen2-0.5B-Instruct'.\n",
      "[2025-03-11 23:02:15,753][oumi][rank0][pid:64176][MainThread][INFO]][models.py:208] Building model using device_map: auto (DeviceRankInfo(world_size=1, rank=0, local_world_size=1, local_rank=0))...\n",
      "[2025-03-11 23:02:15,754][oumi][rank0][pid:64176][MainThread][INFO]][models.py:276] Using model class: <class 'transformers.models.auto.modeling_auto.AutoModelForCausalLM'> to instantiate model.\n"
     ]
    }
   ],
   "source": [
    "from oumi.core.configs import TrainingConfig\n",
    "from oumi.train import train\n",
    "\n",
    "config = TrainingConfig.from_yaml(str(Path(tutorial_dir) / \"train.yaml\"))\n",
    "\n",
    "dataset = train(config)"
   ]
  },
  {
   "cell_type": "code",
   "execution_count": 8,
   "metadata": {},
   "outputs": [
    {
     "data": {
      "text/plain": [
       "Dataset({\n",
       "    features: ['prompt', 'completion'],\n",
       "    num_rows: 116722\n",
       "})"
      ]
     },
     "execution_count": 8,
     "metadata": {},
     "output_type": "execute_result"
    }
   ],
   "source": [
    "dataset"
   ]
  },
  {
   "cell_type": "code",
   "execution_count": 9,
   "metadata": {},
   "outputs": [
    {
     "data": {
      "text/plain": [
       "{'prompt': \"SUBREDDIT: r/relationships\\n\\nTITLE: I (f/22) have to figure out if I want to still know these girls or not and would hate to sound insulting\\n\\nPOST: Not sure if this belongs here but it's worth a try. \\n\\nBackstory:\\nWhen I (f/22) went through my first real breakup 2 years ago because he needed space after a year of dating roand  it effected me more than I thought. It was a horrible time in my life due to living with my mother and finally having the chance to cut her out of my life. I can admit because of it was an emotional wreck and this guy was stable and didn't know how to deal with me. We ended by him avoiding for a month or so after going to a festival with my friends. When I think back I wish he just ended. So after he ended it added my depression I suffered but my friends helped me through it and I got rid of everything from him along with cutting contact. \\n\\nNow: Its been almost 3 years now and I've gotten better after counselling and mild anti depressants. My mother has been out of my life since then so there's been alot of progress. Being stronger after learning some lessons there been more insight about that time of my life but when I see him or a picture everything comes back. The emotions and memories bring me back down. \\n\\nHis friends (both girls) are on my facebook because we get along well which is hard to find and I know they'll always have his back. But seeing him in a picture or talking to him at a convention having a conversation is tough. Crying confront of my current boyfriend is something I want to avoid. \\n\\nSo I've been thinking that I have to cut contact with these girls because it's time to move on because it's healthier. It's best to avoid him as well. But will they be insulted? Will they accept it? Is there going to be awkwardness? I'm not sure if it's the right to do and could use some outside opinions.\\n\\nTL;DR:\",\n",
       " 'completion': \" I still have contact with an old ex's friends but can't stand to see or talk to him. His friends are really nice ,so how do I tell them I possibly want to unfriend them on Facebook because of him?\"}"
      ]
     },
     "execution_count": 9,
     "metadata": {},
     "output_type": "execute_result"
    }
   ],
   "source": [
    "next(iter(dataset))"
   ]
  },
  {
   "cell_type": "code",
   "execution_count": null,
   "metadata": {},
   "outputs": [
    {
     "data": {
      "text/plain": [
       "{'conversation_id': 'oumi_letter_count_0',\n",
       " 'messages': [{'content': \"Can you let me know how many 'r's are in 'pandered'?\",\n",
       "   'role': 'user'}],\n",
       " 'metadata': {'letter': 'r',\n",
       "  'letter_count_integer': 1,\n",
       "  'letter_count_string': 'one',\n",
       "  'unformatted_prompt': 'Can you let me know how many {letter}s are in {word}?',\n",
       "  'word': 'pandered'}}"
      ]
     },
     "execution_count": 5,
     "metadata": {},
     "output_type": "execute_result"
    }
   ],
   "source": [
    "next(iter(dataset))"
   ]
  },
  {
   "cell_type": "markdown",
   "metadata": {
    "id": "1XfsWKEFSgtR"
   },
   "source": [
    "Congratulations, you've trained your first model using Oumi!\n",
    "\n",
    "You can also train your own custom Pytorch model. We cover that in depth in our [Finetuning Tutorial](https://github.com/oumi-ai/oumi/blob/main/notebooks/Oumi%20-%20Finetuning%20Tutorial.ipynb)."
   ]
  },
  {
   "cell_type": "code",
   "execution_count": null,
   "metadata": {},
   "outputs": [],
   "source": []
  },
  {
   "cell_type": "markdown",
   "metadata": {
    "id": "PdMUxYZcSgtR"
   },
   "source": [
    "# 🧠 Model Inference\n",
    "\n",
    "Now that you've trained a model, let's run inference."
   ]
  },
  {
   "cell_type": "code",
   "execution_count": null,
   "metadata": {
    "id": "z4bx6ibXSgtR"
   },
   "outputs": [],
   "source": [
    "yaml_content = f\"\"\"\n",
    "model:\n",
    "  model_name: \"{tutorial_dir}/output\"\n",
    "  torch_dtype_str: \"bfloat16\"\n",
    "\n",
    "generation:\n",
    "  max_new_tokens: 128\n",
    "  batch_size: 1\n",
    "\"\"\"\n",
    "\n",
    "with open(f\"{tutorial_dir}/infer.yaml\", \"w\") as f:\n",
    "    f.write(yaml_content)"
   ]
  },
  {
   "cell_type": "code",
   "execution_count": null,
   "metadata": {
    "id": "XaxxRD1sSgtR"
   },
   "outputs": [],
   "source": [
    "from oumi.core.configs import InferenceConfig\n",
    "from oumi.infer import infer\n",
    "\n",
    "config = InferenceConfig.from_yaml(str(Path(tutorial_dir) / \"infer.yaml\"))\n",
    "\n",
    "input_text = (\n",
    "    \"Remember that we didn't train for long, so the results might not be great.\"\n",
    ")\n",
    "\n",
    "results = infer(config=config, inputs=[input_text])\n",
    "\n",
    "print(results[0])"
   ]
  },
  {
   "cell_type": "markdown",
   "metadata": {
    "id": "xmlA3ynCSgtR"
   },
   "source": [
    "We can also run inference using the pretrained model by slightly tweaking our config:"
   ]
  },
  {
   "cell_type": "code",
   "execution_count": null,
   "metadata": {
    "id": "Wbo2QAxoSgtR"
   },
   "outputs": [],
   "source": [
    "base_model_config = InferenceConfig.from_yaml(str(Path(tutorial_dir) / \"infer.yaml\"))\n",
    "base_model_config.model.model_name = \"HuggingFaceTB/SmolLM2-135M-Instruct\"\n",
    "\n",
    "input_text = \"Input for the pretrained model: What is your name? \"\n",
    "\n",
    "results = infer(config=base_model_config, inputs=[input_text])\n",
    "\n",
    "print(results[0])"
   ]
  },
  {
   "cell_type": "markdown",
   "metadata": {
    "id": "HnxsJBCTSgtR"
   },
   "source": [
    "# 📊 Evaluating a Model against Common Benchmarks\n",
    "\n",
    "You can use Oumi to evaluate pretrained and tuned models against standard benchmarks. For example, let's evaluate our tuned model against `Hellaswag`:"
   ]
  },
  {
   "cell_type": "code",
   "execution_count": null,
   "metadata": {
    "id": "tArOVDzVSgtR"
   },
   "outputs": [],
   "source": [
    "yaml_content = f\"\"\"\n",
    "model:\n",
    "  model_name: \"{tutorial_dir}/output\"\n",
    "  torch_dtype_str: \"bfloat16\"\n",
    "\n",
    "tasks:\n",
    "  - evaluation_backend: lm_harness\n",
    "    task_name: mmlu_college_computer_science\n",
    "\n",
    "generation:\n",
    "  batch_size: null # This will let LM HARNESS find the maximum possible batch size.\n",
    "output_dir: \"{tutorial_dir}/output/evaluation\"\n",
    "\"\"\"\n",
    "\n",
    "with open(f\"{tutorial_dir}/eval.yaml\", \"w\") as f:\n",
    "    f.write(yaml_content)"
   ]
  },
  {
   "cell_type": "code",
   "execution_count": null,
   "metadata": {
    "id": "e-tcwtMhSgtR"
   },
   "outputs": [],
   "source": [
    "from oumi.core.configs import EvaluationConfig\n",
    "from oumi.evaluate import evaluate\n",
    "\n",
    "eval_config = EvaluationConfig.from_yaml(str(Path(tutorial_dir) / \"eval.yaml\"))\n",
    "\n",
    "# Uncomment the following line to run evals against the V1 HuggingFace Leaderboard.\n",
    "# This may take a while.\n",
    "# eval_config.data.datasets[0].dataset_name = \"huggingface_leaderboard_v1\"\n",
    "\n",
    "evaluate(eval_config)"
   ]
  },
  {
   "cell_type": "markdown",
   "metadata": {
    "id": "ZUnIyaZfSgtS"
   },
   "source": [
    "# ☁️ Launching Jobs\n",
    "\n",
    "Oftentimes you'll need to run various tasks (training, evaluation, etc.) on remote hardware that's better suited for the task. Oumi can handle this for you by launching jobs on various compute clusters. For more information about running jobs, see our [Running Jobs Remotely tutorial](https://github.com/oumi-ai/oumi/blob/main/notebooks/Oumi%20-%20Running%20Jobs%20Remotely.ipynb). For running jobs on custom clusters, see our [Launching Jobs on Custom Clusters tutorial](https://github.com/oumi-ai/oumi/blob/main/notebooks/Oumi%20-%20Launching%20Jobs%20on%20Custom%20Clusters.ipynb).\n",
    "\n",
    "\n",
    "Today, Oumi supports running jobs on several cloud provider platforms.\n",
    "\n",
    "For the latest list, we can run the `which_clouds` method:"
   ]
  },
  {
   "cell_type": "code",
   "execution_count": null,
   "metadata": {
    "id": "MJipzQl4SgtS"
   },
   "outputs": [],
   "source": [
    "import oumi.launcher as launcher\n",
    "\n",
    "print(\"Supported Clouds in Oumi:\")\n",
    "for cloud in launcher.which_clouds():\n",
    "    print(cloud)"
   ]
  },
  {
   "cell_type": "markdown",
   "metadata": {
    "id": "5VdZqPtpSgtS"
   },
   "source": [
    "Let's run a simple \"Hello World\" job locally to demonstrate how to use the Oumi job launcher. This job will echo `Hello World`, then run the same training job executed above. Running this job on a cloud provider like GCP simply involves changing the `cloud` field."
   ]
  },
  {
   "cell_type": "code",
   "execution_count": null,
   "metadata": {
    "id": "15_fKEiNSgtS"
   },
   "outputs": [],
   "source": [
    "yaml_content = f\"\"\"\n",
    "name: hello-world\n",
    "resources:\n",
    "  cloud: local\n",
    "\n",
    "working_dir: .\n",
    "\n",
    "envs:\n",
    "  TEST_ENV_VARIABLE: '\"Hello, World!\"'\n",
    "  OUMI_LOGGING_DIR: \"{tutorial_dir}/logs\"\n",
    "\n",
    "run: |\n",
    "  echo \"$TEST_ENV_VARIABLE\"\n",
    "  oumi train -c {tutorial_dir}/train.yaml\n",
    "\"\"\"\n",
    "\n",
    "with open(f\"{tutorial_dir}/job.yaml\", \"w\") as f:\n",
    "    f.write(yaml_content)"
   ]
  },
  {
   "cell_type": "code",
   "execution_count": null,
   "metadata": {
    "id": "VA-n5iUASgtS"
   },
   "outputs": [],
   "source": [
    "import time\n",
    "\n",
    "job_config = launcher.JobConfig.from_yaml(str(Path(tutorial_dir) / \"job.yaml\"))\n",
    "cluster, job_status = launcher.up(job_config, cluster_name=None)\n",
    "\n",
    "while job_status and not job_status.done:\n",
    "    print(\"Job is running...\")\n",
    "    time.sleep(15)\n",
    "    job_status = cluster.get_job(job_status.id)\n",
    "print(\"Job is done!\")"
   ]
  },
  {
   "cell_type": "markdown",
   "metadata": {
    "id": "DuVVlpbOSgtS"
   },
   "source": [
    "The job created logs under our tutorial directory. Let's take a look at the directory:"
   ]
  },
  {
   "cell_type": "code",
   "execution_count": null,
   "metadata": {
    "id": "-BGuSP6XTVKh"
   },
   "outputs": [],
   "source": [
    "logs_dir = f\"{tutorial_dir}/logs\"\n",
    "os.listdir(logs_dir)"
   ]
  },
  {
   "cell_type": "markdown",
   "metadata": {
    "id": "N_iz4i4ATXuB"
   },
   "source": [
    "Now let's parse the logfiles."
   ]
  },
  {
   "cell_type": "code",
   "execution_count": null,
   "metadata": {
    "id": "RbhUaUchSgtT"
   },
   "outputs": [],
   "source": [
    "for log_file in Path(logs_dir).iterdir():\n",
    "    print(f\"Log file: {log_file}\")\n",
    "    with open(log_file) as f:\n",
    "        print(f.read())"
   ]
  },
  {
   "cell_type": "markdown",
   "metadata": {
    "id": "nnWJ_XgiSgtT"
   },
   "source": [
    "# ⚙️ Customizing Datasets and Clusters \n",
    "\n",
    "Oumi offers rich customization that allows users to build custom solutions on top of our existing building blocks. Several of Oumi's primary resources (Datasets, Clouds, etc.) leverage the Oumi Registry when invoked.\n",
    "\n",
    "This registry allows users to build custom classes that function as drop-in replacements for core functionality.\n",
    "\n",
    "For more details on registering custom datasets, see the [tutorial here](https://github.com/oumi-ai/oumi/blob/main/notebooks/Oumi%20-%20Datasets%20Tutorial.ipynb).\n",
    "\n",
    "For a tutorial on writing a custom cloud/cluster for running jobs, see the [tutorial here](https://github.com/oumi-ai/oumi/blob/main/notebooks/Oumi%20-%20Launching%20Jobs%20on%20Custom%20Clusters.ipynb).\n",
    "\n",
    "You can find further information about the required registry decorators [here](https://oumi.ai/docs/en/latest/api/oumi.core.registry.html#oumi.core.registry.register_cloud_builder)."
   ]
  },
  {
   "cell_type": "markdown",
   "metadata": {
    "id": "KcM7KZ2OSgtT"
   },
   "source": [
    "# 🧭 What's Next?\n",
    "\n",
    "Now that you've completed the basic tour, you're ready to tackle the other [notebook guides & tutorials](https://oumi.ai/docs/en/latest/get_started/tutorials.html).\n",
    "\n",
    "If you have not already, make sure to take a look at the [Quickstart](https://oumi.ai/docs/en/latest/get_started/quickstart.html) for an overview of our CLI."
   ]
  }
 ],
 "metadata": {
  "colab": {
   "provenance": []
  },
  "kernelspec": {
   "display_name": "oumi",
   "language": "python",
   "name": "python3"
  },
  "language_info": {
   "codemirror_mode": {
    "name": "ipython",
    "version": 3
   },
   "file_extension": ".py",
   "mimetype": "text/x-python",
   "name": "python",
   "nbconvert_exporter": "python",
   "pygments_lexer": "ipython3",
   "version": "3.11.11"
  }
 },
 "nbformat": 4,
 "nbformat_minor": 0
}
