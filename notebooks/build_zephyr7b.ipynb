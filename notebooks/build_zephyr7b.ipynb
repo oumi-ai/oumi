{
 "cells": [
  {
   "cell_type": "code",
   "execution_count": 1,
   "metadata": {},
   "outputs": [],
   "source": [
    "import os\n",
    "\n",
    "from huggingface_hub import login\n",
    "from omegaconf import OmegaConf\n",
    "\n",
    "from lema.builders import (\n",
    "    build_dataset,\n",
    "    build_model,\n",
    "    build_peft_model,\n",
    "    build_tokenizer,\n",
    "    build_trainer,\n",
    ")\n",
    "from lema.core.types import TrainingConfig\n",
    "from lema.utils.saver import save_model\n",
    "\n",
    "%load_ext autoreload\n",
    "%autoreload 2"
   ]
  },
  {
   "cell_type": "code",
   "execution_count": 2,
   "metadata": {},
   "outputs": [
    {
     "name": "stdout",
     "output_type": "stream",
     "text": [
      "The token has not been saved to the git credentials helper. Pass `add_to_git_credential=True` in this function directly or `--add-to-git-credential` if using via `huggingface-cli` if you want to set the git credential as well.\n",
      "Token is valid (permission: write).\n",
      "Your token has been saved to /Users/optas/.cache/huggingface/token\n",
      "Login successful\n"
     ]
    }
   ],
   "source": [
    "access_token = os.environ.get(\"HF_TOKEN\")\n",
    "login(token=access_token)"
   ]
  },
  {
   "cell_type": "code",
   "execution_count": 4,
   "metadata": {},
   "outputs": [
    {
     "ename": "ValidationError",
     "evalue": "Unexpected type annotation: Literal[none, all, lora_only]\n    full_key: lora_bias\n    object_type=PeftParams",
     "output_type": "error",
     "traceback": [
      "\u001b[0;31m---------------------------------------------------------------------------\u001b[0m",
      "\u001b[0;31mValidationError\u001b[0m                           Traceback (most recent call last)",
      "Cell \u001b[0;32mIn[4], line 2\u001b[0m\n\u001b[1;32m      1\u001b[0m config_filename \u001b[38;5;241m=\u001b[39m \u001b[38;5;124m\"\u001b[39m\u001b[38;5;124m../configs/lema/zephyr.7b.sft.yaml\u001b[39m\u001b[38;5;124m\"\u001b[39m\n\u001b[0;32m----> 2\u001b[0m base_config \u001b[38;5;241m=\u001b[39m OmegaConf\u001b[38;5;241m.\u001b[39mstructured(TrainingConfig)\n\u001b[1;32m      3\u001b[0m file_config \u001b[38;5;241m=\u001b[39m TrainingConfig\u001b[38;5;241m.\u001b[39mfrom_yaml(config_filename)\n\u001b[1;32m      4\u001b[0m config \u001b[38;5;241m=\u001b[39m OmegaConf\u001b[38;5;241m.\u001b[39mmerge(base_config, file_config)\n",
      "File \u001b[0;32m~/miniconda3/envs/lema/lib/python3.11/site-packages/omegaconf/omegaconf.py:125\u001b[0m, in \u001b[0;36mOmegaConf.structured\u001b[0;34m(obj, parent, flags)\u001b[0m\n\u001b[1;32m    119\u001b[0m \u001b[38;5;129m@staticmethod\u001b[39m\n\u001b[1;32m    120\u001b[0m \u001b[38;5;28;01mdef\u001b[39;00m \u001b[38;5;21mstructured\u001b[39m(\n\u001b[1;32m    121\u001b[0m     obj: Any,\n\u001b[1;32m    122\u001b[0m     parent: Optional[BaseContainer] \u001b[38;5;241m=\u001b[39m \u001b[38;5;28;01mNone\u001b[39;00m,\n\u001b[1;32m    123\u001b[0m     flags: Optional[Dict[\u001b[38;5;28mstr\u001b[39m, \u001b[38;5;28mbool\u001b[39m]] \u001b[38;5;241m=\u001b[39m \u001b[38;5;28;01mNone\u001b[39;00m,\n\u001b[1;32m    124\u001b[0m ) \u001b[38;5;241m-\u001b[39m\u001b[38;5;241m>\u001b[39m Any:\n\u001b[0;32m--> 125\u001b[0m     \u001b[38;5;28;01mreturn\u001b[39;00m OmegaConf\u001b[38;5;241m.\u001b[39mcreate(obj, parent, flags)\n",
      "File \u001b[0;32m~/miniconda3/envs/lema/lib/python3.11/site-packages/omegaconf/omegaconf.py:178\u001b[0m, in \u001b[0;36mOmegaConf.create\u001b[0;34m(obj, parent, flags)\u001b[0m\n\u001b[1;32m    172\u001b[0m \u001b[38;5;129m@staticmethod\u001b[39m\n\u001b[1;32m    173\u001b[0m \u001b[38;5;28;01mdef\u001b[39;00m \u001b[38;5;21mcreate\u001b[39m(  \u001b[38;5;66;03m# noqa F811\u001b[39;00m\n\u001b[1;32m    174\u001b[0m     obj: Any \u001b[38;5;241m=\u001b[39m _DEFAULT_MARKER_,\n\u001b[1;32m    175\u001b[0m     parent: Optional[BaseContainer] \u001b[38;5;241m=\u001b[39m \u001b[38;5;28;01mNone\u001b[39;00m,\n\u001b[1;32m    176\u001b[0m     flags: Optional[Dict[\u001b[38;5;28mstr\u001b[39m, \u001b[38;5;28mbool\u001b[39m]] \u001b[38;5;241m=\u001b[39m \u001b[38;5;28;01mNone\u001b[39;00m,\n\u001b[1;32m    177\u001b[0m ) \u001b[38;5;241m-\u001b[39m\u001b[38;5;241m>\u001b[39m Union[DictConfig, ListConfig]:\n\u001b[0;32m--> 178\u001b[0m     \u001b[38;5;28;01mreturn\u001b[39;00m OmegaConf\u001b[38;5;241m.\u001b[39m_create_impl(\n\u001b[1;32m    179\u001b[0m         obj\u001b[38;5;241m=\u001b[39mobj,\n\u001b[1;32m    180\u001b[0m         parent\u001b[38;5;241m=\u001b[39mparent,\n\u001b[1;32m    181\u001b[0m         flags\u001b[38;5;241m=\u001b[39mflags,\n\u001b[1;32m    182\u001b[0m     )\n",
      "File \u001b[0;32m~/miniconda3/envs/lema/lib/python3.11/site-packages/omegaconf/omegaconf.py:900\u001b[0m, in \u001b[0;36mOmegaConf._create_impl\u001b[0;34m(obj, parent, flags)\u001b[0m\n\u001b[1;32m    896\u001b[0m                 \u001b[38;5;28;01mraise\u001b[39;00m ValidationError(\n\u001b[1;32m    897\u001b[0m                     \u001b[38;5;124mf\u001b[39m\u001b[38;5;124m\"\u001b[39m\u001b[38;5;124mObject of unsupported type: \u001b[39m\u001b[38;5;124m'\u001b[39m\u001b[38;5;132;01m{\u001b[39;00m\u001b[38;5;28mtype\u001b[39m(obj)\u001b[38;5;241m.\u001b[39m\u001b[38;5;18m__name__\u001b[39m\u001b[38;5;132;01m}\u001b[39;00m\u001b[38;5;124m'\u001b[39m\u001b[38;5;124m\"\u001b[39m\n\u001b[1;32m    898\u001b[0m                 )\n\u001b[1;32m    899\u001b[0m \u001b[38;5;28;01mexcept\u001b[39;00m OmegaConfBaseException \u001b[38;5;28;01mas\u001b[39;00m e:\n\u001b[0;32m--> 900\u001b[0m     format_and_raise(node\u001b[38;5;241m=\u001b[39m\u001b[38;5;28;01mNone\u001b[39;00m, key\u001b[38;5;241m=\u001b[39m\u001b[38;5;28;01mNone\u001b[39;00m, value\u001b[38;5;241m=\u001b[39m\u001b[38;5;28;01mNone\u001b[39;00m, msg\u001b[38;5;241m=\u001b[39m\u001b[38;5;28mstr\u001b[39m(e), cause\u001b[38;5;241m=\u001b[39me)\n\u001b[1;32m    901\u001b[0m     \u001b[38;5;28;01massert\u001b[39;00m \u001b[38;5;28;01mFalse\u001b[39;00m\n",
      "File \u001b[0;32m~/miniconda3/envs/lema/lib/python3.11/site-packages/omegaconf/_utils.py:819\u001b[0m, in \u001b[0;36mformat_and_raise\u001b[0;34m(node, key, value, msg, cause, type_override)\u001b[0m\n\u001b[1;32m    817\u001b[0m         ex \u001b[38;5;241m=\u001b[39m type_override(\u001b[38;5;28mstr\u001b[39m(cause))\n\u001b[1;32m    818\u001b[0m         ex\u001b[38;5;241m.\u001b[39m\u001b[38;5;18m__dict__\u001b[39m \u001b[38;5;241m=\u001b[39m copy\u001b[38;5;241m.\u001b[39mdeepcopy(cause\u001b[38;5;241m.\u001b[39m\u001b[38;5;18m__dict__\u001b[39m)\n\u001b[0;32m--> 819\u001b[0m     _raise(ex, cause)\n\u001b[1;32m    821\u001b[0m object_type: Optional[Type[Any]]\n\u001b[1;32m    822\u001b[0m object_type_str: Optional[\u001b[38;5;28mstr\u001b[39m] \u001b[38;5;241m=\u001b[39m \u001b[38;5;28;01mNone\u001b[39;00m\n",
      "File \u001b[0;32m~/miniconda3/envs/lema/lib/python3.11/site-packages/omegaconf/_utils.py:797\u001b[0m, in \u001b[0;36m_raise\u001b[0;34m(ex, cause)\u001b[0m\n\u001b[1;32m    795\u001b[0m \u001b[38;5;28;01melse\u001b[39;00m:\n\u001b[1;32m    796\u001b[0m     ex\u001b[38;5;241m.\u001b[39m__cause__ \u001b[38;5;241m=\u001b[39m \u001b[38;5;28;01mNone\u001b[39;00m\n\u001b[0;32m--> 797\u001b[0m \u001b[38;5;28;01mraise\u001b[39;00m ex\u001b[38;5;241m.\u001b[39mwith_traceback(sys\u001b[38;5;241m.\u001b[39mexc_info()[\u001b[38;5;241m2\u001b[39m])\n",
      "File \u001b[0;32m~/miniconda3/envs/lema/lib/python3.11/site-packages/omegaconf/omegaconf.py:861\u001b[0m, in \u001b[0;36mOmegaConf._create_impl\u001b[0;34m(obj, parent, flags)\u001b[0m\n\u001b[1;32m    859\u001b[0m         obj_type \u001b[38;5;241m=\u001b[39m OmegaConf\u001b[38;5;241m.\u001b[39mget_type(obj)\n\u001b[1;32m    860\u001b[0m         key_type, element_type \u001b[38;5;241m=\u001b[39m get_dict_key_value_types(obj_type)\n\u001b[0;32m--> 861\u001b[0m         \u001b[38;5;28;01mreturn\u001b[39;00m DictConfig(\n\u001b[1;32m    862\u001b[0m             content\u001b[38;5;241m=\u001b[39mobj,\n\u001b[1;32m    863\u001b[0m             parent\u001b[38;5;241m=\u001b[39mparent,\n\u001b[1;32m    864\u001b[0m             key_type\u001b[38;5;241m=\u001b[39mkey_type,\n\u001b[1;32m    865\u001b[0m             element_type\u001b[38;5;241m=\u001b[39melement_type,\n\u001b[1;32m    866\u001b[0m             flags\u001b[38;5;241m=\u001b[39mflags,\n\u001b[1;32m    867\u001b[0m         )\n\u001b[1;32m    868\u001b[0m \u001b[38;5;28;01melif\u001b[39;00m is_primitive_list(obj) \u001b[38;5;129;01mor\u001b[39;00m OmegaConf\u001b[38;5;241m.\u001b[39mis_list(obj):\n\u001b[1;32m    869\u001b[0m     \u001b[38;5;28;01mif\u001b[39;00m \u001b[38;5;28misinstance\u001b[39m(obj, ListConfig):\n",
      "File \u001b[0;32m~/miniconda3/envs/lema/lib/python3.11/site-packages/omegaconf/dictconfig.py:111\u001b[0m, in \u001b[0;36mDictConfig.__init__\u001b[0;34m(self, content, key, parent, ref_type, key_type, element_type, is_optional, flags)\u001b[0m\n\u001b[1;32m    109\u001b[0m         \u001b[38;5;28mself\u001b[39m\u001b[38;5;241m.\u001b[39m_set_value(content, flags\u001b[38;5;241m=\u001b[39mflags)\n\u001b[1;32m    110\u001b[0m \u001b[38;5;28;01mexcept\u001b[39;00m \u001b[38;5;167;01mException\u001b[39;00m \u001b[38;5;28;01mas\u001b[39;00m ex:\n\u001b[0;32m--> 111\u001b[0m     format_and_raise(node\u001b[38;5;241m=\u001b[39m\u001b[38;5;28;01mNone\u001b[39;00m, key\u001b[38;5;241m=\u001b[39mkey, value\u001b[38;5;241m=\u001b[39m\u001b[38;5;28;01mNone\u001b[39;00m, cause\u001b[38;5;241m=\u001b[39mex, msg\u001b[38;5;241m=\u001b[39m\u001b[38;5;28mstr\u001b[39m(ex))\n",
      "File \u001b[0;32m~/miniconda3/envs/lema/lib/python3.11/site-packages/omegaconf/_utils.py:819\u001b[0m, in \u001b[0;36mformat_and_raise\u001b[0;34m(node, key, value, msg, cause, type_override)\u001b[0m\n\u001b[1;32m    817\u001b[0m         ex \u001b[38;5;241m=\u001b[39m type_override(\u001b[38;5;28mstr\u001b[39m(cause))\n\u001b[1;32m    818\u001b[0m         ex\u001b[38;5;241m.\u001b[39m\u001b[38;5;18m__dict__\u001b[39m \u001b[38;5;241m=\u001b[39m copy\u001b[38;5;241m.\u001b[39mdeepcopy(cause\u001b[38;5;241m.\u001b[39m\u001b[38;5;18m__dict__\u001b[39m)\n\u001b[0;32m--> 819\u001b[0m     _raise(ex, cause)\n\u001b[1;32m    821\u001b[0m object_type: Optional[Type[Any]]\n\u001b[1;32m    822\u001b[0m object_type_str: Optional[\u001b[38;5;28mstr\u001b[39m] \u001b[38;5;241m=\u001b[39m \u001b[38;5;28;01mNone\u001b[39;00m\n",
      "File \u001b[0;32m~/miniconda3/envs/lema/lib/python3.11/site-packages/omegaconf/_utils.py:797\u001b[0m, in \u001b[0;36m_raise\u001b[0;34m(ex, cause)\u001b[0m\n\u001b[1;32m    795\u001b[0m \u001b[38;5;28;01melse\u001b[39;00m:\n\u001b[1;32m    796\u001b[0m     ex\u001b[38;5;241m.\u001b[39m__cause__ \u001b[38;5;241m=\u001b[39m \u001b[38;5;28;01mNone\u001b[39;00m\n\u001b[0;32m--> 797\u001b[0m \u001b[38;5;28;01mraise\u001b[39;00m ex\u001b[38;5;241m.\u001b[39mwith_traceback(sys\u001b[38;5;241m.\u001b[39mexc_info()[\u001b[38;5;241m2\u001b[39m])\n",
      "File \u001b[0;32m~/miniconda3/envs/lema/lib/python3.11/site-packages/omegaconf/dictconfig.py:94\u001b[0m, in \u001b[0;36mDictConfig.__init__\u001b[0;34m(self, content, key, parent, ref_type, key_type, element_type, is_optional, flags)\u001b[0m\n\u001b[1;32m     91\u001b[0m     \u001b[38;5;28;01mraise\u001b[39;00m KeyValidationError(\u001b[38;5;124mf\u001b[39m\u001b[38;5;124m\"\u001b[39m\u001b[38;5;124mUnsupported key type \u001b[39m\u001b[38;5;132;01m{\u001b[39;00mkey_type\u001b[38;5;132;01m}\u001b[39;00m\u001b[38;5;124m\"\u001b[39m)\n\u001b[1;32m     93\u001b[0m \u001b[38;5;28;01mif\u001b[39;00m is_structured_config(content) \u001b[38;5;129;01mor\u001b[39;00m is_structured_config(ref_type):\n\u001b[0;32m---> 94\u001b[0m     \u001b[38;5;28mself\u001b[39m\u001b[38;5;241m.\u001b[39m_set_value(content, flags\u001b[38;5;241m=\u001b[39mflags)\n\u001b[1;32m     95\u001b[0m     \u001b[38;5;28;01mif\u001b[39;00m is_structured_config_frozen(content) \u001b[38;5;129;01mor\u001b[39;00m is_structured_config_frozen(\n\u001b[1;32m     96\u001b[0m         ref_type\n\u001b[1;32m     97\u001b[0m     ):\n\u001b[1;32m     98\u001b[0m         \u001b[38;5;28mself\u001b[39m\u001b[38;5;241m.\u001b[39m_set_flag(\u001b[38;5;124m\"\u001b[39m\u001b[38;5;124mreadonly\u001b[39m\u001b[38;5;124m\"\u001b[39m, \u001b[38;5;28;01mTrue\u001b[39;00m)\n",
      "File \u001b[0;32m~/miniconda3/envs/lema/lib/python3.11/site-packages/omegaconf/dictconfig.py:647\u001b[0m, in \u001b[0;36mDictConfig._set_value\u001b[0;34m(self, value, flags)\u001b[0m\n\u001b[1;32m    645\u001b[0m \u001b[38;5;28;01mexcept\u001b[39;00m \u001b[38;5;167;01mException\u001b[39;00m \u001b[38;5;28;01mas\u001b[39;00m e:\n\u001b[1;32m    646\u001b[0m     \u001b[38;5;28mself\u001b[39m\u001b[38;5;241m.\u001b[39m\u001b[38;5;18m__dict__\u001b[39m[\u001b[38;5;124m\"\u001b[39m\u001b[38;5;124m_content\u001b[39m\u001b[38;5;124m\"\u001b[39m] \u001b[38;5;241m=\u001b[39m previous_content\n\u001b[0;32m--> 647\u001b[0m     \u001b[38;5;28;01mraise\u001b[39;00m e\n",
      "File \u001b[0;32m~/miniconda3/envs/lema/lib/python3.11/site-packages/omegaconf/dictconfig.py:644\u001b[0m, in \u001b[0;36mDictConfig._set_value\u001b[0;34m(self, value, flags)\u001b[0m\n\u001b[1;32m    642\u001b[0m \u001b[38;5;28;01mtry\u001b[39;00m:\n\u001b[1;32m    643\u001b[0m     previous_content \u001b[38;5;241m=\u001b[39m \u001b[38;5;28mself\u001b[39m\u001b[38;5;241m.\u001b[39m\u001b[38;5;18m__dict__\u001b[39m[\u001b[38;5;124m\"\u001b[39m\u001b[38;5;124m_content\u001b[39m\u001b[38;5;124m\"\u001b[39m]\n\u001b[0;32m--> 644\u001b[0m     \u001b[38;5;28mself\u001b[39m\u001b[38;5;241m.\u001b[39m_set_value_impl(value, flags)\n\u001b[1;32m    645\u001b[0m \u001b[38;5;28;01mexcept\u001b[39;00m \u001b[38;5;167;01mException\u001b[39;00m \u001b[38;5;28;01mas\u001b[39;00m e:\n\u001b[1;32m    646\u001b[0m     \u001b[38;5;28mself\u001b[39m\u001b[38;5;241m.\u001b[39m\u001b[38;5;18m__dict__\u001b[39m[\u001b[38;5;124m\"\u001b[39m\u001b[38;5;124m_content\u001b[39m\u001b[38;5;124m\"\u001b[39m] \u001b[38;5;241m=\u001b[39m previous_content\n",
      "File \u001b[0;32m~/miniconda3/envs/lema/lib/python3.11/site-packages/omegaconf/dictconfig.py:674\u001b[0m, in \u001b[0;36mDictConfig._set_value_impl\u001b[0;34m(self, value, flags)\u001b[0m\n\u001b[1;32m    672\u001b[0m \u001b[38;5;28mself\u001b[39m\u001b[38;5;241m.\u001b[39m_metadata\u001b[38;5;241m.\u001b[39mobject_type \u001b[38;5;241m=\u001b[39m \u001b[38;5;28;01mNone\u001b[39;00m\n\u001b[1;32m    673\u001b[0m ao \u001b[38;5;241m=\u001b[39m \u001b[38;5;28mself\u001b[39m\u001b[38;5;241m.\u001b[39m_get_flag(\u001b[38;5;124m\"\u001b[39m\u001b[38;5;124mallow_objects\u001b[39m\u001b[38;5;124m\"\u001b[39m)\n\u001b[0;32m--> 674\u001b[0m data \u001b[38;5;241m=\u001b[39m get_structured_config_data(value, allow_objects\u001b[38;5;241m=\u001b[39mao)\n\u001b[1;32m    675\u001b[0m \u001b[38;5;28;01mwith\u001b[39;00m flag_override(\u001b[38;5;28mself\u001b[39m, [\u001b[38;5;124m\"\u001b[39m\u001b[38;5;124mstruct\u001b[39m\u001b[38;5;124m\"\u001b[39m, \u001b[38;5;124m\"\u001b[39m\u001b[38;5;124mreadonly\u001b[39m\u001b[38;5;124m\"\u001b[39m], \u001b[38;5;28;01mFalse\u001b[39;00m):\n\u001b[1;32m    676\u001b[0m     \u001b[38;5;28;01mfor\u001b[39;00m k, v \u001b[38;5;129;01min\u001b[39;00m data\u001b[38;5;241m.\u001b[39mitems():\n",
      "File \u001b[0;32m~/miniconda3/envs/lema/lib/python3.11/site-packages/omegaconf/_utils.py:495\u001b[0m, in \u001b[0;36mget_structured_config_data\u001b[0;34m(obj, allow_objects)\u001b[0m\n\u001b[1;32m    491\u001b[0m \u001b[38;5;28;01mdef\u001b[39;00m \u001b[38;5;21mget_structured_config_data\u001b[39m(\n\u001b[1;32m    492\u001b[0m     obj: Any, allow_objects: Optional[\u001b[38;5;28mbool\u001b[39m] \u001b[38;5;241m=\u001b[39m \u001b[38;5;28;01mNone\u001b[39;00m\n\u001b[1;32m    493\u001b[0m ) \u001b[38;5;241m-\u001b[39m\u001b[38;5;241m>\u001b[39m Dict[\u001b[38;5;28mstr\u001b[39m, Any]:\n\u001b[1;32m    494\u001b[0m     \u001b[38;5;28;01mif\u001b[39;00m is_dataclass(obj):\n\u001b[0;32m--> 495\u001b[0m         \u001b[38;5;28;01mreturn\u001b[39;00m get_dataclass_data(obj, allow_objects\u001b[38;5;241m=\u001b[39mallow_objects)\n\u001b[1;32m    496\u001b[0m     \u001b[38;5;28;01melif\u001b[39;00m is_attr_class(obj):\n\u001b[1;32m    497\u001b[0m         \u001b[38;5;28;01mreturn\u001b[39;00m get_attr_data(obj, allow_objects\u001b[38;5;241m=\u001b[39mallow_objects)\n",
      "File \u001b[0;32m~/miniconda3/envs/lema/lib/python3.11/site-packages/omegaconf/_utils.py:421\u001b[0m, in \u001b[0;36mget_dataclass_data\u001b[0;34m(obj, allow_objects)\u001b[0m\n\u001b[1;32m    413\u001b[0m         d[name] \u001b[38;5;241m=\u001b[39m _maybe_wrap(\n\u001b[1;32m    414\u001b[0m             ref_type\u001b[38;5;241m=\u001b[39mtype_,\n\u001b[1;32m    415\u001b[0m             is_optional\u001b[38;5;241m=\u001b[39mis_optional,\n\u001b[0;32m   (...)\u001b[0m\n\u001b[1;32m    418\u001b[0m             parent\u001b[38;5;241m=\u001b[39mdummy_parent,\n\u001b[1;32m    419\u001b[0m         )\n\u001b[1;32m    420\u001b[0m     \u001b[38;5;28;01mexcept\u001b[39;00m (ValidationError, GrammarParseError) \u001b[38;5;28;01mas\u001b[39;00m ex:\n\u001b[0;32m--> 421\u001b[0m         format_and_raise(\n\u001b[1;32m    422\u001b[0m             node\u001b[38;5;241m=\u001b[39mdummy_parent, key\u001b[38;5;241m=\u001b[39mname, value\u001b[38;5;241m=\u001b[39mvalue, cause\u001b[38;5;241m=\u001b[39mex, msg\u001b[38;5;241m=\u001b[39m\u001b[38;5;28mstr\u001b[39m(ex)\n\u001b[1;32m    423\u001b[0m         )\n\u001b[1;32m    424\u001b[0m     d[name]\u001b[38;5;241m.\u001b[39m_set_parent(\u001b[38;5;28;01mNone\u001b[39;00m)\n\u001b[1;32m    425\u001b[0m dict_subclass_data \u001b[38;5;241m=\u001b[39m extract_dict_subclass_data(obj\u001b[38;5;241m=\u001b[39mobj, parent\u001b[38;5;241m=\u001b[39mdummy_parent)\n",
      "File \u001b[0;32m~/miniconda3/envs/lema/lib/python3.11/site-packages/omegaconf/_utils.py:819\u001b[0m, in \u001b[0;36mformat_and_raise\u001b[0;34m(node, key, value, msg, cause, type_override)\u001b[0m\n\u001b[1;32m    817\u001b[0m         ex \u001b[38;5;241m=\u001b[39m type_override(\u001b[38;5;28mstr\u001b[39m(cause))\n\u001b[1;32m    818\u001b[0m         ex\u001b[38;5;241m.\u001b[39m\u001b[38;5;18m__dict__\u001b[39m \u001b[38;5;241m=\u001b[39m copy\u001b[38;5;241m.\u001b[39mdeepcopy(cause\u001b[38;5;241m.\u001b[39m\u001b[38;5;18m__dict__\u001b[39m)\n\u001b[0;32m--> 819\u001b[0m     _raise(ex, cause)\n\u001b[1;32m    821\u001b[0m object_type: Optional[Type[Any]]\n\u001b[1;32m    822\u001b[0m object_type_str: Optional[\u001b[38;5;28mstr\u001b[39m] \u001b[38;5;241m=\u001b[39m \u001b[38;5;28;01mNone\u001b[39;00m\n",
      "File \u001b[0;32m~/miniconda3/envs/lema/lib/python3.11/site-packages/omegaconf/_utils.py:797\u001b[0m, in \u001b[0;36m_raise\u001b[0;34m(ex, cause)\u001b[0m\n\u001b[1;32m    795\u001b[0m \u001b[38;5;28;01melse\u001b[39;00m:\n\u001b[1;32m    796\u001b[0m     ex\u001b[38;5;241m.\u001b[39m__cause__ \u001b[38;5;241m=\u001b[39m \u001b[38;5;28;01mNone\u001b[39;00m\n\u001b[0;32m--> 797\u001b[0m \u001b[38;5;28;01mraise\u001b[39;00m ex\u001b[38;5;241m.\u001b[39mwith_traceback(sys\u001b[38;5;241m.\u001b[39mexc_info()[\u001b[38;5;241m2\u001b[39m])\n",
      "File \u001b[0;32m~/miniconda3/envs/lema/lib/python3.11/site-packages/omegaconf/_utils.py:413\u001b[0m, in \u001b[0;36mget_dataclass_data\u001b[0;34m(obj, allow_objects)\u001b[0m\n\u001b[1;32m    411\u001b[0m     format_and_raise(node\u001b[38;5;241m=\u001b[39m\u001b[38;5;28;01mNone\u001b[39;00m, key\u001b[38;5;241m=\u001b[39m\u001b[38;5;28;01mNone\u001b[39;00m, value\u001b[38;5;241m=\u001b[39mvalue, cause\u001b[38;5;241m=\u001b[39me, msg\u001b[38;5;241m=\u001b[39m\u001b[38;5;28mstr\u001b[39m(e))\n\u001b[1;32m    412\u001b[0m \u001b[38;5;28;01mtry\u001b[39;00m:\n\u001b[0;32m--> 413\u001b[0m     d[name] \u001b[38;5;241m=\u001b[39m _maybe_wrap(\n\u001b[1;32m    414\u001b[0m         ref_type\u001b[38;5;241m=\u001b[39mtype_,\n\u001b[1;32m    415\u001b[0m         is_optional\u001b[38;5;241m=\u001b[39mis_optional,\n\u001b[1;32m    416\u001b[0m         key\u001b[38;5;241m=\u001b[39mname,\n\u001b[1;32m    417\u001b[0m         value\u001b[38;5;241m=\u001b[39mvalue,\n\u001b[1;32m    418\u001b[0m         parent\u001b[38;5;241m=\u001b[39mdummy_parent,\n\u001b[1;32m    419\u001b[0m     )\n\u001b[1;32m    420\u001b[0m \u001b[38;5;28;01mexcept\u001b[39;00m (ValidationError, GrammarParseError) \u001b[38;5;28;01mas\u001b[39;00m ex:\n\u001b[1;32m    421\u001b[0m     format_and_raise(\n\u001b[1;32m    422\u001b[0m         node\u001b[38;5;241m=\u001b[39mdummy_parent, key\u001b[38;5;241m=\u001b[39mname, value\u001b[38;5;241m=\u001b[39mvalue, cause\u001b[38;5;241m=\u001b[39mex, msg\u001b[38;5;241m=\u001b[39m\u001b[38;5;28mstr\u001b[39m(ex)\n\u001b[1;32m    423\u001b[0m     )\n",
      "File \u001b[0;32m~/miniconda3/envs/lema/lib/python3.11/site-packages/omegaconf/omegaconf.py:1105\u001b[0m, in \u001b[0;36m_maybe_wrap\u001b[0;34m(ref_type, key, value, is_optional, parent)\u001b[0m\n\u001b[1;32m   1103\u001b[0m     \u001b[38;5;28;01mreturn\u001b[39;00m value\n\u001b[1;32m   1104\u001b[0m \u001b[38;5;28;01melse\u001b[39;00m:\n\u001b[0;32m-> 1105\u001b[0m     \u001b[38;5;28;01mreturn\u001b[39;00m _node_wrap(\n\u001b[1;32m   1106\u001b[0m         ref_type\u001b[38;5;241m=\u001b[39mref_type,\n\u001b[1;32m   1107\u001b[0m         parent\u001b[38;5;241m=\u001b[39mparent,\n\u001b[1;32m   1108\u001b[0m         is_optional\u001b[38;5;241m=\u001b[39mis_optional,\n\u001b[1;32m   1109\u001b[0m         value\u001b[38;5;241m=\u001b[39mvalue,\n\u001b[1;32m   1110\u001b[0m         key\u001b[38;5;241m=\u001b[39mkey,\n\u001b[1;32m   1111\u001b[0m     )\n",
      "File \u001b[0;32m~/miniconda3/envs/lema/lib/python3.11/site-packages/omegaconf/omegaconf.py:1027\u001b[0m, in \u001b[0;36m_node_wrap\u001b[0;34m(parent, is_optional, value, key, ref_type)\u001b[0m\n\u001b[1;32m   1025\u001b[0m \u001b[38;5;28;01melif\u001b[39;00m is_structured_config(ref_type) \u001b[38;5;129;01mor\u001b[39;00m is_structured_config(value):\n\u001b[1;32m   1026\u001b[0m     key_type, element_type \u001b[38;5;241m=\u001b[39m get_dict_key_value_types(value)\n\u001b[0;32m-> 1027\u001b[0m     node \u001b[38;5;241m=\u001b[39m DictConfig(\n\u001b[1;32m   1028\u001b[0m         ref_type\u001b[38;5;241m=\u001b[39mref_type,\n\u001b[1;32m   1029\u001b[0m         is_optional\u001b[38;5;241m=\u001b[39mis_optional,\n\u001b[1;32m   1030\u001b[0m         content\u001b[38;5;241m=\u001b[39mvalue,\n\u001b[1;32m   1031\u001b[0m         key\u001b[38;5;241m=\u001b[39mkey,\n\u001b[1;32m   1032\u001b[0m         parent\u001b[38;5;241m=\u001b[39mparent,\n\u001b[1;32m   1033\u001b[0m         key_type\u001b[38;5;241m=\u001b[39mkey_type,\n\u001b[1;32m   1034\u001b[0m         element_type\u001b[38;5;241m=\u001b[39melement_type,\n\u001b[1;32m   1035\u001b[0m     )\n\u001b[1;32m   1036\u001b[0m \u001b[38;5;28;01melif\u001b[39;00m is_union_annotation(ref_type):\n\u001b[1;32m   1037\u001b[0m     node \u001b[38;5;241m=\u001b[39m UnionNode(\n\u001b[1;32m   1038\u001b[0m         content\u001b[38;5;241m=\u001b[39mvalue,\n\u001b[1;32m   1039\u001b[0m         ref_type\u001b[38;5;241m=\u001b[39mref_type,\n\u001b[0;32m   (...)\u001b[0m\n\u001b[1;32m   1042\u001b[0m         parent\u001b[38;5;241m=\u001b[39mparent,\n\u001b[1;32m   1043\u001b[0m     )\n",
      "File \u001b[0;32m~/miniconda3/envs/lema/lib/python3.11/site-packages/omegaconf/dictconfig.py:111\u001b[0m, in \u001b[0;36mDictConfig.__init__\u001b[0;34m(self, content, key, parent, ref_type, key_type, element_type, is_optional, flags)\u001b[0m\n\u001b[1;32m    109\u001b[0m         \u001b[38;5;28mself\u001b[39m\u001b[38;5;241m.\u001b[39m_set_value(content, flags\u001b[38;5;241m=\u001b[39mflags)\n\u001b[1;32m    110\u001b[0m \u001b[38;5;28;01mexcept\u001b[39;00m \u001b[38;5;167;01mException\u001b[39;00m \u001b[38;5;28;01mas\u001b[39;00m ex:\n\u001b[0;32m--> 111\u001b[0m     format_and_raise(node\u001b[38;5;241m=\u001b[39m\u001b[38;5;28;01mNone\u001b[39;00m, key\u001b[38;5;241m=\u001b[39mkey, value\u001b[38;5;241m=\u001b[39m\u001b[38;5;28;01mNone\u001b[39;00m, cause\u001b[38;5;241m=\u001b[39mex, msg\u001b[38;5;241m=\u001b[39m\u001b[38;5;28mstr\u001b[39m(ex))\n",
      "File \u001b[0;32m~/miniconda3/envs/lema/lib/python3.11/site-packages/omegaconf/_utils.py:819\u001b[0m, in \u001b[0;36mformat_and_raise\u001b[0;34m(node, key, value, msg, cause, type_override)\u001b[0m\n\u001b[1;32m    817\u001b[0m         ex \u001b[38;5;241m=\u001b[39m type_override(\u001b[38;5;28mstr\u001b[39m(cause))\n\u001b[1;32m    818\u001b[0m         ex\u001b[38;5;241m.\u001b[39m\u001b[38;5;18m__dict__\u001b[39m \u001b[38;5;241m=\u001b[39m copy\u001b[38;5;241m.\u001b[39mdeepcopy(cause\u001b[38;5;241m.\u001b[39m\u001b[38;5;18m__dict__\u001b[39m)\n\u001b[0;32m--> 819\u001b[0m     _raise(ex, cause)\n\u001b[1;32m    821\u001b[0m object_type: Optional[Type[Any]]\n\u001b[1;32m    822\u001b[0m object_type_str: Optional[\u001b[38;5;28mstr\u001b[39m] \u001b[38;5;241m=\u001b[39m \u001b[38;5;28;01mNone\u001b[39;00m\n",
      "File \u001b[0;32m~/miniconda3/envs/lema/lib/python3.11/site-packages/omegaconf/_utils.py:797\u001b[0m, in \u001b[0;36m_raise\u001b[0;34m(ex, cause)\u001b[0m\n\u001b[1;32m    795\u001b[0m \u001b[38;5;28;01melse\u001b[39;00m:\n\u001b[1;32m    796\u001b[0m     ex\u001b[38;5;241m.\u001b[39m__cause__ \u001b[38;5;241m=\u001b[39m \u001b[38;5;28;01mNone\u001b[39;00m\n\u001b[0;32m--> 797\u001b[0m \u001b[38;5;28;01mraise\u001b[39;00m ex\u001b[38;5;241m.\u001b[39mwith_traceback(sys\u001b[38;5;241m.\u001b[39mexc_info()[\u001b[38;5;241m2\u001b[39m])\n",
      "File \u001b[0;32m~/miniconda3/envs/lema/lib/python3.11/site-packages/omegaconf/dictconfig.py:94\u001b[0m, in \u001b[0;36mDictConfig.__init__\u001b[0;34m(self, content, key, parent, ref_type, key_type, element_type, is_optional, flags)\u001b[0m\n\u001b[1;32m     91\u001b[0m     \u001b[38;5;28;01mraise\u001b[39;00m KeyValidationError(\u001b[38;5;124mf\u001b[39m\u001b[38;5;124m\"\u001b[39m\u001b[38;5;124mUnsupported key type \u001b[39m\u001b[38;5;132;01m{\u001b[39;00mkey_type\u001b[38;5;132;01m}\u001b[39;00m\u001b[38;5;124m\"\u001b[39m)\n\u001b[1;32m     93\u001b[0m \u001b[38;5;28;01mif\u001b[39;00m is_structured_config(content) \u001b[38;5;129;01mor\u001b[39;00m is_structured_config(ref_type):\n\u001b[0;32m---> 94\u001b[0m     \u001b[38;5;28mself\u001b[39m\u001b[38;5;241m.\u001b[39m_set_value(content, flags\u001b[38;5;241m=\u001b[39mflags)\n\u001b[1;32m     95\u001b[0m     \u001b[38;5;28;01mif\u001b[39;00m is_structured_config_frozen(content) \u001b[38;5;129;01mor\u001b[39;00m is_structured_config_frozen(\n\u001b[1;32m     96\u001b[0m         ref_type\n\u001b[1;32m     97\u001b[0m     ):\n\u001b[1;32m     98\u001b[0m         \u001b[38;5;28mself\u001b[39m\u001b[38;5;241m.\u001b[39m_set_flag(\u001b[38;5;124m\"\u001b[39m\u001b[38;5;124mreadonly\u001b[39m\u001b[38;5;124m\"\u001b[39m, \u001b[38;5;28;01mTrue\u001b[39;00m)\n",
      "File \u001b[0;32m~/miniconda3/envs/lema/lib/python3.11/site-packages/omegaconf/dictconfig.py:647\u001b[0m, in \u001b[0;36mDictConfig._set_value\u001b[0;34m(self, value, flags)\u001b[0m\n\u001b[1;32m    645\u001b[0m \u001b[38;5;28;01mexcept\u001b[39;00m \u001b[38;5;167;01mException\u001b[39;00m \u001b[38;5;28;01mas\u001b[39;00m e:\n\u001b[1;32m    646\u001b[0m     \u001b[38;5;28mself\u001b[39m\u001b[38;5;241m.\u001b[39m\u001b[38;5;18m__dict__\u001b[39m[\u001b[38;5;124m\"\u001b[39m\u001b[38;5;124m_content\u001b[39m\u001b[38;5;124m\"\u001b[39m] \u001b[38;5;241m=\u001b[39m previous_content\n\u001b[0;32m--> 647\u001b[0m     \u001b[38;5;28;01mraise\u001b[39;00m e\n",
      "File \u001b[0;32m~/miniconda3/envs/lema/lib/python3.11/site-packages/omegaconf/dictconfig.py:644\u001b[0m, in \u001b[0;36mDictConfig._set_value\u001b[0;34m(self, value, flags)\u001b[0m\n\u001b[1;32m    642\u001b[0m \u001b[38;5;28;01mtry\u001b[39;00m:\n\u001b[1;32m    643\u001b[0m     previous_content \u001b[38;5;241m=\u001b[39m \u001b[38;5;28mself\u001b[39m\u001b[38;5;241m.\u001b[39m\u001b[38;5;18m__dict__\u001b[39m[\u001b[38;5;124m\"\u001b[39m\u001b[38;5;124m_content\u001b[39m\u001b[38;5;124m\"\u001b[39m]\n\u001b[0;32m--> 644\u001b[0m     \u001b[38;5;28mself\u001b[39m\u001b[38;5;241m.\u001b[39m_set_value_impl(value, flags)\n\u001b[1;32m    645\u001b[0m \u001b[38;5;28;01mexcept\u001b[39;00m \u001b[38;5;167;01mException\u001b[39;00m \u001b[38;5;28;01mas\u001b[39;00m e:\n\u001b[1;32m    646\u001b[0m     \u001b[38;5;28mself\u001b[39m\u001b[38;5;241m.\u001b[39m\u001b[38;5;18m__dict__\u001b[39m[\u001b[38;5;124m\"\u001b[39m\u001b[38;5;124m_content\u001b[39m\u001b[38;5;124m\"\u001b[39m] \u001b[38;5;241m=\u001b[39m previous_content\n",
      "File \u001b[0;32m~/miniconda3/envs/lema/lib/python3.11/site-packages/omegaconf/dictconfig.py:674\u001b[0m, in \u001b[0;36mDictConfig._set_value_impl\u001b[0;34m(self, value, flags)\u001b[0m\n\u001b[1;32m    672\u001b[0m \u001b[38;5;28mself\u001b[39m\u001b[38;5;241m.\u001b[39m_metadata\u001b[38;5;241m.\u001b[39mobject_type \u001b[38;5;241m=\u001b[39m \u001b[38;5;28;01mNone\u001b[39;00m\n\u001b[1;32m    673\u001b[0m ao \u001b[38;5;241m=\u001b[39m \u001b[38;5;28mself\u001b[39m\u001b[38;5;241m.\u001b[39m_get_flag(\u001b[38;5;124m\"\u001b[39m\u001b[38;5;124mallow_objects\u001b[39m\u001b[38;5;124m\"\u001b[39m)\n\u001b[0;32m--> 674\u001b[0m data \u001b[38;5;241m=\u001b[39m get_structured_config_data(value, allow_objects\u001b[38;5;241m=\u001b[39mao)\n\u001b[1;32m    675\u001b[0m \u001b[38;5;28;01mwith\u001b[39;00m flag_override(\u001b[38;5;28mself\u001b[39m, [\u001b[38;5;124m\"\u001b[39m\u001b[38;5;124mstruct\u001b[39m\u001b[38;5;124m\"\u001b[39m, \u001b[38;5;124m\"\u001b[39m\u001b[38;5;124mreadonly\u001b[39m\u001b[38;5;124m\"\u001b[39m], \u001b[38;5;28;01mFalse\u001b[39;00m):\n\u001b[1;32m    676\u001b[0m     \u001b[38;5;28;01mfor\u001b[39;00m k, v \u001b[38;5;129;01min\u001b[39;00m data\u001b[38;5;241m.\u001b[39mitems():\n",
      "File \u001b[0;32m~/miniconda3/envs/lema/lib/python3.11/site-packages/omegaconf/_utils.py:495\u001b[0m, in \u001b[0;36mget_structured_config_data\u001b[0;34m(obj, allow_objects)\u001b[0m\n\u001b[1;32m    491\u001b[0m \u001b[38;5;28;01mdef\u001b[39;00m \u001b[38;5;21mget_structured_config_data\u001b[39m(\n\u001b[1;32m    492\u001b[0m     obj: Any, allow_objects: Optional[\u001b[38;5;28mbool\u001b[39m] \u001b[38;5;241m=\u001b[39m \u001b[38;5;28;01mNone\u001b[39;00m\n\u001b[1;32m    493\u001b[0m ) \u001b[38;5;241m-\u001b[39m\u001b[38;5;241m>\u001b[39m Dict[\u001b[38;5;28mstr\u001b[39m, Any]:\n\u001b[1;32m    494\u001b[0m     \u001b[38;5;28;01mif\u001b[39;00m is_dataclass(obj):\n\u001b[0;32m--> 495\u001b[0m         \u001b[38;5;28;01mreturn\u001b[39;00m get_dataclass_data(obj, allow_objects\u001b[38;5;241m=\u001b[39mallow_objects)\n\u001b[1;32m    496\u001b[0m     \u001b[38;5;28;01melif\u001b[39;00m is_attr_class(obj):\n\u001b[1;32m    497\u001b[0m         \u001b[38;5;28;01mreturn\u001b[39;00m get_attr_data(obj, allow_objects\u001b[38;5;241m=\u001b[39mallow_objects)\n",
      "File \u001b[0;32m~/miniconda3/envs/lema/lib/python3.11/site-packages/omegaconf/_utils.py:421\u001b[0m, in \u001b[0;36mget_dataclass_data\u001b[0;34m(obj, allow_objects)\u001b[0m\n\u001b[1;32m    413\u001b[0m         d[name] \u001b[38;5;241m=\u001b[39m _maybe_wrap(\n\u001b[1;32m    414\u001b[0m             ref_type\u001b[38;5;241m=\u001b[39mtype_,\n\u001b[1;32m    415\u001b[0m             is_optional\u001b[38;5;241m=\u001b[39mis_optional,\n\u001b[0;32m   (...)\u001b[0m\n\u001b[1;32m    418\u001b[0m             parent\u001b[38;5;241m=\u001b[39mdummy_parent,\n\u001b[1;32m    419\u001b[0m         )\n\u001b[1;32m    420\u001b[0m     \u001b[38;5;28;01mexcept\u001b[39;00m (ValidationError, GrammarParseError) \u001b[38;5;28;01mas\u001b[39;00m ex:\n\u001b[0;32m--> 421\u001b[0m         format_and_raise(\n\u001b[1;32m    422\u001b[0m             node\u001b[38;5;241m=\u001b[39mdummy_parent, key\u001b[38;5;241m=\u001b[39mname, value\u001b[38;5;241m=\u001b[39mvalue, cause\u001b[38;5;241m=\u001b[39mex, msg\u001b[38;5;241m=\u001b[39m\u001b[38;5;28mstr\u001b[39m(ex)\n\u001b[1;32m    423\u001b[0m         )\n\u001b[1;32m    424\u001b[0m     d[name]\u001b[38;5;241m.\u001b[39m_set_parent(\u001b[38;5;28;01mNone\u001b[39;00m)\n\u001b[1;32m    425\u001b[0m dict_subclass_data \u001b[38;5;241m=\u001b[39m extract_dict_subclass_data(obj\u001b[38;5;241m=\u001b[39mobj, parent\u001b[38;5;241m=\u001b[39mdummy_parent)\n",
      "File \u001b[0;32m~/miniconda3/envs/lema/lib/python3.11/site-packages/omegaconf/_utils.py:899\u001b[0m, in \u001b[0;36mformat_and_raise\u001b[0;34m(node, key, value, msg, cause, type_override)\u001b[0m\n\u001b[1;32m    896\u001b[0m     ex\u001b[38;5;241m.\u001b[39mref_type \u001b[38;5;241m=\u001b[39m ref_type\n\u001b[1;32m    897\u001b[0m     ex\u001b[38;5;241m.\u001b[39mref_type_str \u001b[38;5;241m=\u001b[39m ref_type_str\n\u001b[0;32m--> 899\u001b[0m _raise(ex, cause)\n",
      "File \u001b[0;32m~/miniconda3/envs/lema/lib/python3.11/site-packages/omegaconf/_utils.py:797\u001b[0m, in \u001b[0;36m_raise\u001b[0;34m(ex, cause)\u001b[0m\n\u001b[1;32m    795\u001b[0m \u001b[38;5;28;01melse\u001b[39;00m:\n\u001b[1;32m    796\u001b[0m     ex\u001b[38;5;241m.\u001b[39m__cause__ \u001b[38;5;241m=\u001b[39m \u001b[38;5;28;01mNone\u001b[39;00m\n\u001b[0;32m--> 797\u001b[0m \u001b[38;5;28;01mraise\u001b[39;00m ex\u001b[38;5;241m.\u001b[39mwith_traceback(sys\u001b[38;5;241m.\u001b[39mexc_info()[\u001b[38;5;241m2\u001b[39m])\n",
      "File \u001b[0;32m~/miniconda3/envs/lema/lib/python3.11/site-packages/omegaconf/_utils.py:413\u001b[0m, in \u001b[0;36mget_dataclass_data\u001b[0;34m(obj, allow_objects)\u001b[0m\n\u001b[1;32m    411\u001b[0m     format_and_raise(node\u001b[38;5;241m=\u001b[39m\u001b[38;5;28;01mNone\u001b[39;00m, key\u001b[38;5;241m=\u001b[39m\u001b[38;5;28;01mNone\u001b[39;00m, value\u001b[38;5;241m=\u001b[39mvalue, cause\u001b[38;5;241m=\u001b[39me, msg\u001b[38;5;241m=\u001b[39m\u001b[38;5;28mstr\u001b[39m(e))\n\u001b[1;32m    412\u001b[0m \u001b[38;5;28;01mtry\u001b[39;00m:\n\u001b[0;32m--> 413\u001b[0m     d[name] \u001b[38;5;241m=\u001b[39m _maybe_wrap(\n\u001b[1;32m    414\u001b[0m         ref_type\u001b[38;5;241m=\u001b[39mtype_,\n\u001b[1;32m    415\u001b[0m         is_optional\u001b[38;5;241m=\u001b[39mis_optional,\n\u001b[1;32m    416\u001b[0m         key\u001b[38;5;241m=\u001b[39mname,\n\u001b[1;32m    417\u001b[0m         value\u001b[38;5;241m=\u001b[39mvalue,\n\u001b[1;32m    418\u001b[0m         parent\u001b[38;5;241m=\u001b[39mdummy_parent,\n\u001b[1;32m    419\u001b[0m     )\n\u001b[1;32m    420\u001b[0m \u001b[38;5;28;01mexcept\u001b[39;00m (ValidationError, GrammarParseError) \u001b[38;5;28;01mas\u001b[39;00m ex:\n\u001b[1;32m    421\u001b[0m     format_and_raise(\n\u001b[1;32m    422\u001b[0m         node\u001b[38;5;241m=\u001b[39mdummy_parent, key\u001b[38;5;241m=\u001b[39mname, value\u001b[38;5;241m=\u001b[39mvalue, cause\u001b[38;5;241m=\u001b[39mex, msg\u001b[38;5;241m=\u001b[39m\u001b[38;5;28mstr\u001b[39m(ex)\n\u001b[1;32m    423\u001b[0m     )\n",
      "File \u001b[0;32m~/miniconda3/envs/lema/lib/python3.11/site-packages/omegaconf/omegaconf.py:1105\u001b[0m, in \u001b[0;36m_maybe_wrap\u001b[0;34m(ref_type, key, value, is_optional, parent)\u001b[0m\n\u001b[1;32m   1103\u001b[0m     \u001b[38;5;28;01mreturn\u001b[39;00m value\n\u001b[1;32m   1104\u001b[0m \u001b[38;5;28;01melse\u001b[39;00m:\n\u001b[0;32m-> 1105\u001b[0m     \u001b[38;5;28;01mreturn\u001b[39;00m _node_wrap(\n\u001b[1;32m   1106\u001b[0m         ref_type\u001b[38;5;241m=\u001b[39mref_type,\n\u001b[1;32m   1107\u001b[0m         parent\u001b[38;5;241m=\u001b[39mparent,\n\u001b[1;32m   1108\u001b[0m         is_optional\u001b[38;5;241m=\u001b[39mis_optional,\n\u001b[1;32m   1109\u001b[0m         value\u001b[38;5;241m=\u001b[39mvalue,\n\u001b[1;32m   1110\u001b[0m         key\u001b[38;5;241m=\u001b[39mkey,\n\u001b[1;32m   1111\u001b[0m     )\n",
      "File \u001b[0;32m~/miniconda3/envs/lema/lib/python3.11/site-packages/omegaconf/omegaconf.py:1087\u001b[0m, in \u001b[0;36m_node_wrap\u001b[0;34m(parent, is_optional, value, key, ref_type)\u001b[0m\n\u001b[1;32m   1085\u001b[0m             node \u001b[38;5;241m=\u001b[39m AnyNode(value\u001b[38;5;241m=\u001b[39mvalue, key\u001b[38;5;241m=\u001b[39mkey, parent\u001b[38;5;241m=\u001b[39mparent)\n\u001b[1;32m   1086\u001b[0m     \u001b[38;5;28;01melse\u001b[39;00m:\n\u001b[0;32m-> 1087\u001b[0m         \u001b[38;5;28;01mraise\u001b[39;00m ValidationError(\u001b[38;5;124mf\u001b[39m\u001b[38;5;124m\"\u001b[39m\u001b[38;5;124mUnexpected type annotation: \u001b[39m\u001b[38;5;132;01m{\u001b[39;00mtype_str(ref_type)\u001b[38;5;132;01m}\u001b[39;00m\u001b[38;5;124m\"\u001b[39m)\n\u001b[1;32m   1088\u001b[0m \u001b[38;5;28;01mreturn\u001b[39;00m node\n",
      "\u001b[0;31mValidationError\u001b[0m: Unexpected type annotation: Literal[none, all, lora_only]\n    full_key: lora_bias\n    object_type=PeftParams"
     ]
    }
   ],
   "source": [
    "config_filename = \"../configs/lema/zephyr.7b.sft.yaml\"\n",
    "base_config = OmegaConf.structured(TrainingConfig)\n",
    "file_config = TrainingConfig.from_yaml(config_filename)\n",
    "config = OmegaConf.merge(base_config, file_config)\n",
    "config: TrainingConfig = OmegaConf.to_object(config)\n",
    "print(config.training)\n",
    "print(config.peft)"
   ]
  },
  {
   "cell_type": "code",
   "execution_count": null,
   "metadata": {},
   "outputs": [],
   "source": [
    "# TODO-finalize in config file\n",
    "config.peft.q_lora = False\n",
    "config.training.per_device_train_batch_size = 1\n",
    "config.training.max_steps = 2"
   ]
  },
  {
   "cell_type": "code",
   "execution_count": null,
   "metadata": {},
   "outputs": [],
   "source": [
    "tokenizer = build_tokenizer(config.model)\n",
    "tokenizer"
   ]
  },
  {
   "cell_type": "code",
   "execution_count": null,
   "metadata": {},
   "outputs": [],
   "source": [
    "# if tokenizer.model_max_length > 100_000: # shall this condition be checked for diff.\n",
    "#  Zephyr models? Now is not.\n",
    "\n",
    "print(\"tokenizer.model_max_length\", tokenizer.model_max_length)\n",
    "print(\"tokenizer pad_token/eos_token\", tokenizer.pad_token, tokenizer.eos_token)\n",
    "print(\"tokenizer.padding_side\", tokenizer.padding_side)\n",
    "print(\"tokenizer.chat_template\", tokenizer.chat_template)"
   ]
  },
  {
   "cell_type": "code",
   "execution_count": null,
   "metadata": {},
   "outputs": [],
   "source": [
    "# Load data & preprocessing\n",
    "dataset = build_dataset(dataset_config=config.data, tokenizer=tokenizer)\n",
    "\n",
    "\n",
    "if True:\n",
    "    import numpy as np  # hack to subsample\n",
    "\n",
    "    print(len(dataset))\n",
    "    np.random.seed(1234)\n",
    "    ridx = np.random.choice(len(dataset), 1024, replace=False)\n",
    "    dataset = dataset.select(ridx)\n",
    "    print(len(dataset))\n",
    "\n",
    "dataset"
   ]
  },
  {
   "cell_type": "code",
   "execution_count": null,
   "metadata": {},
   "outputs": [],
   "source": [
    "# TODO - update our code base if we use optimum\n",
    "# Using `disable_exllama` is deprecated and will be removed in version 4.37. Use `use_exllama` instead and specify the version with `exllama_config`.The value of `use_exllama` will be overwritten by `disable_exllama` passed in `GPTQConfig` or stored in your config file. # noqa\n",
    "# WARNING:auto_gptq.nn_modules.qlinear.qlinear_cuda:CUDA extension not installed. # TODO update in main repo # noqa"
   ]
  },
  {
   "cell_type": "code",
   "execution_count": null,
   "metadata": {},
   "outputs": [],
   "source": [
    "model = build_model(config)"
   ]
  },
  {
   "cell_type": "code",
   "execution_count": null,
   "metadata": {},
   "outputs": [],
   "source": [
    "tokenizer.all_special_tokens\n",
    "tokenizer.encode(\"|system|\")\n",
    "\n",
    "# TODO Consider adding special tokens like '<|assistant|>', '<|system|>'\n",
    "# via tokenizer.additional_special_tokens -- need to check Mistral\n",
    "\n",
    "# from alignment team:\n",
    "# tokenizer.encode(\"<|system|>\")  # We already wrap <bos> and <eos>\n",
    "# # in the chat template\n",
    "\n",
    "# Future TODO.\n",
    "# # For ChatML we need to add special tokens and resize the embedding layer\n",
    "# if \"<|im_start|>\" in tokenizer.chat_template and \"gemma-tokenizer-chatml\" not in tokenizer.name_or_path: # noqa\n",
    "#     model = AutoModelForCausalLM.from_pretrained(model_args.model_name_or_path, **model_kwargs) # noqa\n",
    "#     model, tokenizer = setup_chat_format(model, tokenizer)\n",
    "#     model_kwargs = None"
   ]
  },
  {
   "cell_type": "code",
   "execution_count": null,
   "metadata": {},
   "outputs": [],
   "source": [
    "if config.training.use_peft:\n",
    "    model = build_peft_model(\n",
    "        model, config.training.enable_gradient_checkpointing, config.peft\n",
    "    )\n",
    "\n",
    "if config.training.enable_gradient_checkpointing:\n",
    "    model.enable_input_require_grads()"
   ]
  },
  {
   "cell_type": "code",
   "execution_count": null,
   "metadata": {},
   "outputs": [],
   "source": [
    "# TODO update if need be for accelerator\n",
    "trainer_cls = build_trainer(config.training.trainer_type)"
   ]
  },
  {
   "cell_type": "code",
   "execution_count": null,
   "metadata": {},
   "outputs": [],
   "source": [
    "trainer = trainer_cls(\n",
    "    model=model,\n",
    "    tokenizer=tokenizer,\n",
    "    args=config.training.to_hf(),\n",
    "    train_dataset=dataset,\n",
    "    **config.data.trainer_kwargs,\n",
    ")"
   ]
  },
  {
   "cell_type": "code",
   "execution_count": null,
   "metadata": {},
   "outputs": [],
   "source": [
    "dataset[0][\"text\"]"
   ]
  },
  {
   "cell_type": "code",
   "execution_count": null,
   "metadata": {},
   "outputs": [],
   "source": [
    "trainer.train()"
   ]
  },
  {
   "cell_type": "code",
   "execution_count": null,
   "metadata": {},
   "outputs": [],
   "source": [
    "# Save final checkpoint & training state\n",
    "trainer.save_state()\n",
    "\n",
    "save_model(\n",
    "    config=config,\n",
    "    trainer=trainer,\n",
    ")"
   ]
  }
 ],
 "metadata": {
  "kernelspec": {
   "display_name": "lema",
   "language": "python",
   "name": "python3"
  },
  "language_info": {
   "codemirror_mode": {
    "name": "ipython",
    "version": 3
   },
   "file_extension": ".py",
   "mimetype": "text/x-python",
   "name": "python",
   "nbconvert_exporter": "python",
   "pygments_lexer": "ipython3",
   "version": "3.11.9"
  }
 },
 "nbformat": 4,
 "nbformat_minor": 2
}
