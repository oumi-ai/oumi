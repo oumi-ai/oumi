{
 "cells": [
  {
   "cell_type": "markdown",
   "metadata": {},
   "source": [
    "<div class=\"align-center\">\n",
    "<a href=\"https://oumi.ai/\"><img src=\"https://oumi.ai/docs/en/latest/_static/logo/header_logo.png\" height=\"200\"></a>\n",
    "\n",
    "[![Documentation](https://img.shields.io/badge/Documentation-latest-blue.svg)](https://oumi.ai/docs/en/latest/index.html)\n",
    "[![Discord](https://img.shields.io/discord/1286348126797430814?label=Discord)](https://discord.gg/oumi)\n",
    "[![GitHub Repo stars](https://img.shields.io/github/stars/oumi-ai/oumi)](https://github.com/oumi-ai/oumi)\n",
    "<a target=\"_blank\" href=\"https://colab.research.google.com/github/oumi-ai/oumi/blob/main/notebooks/Oumi - Evaluation with Oumi.ipynb\"><img src=\"https://colab.research.google.com/assets/colab-badge.svg\" alt=\"Open In Colab\"/></a>\n",
    "</div>\n",
    "\n",
    "👋 Welcome to Open Universal Machine Intelligence (Oumi)!\n",
    "\n",
    "🚀 Oumi is a fully open-source platform that streamlines the entire lifecycle of foundation models - from [data preparation](https://oumi.ai/docs/en/latest/resources/datasets/datasets.html) and [training](https://oumi.ai/docs/en/latest/user_guides/train/train.html) to [evaluation](https://oumi.ai/docs/en/latest/user_guides/evaluate/evaluate.html) and [deployment](https://oumi.ai/docs/en/latest/user_guides/launch/launch.html). Whether you're developing on a laptop, launching large scale experiments on a cluster, or deploying models in production, Oumi provides the tools and workflows you need.\n",
    "\n",
    "🤝 Make sure to join our [Discord community](https://discord.gg/oumi) to get help, share your experiences, and contribute to the project! If you are interested in joining one of the community's open-science efforts, check out our [open collaboration](https://oumi.ai/community) page.\n",
    "\n",
    "⭐ If you like Oumi and you would like to support it, please give it a star on [GitHub](https://github.com/oumi-ai/oumi)."
   ]
  },
  {
   "cell_type": "markdown",
   "metadata": {},
   "source": [
    "# Evaluation with Oumi\n",
    "\n",
    "This notebook provides a guide for running end-to-end evaluations on your trained model using Oumi. Specifically, it explores how the performance of LLaMA models evolves as we scale from 1B to 3B and 8B parameters."
   ]
  },
  {
   "cell_type": "markdown",
   "metadata": {},
   "source": [
    "## Prerequisites and Environment\n",
    "\n",
    "❗**NOTICE:** We recommend running this notebook on a GPU. If running on Google Colab, you can use the free T4 GPU runtime (Colab Menu: `Runtime` -> `Change runtime type`). Llama 8B is too large to fit on the T4 GPU for inference. You can remove it from the list of models to evaluate, or evaluate the SmolLM family of models instead of Llama in the `Experimental Setup` section.\n",
    "\n",
    "### Oumi Installation\n",
    "\n",
    "First, let's install Oumi, AlpacaEval, and vLLM. You can find more detailed instructions about Oumi installation [here](https://oumi.ai/docs/en/latest/get_started/installation.html)."
   ]
  },
  {
   "cell_type": "code",
   "execution_count": null,
   "metadata": {},
   "outputs": [],
   "source": [
    "%pip install oumi alpaca_eval vllm"
   ]
  },
  {
   "cell_type": "markdown",
   "metadata": {},
   "source": [
    "### Llama Access\n",
    "\n",
    "Llama models are gated on HuggingFace Hub. To run this notebook, you must first complete the agreements for Llama [3.1](https://huggingface.co/meta-llama/Llama-3.1-8B-Instruct) and [3.2](https://huggingface.co/meta-llama/Llama-3.2-1B-Instruct) on HuggingFace, and wait for them to be accepted. Then, specify `HF_TOKEN` below to enable access to the model if it's not already set.\n",
    "\n",
    "Usually, you can get the token by running this command `cat ~/.cache/huggingface/token` on your local machine."
   ]
  },
  {
   "cell_type": "code",
   "execution_count": 1,
   "metadata": {},
   "outputs": [],
   "source": [
    "import os\n",
    "\n",
    "# if not os.environ.get(\"HF_TOKEN\"):\n",
    "#     # NOTE: Set your Hugging Face token here if not already set.\n",
    "#     os.environ[\"HF_TOKEN\"] = \"<MY_HF_TOKEN>\"\n",
    "from dotenv import load_dotenv\n",
    "\n",
    "load_dotenv()\n",
    "\n",
    "hf_token = os.environ.get(\"HF_TOKEN\")\n",
    "# print(f\"Using HF Token: '{hf_token}'\")"
   ]
  },
  {
   "cell_type": "markdown",
   "metadata": {},
   "source": [
    "### OpenAI Access\n",
    "\n",
    "AlpacaEval 2.0 calculates win rates by comparing a model's responses to reference responses. This process requires an annotator, with the default being [GPT-4 Turbo](https://github.com/tatsu-lab/alpaca_eval?tab=readme-ov-file#alpacaeval-20). To access the latest GPT-4 models, an OpenAI API key is necessary. You can find instructions for creating an OpenAI account and generating an API key on [OpenAI's quickstart webpage](https://platform.openai.com/docs/)."
   ]
  },
  {
   "cell_type": "code",
   "execution_count": 2,
   "metadata": {},
   "outputs": [],
   "source": [
    "# os.environ[\"OPENAI_API_KEY\"] = \"<MY_OPENAI_TOKEN>\"  # Specify your OpenAI API key here"
   ]
  },
  {
   "cell_type": "markdown",
   "metadata": {},
   "source": [
    "<b>⚠️ Cost considerations</b>: The cost of running a standard AlpacaEval 2.0 evaluation and annotating 805 examples with GPT-4 Turbo is <b>$3.50</b>. You need to evaluate on the full dataset to reproduce the results presented in this notebook. However, if you are only interested in experimenting with the API, you can limit the evaluation to a smaller number of examples. For instance, annotating just 3 examples will cost less than <b>0.5¢</b>."
   ]
  },
  {
   "cell_type": "code",
   "execution_count": 3,
   "metadata": {},
   "outputs": [],
   "source": [
    "NUM_ALPACA_EXAMPLES = 3  # Replace with None for full dataset evaluation.\n",
    "NUM_MMLU_EXAMPLES = 10  # Replace with None for full dataset evaluation."
   ]
  },
  {
   "cell_type": "markdown",
   "metadata": {},
   "source": [
    "### Tutorial Directory Setup\n",
    "\n",
    "Finally, we will create a directory for the tutorial to store the results."
   ]
  },
  {
   "cell_type": "code",
   "execution_count": 4,
   "metadata": {},
   "outputs": [],
   "source": [
    "from pathlib import Path\n",
    "\n",
    "tutorial_dir = \"./output/evaluation_tutorial/TEST_OUMI\"\n",
    "\n",
    "Path(tutorial_dir).mkdir(parents=True, exist_ok=True)"
   ]
  },
  {
   "cell_type": "markdown",
   "metadata": {},
   "source": [
    "## Experimental Setup\n",
    "\n",
    "In this experiment, we aim to compare the performance of models as we scale their size. For this purpose, we have selected LLaMA models with `1B`, `3B`, and `8B` parameters. In the code snippet below, you can specify any model hosted on HuggingFace, provide a path to a local directory containing your model, or use any other model format supported by Oumi inference. Additionally, note that we restrict the maximum number of tokens for each model to `8192` in order to optimize both cost and resource usage.\n"
   ]
  },
  {
   "cell_type": "code",
   "execution_count": 5,
   "metadata": {},
   "outputs": [],
   "source": [
    "MODEL_NAMES = [\n",
    "    \"meta-llama/Llama-3.2-1B-Instruct\",\n",
    "    \"meta-llama/Llama-3.2-3B-Instruct\",\n",
    "    \"meta-llama/Llama-3.1-8B-Instruct\",\n",
    "]\n",
    "MODEL_MAX_TOKENS = 8192\n",
    "\n",
    "# Alternative models to evaluate on Colab.\n",
    "# MODEL_NAMES = [\n",
    "#     \"HuggingFaceTB/SmolLM-135M-Instruct\",\n",
    "#     \"HuggingFaceTB/SmolLM-360M-Instruct\",\n",
    "#     \"HuggingFaceTB/SmolLM-1.7B-Instruct\",\n",
    "# ]\n",
    "# MODEL_MAX_TOKENS = 2048"
   ]
  },
  {
   "cell_type": "markdown",
   "metadata": {},
   "source": [
    "To conduct a comprehensive evaluation of a model's performance, it is essential to assess it across a [diverse set of benchmarks](https://oumi.ai/docs/en/latest/user_guides/evaluate/standardized_benchmarks.html#trade-offs). At a minimum, a [standardized benchmark](https://oumi.ai/docs/en/latest/user_guides/evaluate/standardized_benchmarks.html) is required to evaluate the model's knowledge and reasoning capabilities, while a [generative benchmark](https://oumi.ai/docs/en/latest/user_guides/evaluate/generative_benchmarks.html) is necessary to assess the quality of responses and its ability to follow instructions. In this evaluation, we select [MMLU Pro](https://arxiv.org/abs/2406.01574) for its focus on challenging, reasoning-intensive knowledge tasks and [AlpacaEval 2.0](https://arxiv.org/abs/2404.04475) for assessing the overall quality of the generated responses. To customize the evaluation tasks, please see [our documentation](https://oumi.ai/docs/en/latest/user_guides/evaluate/evaluation_config.html#configuration-options). "
   ]
  },
  {
   "cell_type": "code",
   "execution_count": 6,
   "metadata": {},
   "outputs": [],
   "source": [
    "from oumi.core.configs import EvaluationTaskParams\n",
    "\n",
    "TASKS = [\n",
    "    EvaluationTaskParams(\n",
    "        evaluation_backend=\"lm_harness\",\n",
    "        task_name=\"leaderboard_mmlu_pro\",\n",
    "        num_samples=NUM_MMLU_EXAMPLES,\n",
    "    ),\n",
    "    EvaluationTaskParams(\n",
    "        evaluation_backend=\"alpaca_eval\",\n",
    "        num_samples=NUM_ALPACA_EXAMPLES,\n",
    "    ),\n",
    "]"
   ]
  },
  {
   "cell_type": "markdown",
   "metadata": {},
   "source": [
    "## Evaluation\n",
    "\n",
    "To perform evaluations with Oumi, we define an [EvaluationConfig](https://oumi.ai/docs/en/latest/user_guides/evaluate/evaluation_config.html) for each model with the tasks discussed above, along with the relevant [model](https://github.com/oumi-ai/oumi/blob/main/src/oumi/core/configs/params/model_params.py) and [generation](https://github.com/oumi-ai/oumi/blob/main/src/oumi/core/configs/params/generation_params.py) parameters. If the system is equipped with a GPU, we strongly recommend configuring the [inference engine](https://oumi.ai/docs/en/latest/api/oumi.core.configs.html#oumi.core.configs.InferenceEngineType) to `VLLM` for optimal performance.\n",
    "\n",
    "The code snippet below illustrates how to run evaluations for our three models, storing the key metrics for each model in lists. Specifically, the length-controlled win rate for Alpaca is saved in `alpaca_lcwr`, while the accuracy for MMLU Pro is stored in `mmlu_acc`."
   ]
  },
  {
   "cell_type": "code",
   "execution_count": 7,
   "metadata": {},
   "outputs": [
    {
     "name": "stdout",
     "output_type": "stream",
     "text": [
      "INFO 07-01 18:17:00 [__init__.py:239] Automatically detected platform cuda.\n",
      "Evaluating meta-llama/Llama-3.2-1B-Instruct...\n",
      "[2025-07-01 18:17:14,205][oumi][rank0][pid:2181942][MainThread][INFO]][lm_harness.py:331] \tLM Harness `task_params`:\n",
      "LMHarnessTaskParams(evaluation_backend='lm_harness',\n",
      "                    task_name='leaderboard_mmlu_pro',\n",
      "                    num_samples=10,\n",
      "                    log_samples=False,\n",
      "                    eval_kwargs={},\n",
      "                    evaluation_platform='',\n",
      "                    num_fewshot=None)\n",
      "[2025-07-01 18:17:14,207][oumi][rank0][pid:2181942][MainThread][INFO]][lm_harness.py:332] \tLM Harness `task_dict`:\n",
      "{'leaderboard_mmlu_pro': ConfigurableTask(task_name=leaderboard_mmlu_pro,output_type=multiple_choice,num_fewshot=None,num_samples=12032)}\n",
      "[2025-07-01 18:17:14,210][oumi][rank0][pid:2181942][MainThread][INFO]][lm_harness.py:344] \tLM Harness `model_params`:\n",
      "{'batch_size': 1,\n",
      " 'device': 'cuda:0',\n",
      " 'dtype': torch.bfloat16,\n",
      " 'max_batch_size': None,\n",
      " 'max_length': 8192,\n",
      " 'pretrained': 'meta-llama/Llama-3.2-1B-Instruct',\n",
      " 'trust_remote_code': False}\n",
      "INFO 07-01 18:17:23 [config.py:600] This model supports multiple tasks: {'classify', 'reward', 'generate', 'embed', 'score'}. Defaulting to 'generate'.\n",
      "INFO 07-01 18:17:23 [config.py:1780] Chunked prefill is enabled with max_num_batched_tokens=16384.\n",
      "WARNING 07-01 18:17:24 [utils.py:2273] We must use the `spawn` multiprocessing start method. Overriding VLLM_WORKER_MULTIPROC_METHOD to 'spawn'. See https://docs.vllm.ai/en/latest/getting_started/troubleshooting.html#python-multiprocessing for more information. Reason: CUDA is initialized\n",
      "INFO 07-01 18:17:29 [__init__.py:239] Automatically detected platform cuda.\n",
      "INFO 07-01 18:17:31 [core.py:61] Initializing a V1 LLM engine (v0.8.3) with config: model='meta-llama/Llama-3.2-1B-Instruct', speculative_config=None, tokenizer='meta-llama/Llama-3.2-1B-Instruct', skip_tokenizer_init=False, tokenizer_mode=auto, revision=None, override_neuron_config=None, tokenizer_revision=None, trust_remote_code=False, dtype=torch.bfloat16, max_seq_len=8192, download_dir=None, load_format=LoadFormat.AUTO, tensor_parallel_size=1, pipeline_parallel_size=1, disable_custom_all_reduce=False, quantization=None, enforce_eager=False, kv_cache_dtype=auto,  device_config=cuda, decoding_config=DecodingConfig(guided_decoding_backend='xgrammar', reasoning_backend=None), observability_config=ObservabilityConfig(show_hidden_metrics=False, otlp_traces_endpoint=None, collect_model_forward_time=False, collect_model_execute_time=False), seed=1234, served_model_name=meta-llama/Llama-3.2-1B-Instruct, num_scheduler_steps=1, multi_step_stream_outputs=True, enable_prefix_caching=True, chunked_prefill_enabled=True, use_async_output_proc=True, disable_mm_preprocessor_cache=False, mm_processor_kwargs=None, pooler_config=None, compilation_config={\"level\":3,\"custom_ops\":[\"none\"],\"splitting_ops\":[\"vllm.unified_attention\",\"vllm.unified_attention_with_output\"],\"use_inductor\":true,\"compile_sizes\":[],\"use_cudagraph\":true,\"cudagraph_num_of_warmups\":1,\"cudagraph_capture_sizes\":[512,504,496,488,480,472,464,456,448,440,432,424,416,408,400,392,384,376,368,360,352,344,336,328,320,312,304,296,288,280,272,264,256,248,240,232,224,216,208,200,192,184,176,168,160,152,144,136,128,120,112,104,96,88,80,72,64,56,48,40,32,24,16,8,4,2,1],\"max_capture_size\":512}\n",
      "WARNING 07-01 18:17:32 [utils.py:2413] Methods determine_num_available_blocks,device_config,get_cache_block_size_bytes,initialize_cache not implemented in <vllm.v1.worker.gpu_worker.Worker object at 0x7e005348b3d0>\n",
      "INFO 07-01 18:17:32 [parallel_state.py:957] rank 0 in world size 1 is assigned as DP rank 0, PP rank 0, TP rank 0\n",
      "INFO 07-01 18:17:32 [cuda.py:221] Using Flash Attention backend on V1 engine.\n",
      "INFO 07-01 18:17:32 [gpu_model_runner.py:1258] Starting to load model meta-llama/Llama-3.2-1B-Instruct...\n",
      "WARNING 07-01 18:17:32 [topk_topp_sampler.py:69] FlashInfer is not available. Falling back to the PyTorch-native implementation of top-p & top-k sampling. For the best performance, please install FlashInfer.\n",
      "INFO 07-01 18:17:33 [weight_utils.py:265] Using model weights format ['*.safetensors']\n",
      "INFO 07-01 18:17:33 [weight_utils.py:315] No model.safetensors.index.json found in remote.\n"
     ]
    },
    {
     "name": "stderr",
     "output_type": "stream",
     "text": [
      "Loading safetensors checkpoint shards:   0% Completed | 0/1 [00:00<?, ?it/s]\n",
      "Loading safetensors checkpoint shards: 100% Completed | 1/1 [00:00<00:00,  2.74it/s]\n",
      "Loading safetensors checkpoint shards: 100% Completed | 1/1 [00:00<00:00,  2.74it/s]\n",
      "\n"
     ]
    },
    {
     "name": "stdout",
     "output_type": "stream",
     "text": [
      "INFO 07-01 18:17:33 [loader.py:447] Loading weights took 0.39 seconds\n",
      "INFO 07-01 18:17:33 [gpu_model_runner.py:1273] Model loading took 2.3185 GiB and 0.717626 seconds\n",
      "INFO 07-01 18:17:38 [backends.py:416] Using cache directory: /home/shanghong/.cache/vllm/torch_compile_cache/f218a09398/rank_0_0 for vLLM's torch.compile\n",
      "INFO 07-01 18:17:38 [backends.py:426] Dynamo bytecode transform time: 4.55 s\n",
      "INFO 07-01 18:17:38 [backends.py:115] Directly load the compiled graph for shape None from the cache\n",
      "INFO 07-01 18:17:41 [monitor.py:33] torch.compile takes 4.55 s in total\n",
      "INFO 07-01 18:17:41 [kv_cache_utils.py:578] GPU KV cache size: 2,081,040 tokens\n",
      "INFO 07-01 18:17:41 [kv_cache_utils.py:581] Maximum concurrency for 8,192 tokens per request: 254.03x\n",
      "INFO 07-01 18:17:57 [gpu_model_runner.py:1608] Graph capturing finished in 15 secs, took 0.42 GiB\n",
      "INFO 07-01 18:17:57 [core.py:162] init engine (profile, create kv cache, warmup model) took 23.36 seconds\n",
      "[2025-07-01 18:17:57,476][oumi][rank0][pid:2181942][MainThread][INFO]][lm_harness.py:348] Starting evaluation...\n"
     ]
    },
    {
     "name": "stderr",
     "output_type": "stream",
     "text": [
      "INFO:lm_eval.api.task:Building contexts for leaderboard_mmlu_pro on rank 0...\n",
      "100%|██████████| 10/10 [00:00<00:00, 27906.21it/s]\n",
      "INFO:lm_eval.evaluator:Running loglikelihood requests\n",
      "Running loglikelihood requests: 100%|██████████| 99/99 [00:00<00:00, 182.34it/s]\n"
     ]
    },
    {
     "name": "stdout",
     "output_type": "stream",
     "text": [
      "[2025-07-01 18:17:58,063][oumi][rank0][pid:2181942][MainThread][INFO]][lm_harness.py:366] leaderboard_mmlu_pro's metric dict is {'acc,none': 0.0, 'acc_stderr,none': 0.0, 'alias': 'leaderboard_mmlu_pro'}\n"
     ]
    },
    {
     "name": "stderr",
     "output_type": "stream",
     "text": [
      "[rank0]:[W701 18:18:02.176686034 ProcessGroupNCCL.cpp:1496] Warning: WARNING: destroy_process_group() was not called before program exit, which can leak resources. For more info, please see https://pytorch.org/docs/stable/distributed.html#shutdown (function operator())\n"
     ]
    },
    {
     "name": "stdout",
     "output_type": "stream",
     "text": [
      "[2025-07-01 18:18:04,043][oumi][rank0][pid:2181942][MainThread][WARNING]][serialization_utils.py:47] Non-serializable value `LMHarnessTaskParams(evaluation_backend='lm_harness', task_name='leaderboard_mmlu_pro', num_samples=10, log_samples=False, eval_kwargs={}, evaluation_platform='', num_fewshot=None)` of type `<class 'oumi.core.configs.params.evaluation_params.LMHarnessTaskParams'>`.\n",
      "[2025-07-01 18:18:04,045][oumi][rank0][pid:2181942][MainThread][WARNING]][serialization_utils.py:47] Non-serializable value `ConfigurableTask(task_name=leaderboard_mmlu_pro,output_type=multiple_choice,num_fewshot=None,num_samples=12032)` of type `<class 'lm_eval.api.task.ConfigurableTask'>`.\n",
      "[2025-07-01 18:18:04,755][oumi][rank0][pid:2181942][MainThread][WARNING]][models.py:463] Undefined pad token. Setting it to `<|finetune_right_pad_id|>`.\n",
      "[2025-07-01 18:18:04,757][oumi][rank0][pid:2181942][MainThread][INFO]][models.py:506] Using the model's built-in chat template for model 'meta-llama/Llama-3.2-1B-Instruct'.\n",
      "INFO 07-01 18:18:04 [config.py:600] This model supports multiple tasks: {'classify', 'reward', 'generate', 'embed', 'score'}. Defaulting to 'generate'.\n",
      "INFO 07-01 18:18:04 [config.py:1600] Defaulting to use mp for distributed inference\n",
      "INFO 07-01 18:18:04 [config.py:1780] Chunked prefill is enabled with max_num_batched_tokens=16384.\n",
      "WARNING 07-01 18:18:04 [cuda.py:96] To see benefits of async output processing, enable CUDA graph. Since, enforce-eager is enabled, async output processor cannot be used\n",
      "INFO 07-01 18:18:11 [__init__.py:239] Automatically detected platform cuda.\n",
      "INFO 07-01 18:18:14 [core.py:61] Initializing a V1 LLM engine (v0.8.3) with config: model='meta-llama/Llama-3.2-1B-Instruct', speculative_config=None, tokenizer='meta-llama/Llama-3.2-1B-Instruct', skip_tokenizer_init=False, tokenizer_mode=auto, revision=None, override_neuron_config=None, tokenizer_revision=None, trust_remote_code=False, dtype=torch.bfloat16, max_seq_len=8192, download_dir=None, load_format=LoadFormat.AUTO, tensor_parallel_size=2, pipeline_parallel_size=1, disable_custom_all_reduce=False, quantization=None, enforce_eager=True, kv_cache_dtype=auto,  device_config=cuda, decoding_config=DecodingConfig(guided_decoding_backend='xgrammar', reasoning_backend=None), observability_config=ObservabilityConfig(show_hidden_metrics=False, otlp_traces_endpoint=None, collect_model_forward_time=False, collect_model_execute_time=False), seed=None, served_model_name=meta-llama/Llama-3.2-1B-Instruct, num_scheduler_steps=1, multi_step_stream_outputs=True, enable_prefix_caching=True, chunked_prefill_enabled=True, use_async_output_proc=False, disable_mm_preprocessor_cache=False, mm_processor_kwargs=None, pooler_config=None, compilation_config={\"splitting_ops\":[],\"compile_sizes\":[],\"cudagraph_capture_sizes\":[],\"max_capture_size\":0}\n",
      "WARNING 07-01 18:18:14 [multiproc_worker_utils.py:306] Reducing Torch parallelism from 2 threads to 1 to avoid unnecessary CPU contention. Set OMP_NUM_THREADS in the external environment to tune this value as needed.\n",
      "INFO 07-01 18:18:14 [shm_broadcast.py:264] vLLM message queue communication handle: Handle(local_reader_ranks=[0, 1], buffer_handle=(2, 10485760, 10, 'psm_4835807d'), local_subscribe_addr='ipc:///tmp/7c6488f3-06dc-4314-9a64-431d3dec2073', remote_subscribe_addr=None, remote_addr_ipv6=False)\n",
      "INFO 07-01 18:18:19 [__init__.py:239] Automatically detected platform cuda.\n",
      "WARNING 07-01 18:18:22 [utils.py:2413] Methods determine_num_available_blocks,device_config,get_cache_block_size_bytes,initialize_cache not implemented in <vllm.v1.worker.gpu_worker.Worker object at 0x774f28242d10>\n",
      "\u001b[1;36m(VllmWorker rank=0 pid=2183355)\u001b[0;0m INFO 07-01 18:18:22 [shm_broadcast.py:264] vLLM message queue communication handle: Handle(local_reader_ranks=[0], buffer_handle=(1, 10485760, 10, 'psm_b7c3cceb'), local_subscribe_addr='ipc:///tmp/13656a73-8427-4321-9357-99c0384b2b18', remote_subscribe_addr=None, remote_addr_ipv6=False)\n",
      "INFO 07-01 18:18:26 [__init__.py:239] Automatically detected platform cuda.\n",
      "WARNING 07-01 18:18:29 [utils.py:2413] Methods determine_num_available_blocks,device_config,get_cache_block_size_bytes,initialize_cache not implemented in <vllm.v1.worker.gpu_worker.Worker object at 0x7601142c5b50>\n",
      "\u001b[1;36m(VllmWorker rank=1 pid=2183475)\u001b[0;0m INFO 07-01 18:18:29 [shm_broadcast.py:264] vLLM message queue communication handle: Handle(local_reader_ranks=[0], buffer_handle=(1, 10485760, 10, 'psm_49b60d29'), local_subscribe_addr='ipc:///tmp/8e8a243e-7613-40f0-a42a-7aa7cd4a28e4', remote_subscribe_addr=None, remote_addr_ipv6=False)\n",
      "\u001b[1;36m(VllmWorker rank=1 pid=2183475)\u001b[0;0m \u001b[1;36m(VllmWorker rank=0 pid=2183355)\u001b[0;0m INFO 07-01 18:18:30 [utils.py:990] Found nccl from library libnccl.so.2\n",
      "\u001b[1;36m(VllmWorker rank=0 pid=2183355)\u001b[0;0m INFO 07-01 18:18:30 [pynccl.py:69] vLLM is using nccl==2.21.5\n",
      "INFO 07-01 18:18:30 [utils.py:990] Found nccl from library libnccl.so.2\n",
      "\u001b[1;36m(VllmWorker rank=1 pid=2183475)\u001b[0;0m INFO 07-01 18:18:30 [pynccl.py:69] vLLM is using nccl==2.21.5\n",
      "\u001b[1;36m(VllmWorker rank=1 pid=2183475)\u001b[0;0m INFO 07-01 18:18:31 [custom_all_reduce_utils.py:244] reading GPU P2P access cache from /home/shanghong/.cache/vllm/gpu_p2p_access_cache_for_0,1.json\n",
      "\u001b[1;36m(VllmWorker rank=0 pid=2183355)\u001b[0;0m INFO 07-01 18:18:31 [custom_all_reduce_utils.py:244] reading GPU P2P access cache from /home/shanghong/.cache/vllm/gpu_p2p_access_cache_for_0,1.json\n",
      "\u001b[1;36m(VllmWorker rank=0 pid=2183355)\u001b[0;0m INFO 07-01 18:18:31 [shm_broadcast.py:264] vLLM message queue communication handle: Handle(local_reader_ranks=[1], buffer_handle=(1, 4194304, 6, 'psm_ee500267'), local_subscribe_addr='ipc:///tmp/16e88875-e0b9-4898-b85b-2deaba395bb0', remote_subscribe_addr=None, remote_addr_ipv6=False)\n",
      "\u001b[1;36m(VllmWorker rank=0 pid=2183355)\u001b[0;0m INFO 07-01 18:18:31 [parallel_state.py:957] rank 0 in world size 2 is assigned as DP rank 0, PP rank 0, TP rank 0\n",
      "\u001b[1;36m(VllmWorker rank=0 pid=2183355)\u001b[0;0m INFO 07-01 18:18:31 [cuda.py:221] Using Flash Attention backend on V1 engine.\n",
      "\u001b[1;36m(VllmWorker rank=1 pid=2183475)\u001b[0;0m INFO 07-01 18:18:31 [parallel_state.py:957] rank 1 in world size 2 is assigned as DP rank 0, PP rank 0, TP rank 1\n",
      "\u001b[1;36m(VllmWorker rank=1 pid=2183475)\u001b[0;0m INFO 07-01 18:18:31 [cuda.py:221] Using Flash Attention backend on V1 engine.\n",
      "\u001b[1;36m(VllmWorker rank=0 pid=2183355)\u001b[0;0m INFO 07-01 18:18:31 [gpu_model_runner.py:1258] Starting to load model meta-llama/Llama-3.2-1B-Instruct...\n",
      "\u001b[1;36m(VllmWorker rank=1 pid=2183475)\u001b[0;0m INFO 07-01 18:18:31 [gpu_model_runner.py:1258] Starting to load model meta-llama/Llama-3.2-1B-Instruct...\n",
      "\u001b[1;36m(VllmWorker rank=0 pid=2183355)\u001b[0;0m WARNING 07-01 18:18:32 [topk_topp_sampler.py:69] FlashInfer is not available. Falling back to the PyTorch-native implementation of top-p & top-k sampling. For the best performance, please install FlashInfer.\n",
      "\u001b[1;36m(VllmWorker rank=1 pid=2183475)\u001b[0;0m WARNING 07-01 18:18:32 [topk_topp_sampler.py:69] FlashInfer is not available. Falling back to the PyTorch-native implementation of top-p & top-k sampling. For the best performance, please install FlashInfer.\n",
      "\u001b[1;36m(VllmWorker rank=0 pid=2183355)\u001b[0;0m INFO 07-01 18:18:32 [weight_utils.py:265] Using model weights format ['*.safetensors']\n",
      "\u001b[1;36m(VllmWorker rank=1 pid=2183475)\u001b[0;0m INFO 07-01 18:18:32 [weight_utils.py:265] Using model weights format ['*.safetensors']\n",
      "\u001b[1;36m(VllmWorker rank=0 pid=2183355)\u001b[0;0m INFO 07-01 18:18:32 [weight_utils.py:315] No model.safetensors.index.json found in remote.\n"
     ]
    },
    {
     "name": "stderr",
     "output_type": "stream",
     "text": [
      "Loading safetensors checkpoint shards:   0% Completed | 0/1 [00:00<?, ?it/s]\n"
     ]
    },
    {
     "name": "stdout",
     "output_type": "stream",
     "text": [
      "\u001b[1;36m(VllmWorker rank=1 pid=2183475)\u001b[0;0m INFO 07-01 18:18:32 [weight_utils.py:315] No model.safetensors.index.json found in remote.\n"
     ]
    },
    {
     "name": "stderr",
     "output_type": "stream",
     "text": [
      "Loading safetensors checkpoint shards: 100% Completed | 1/1 [00:00<00:00,  3.68it/s]\n",
      "Loading safetensors checkpoint shards: 100% Completed | 1/1 [00:00<00:00,  3.66it/s]\n",
      "\u001b[1;36m(VllmWorker rank=0 pid=2183355)\u001b[0;0m \n"
     ]
    },
    {
     "name": "stdout",
     "output_type": "stream",
     "text": [
      "\u001b[1;36m(VllmWorker rank=0 pid=2183355)\u001b[0;0m INFO 07-01 18:18:32 [loader.py:447] Loading weights took 0.30 seconds\n",
      "\u001b[1;36m(VllmWorker rank=1 pid=2183475)\u001b[0;0m INFO 07-01 18:18:32 [loader.py:447] Loading weights took 0.36 seconds\n",
      "\u001b[1;36m(VllmWorker rank=0 pid=2183355)\u001b[0;0m INFO 07-01 18:18:32 [gpu_model_runner.py:1273] Model loading took 1.1667 GiB and 0.559896 seconds\n",
      "\u001b[1;36m(VllmWorker rank=1 pid=2183475)\u001b[0;0m INFO 07-01 18:18:32 [gpu_model_runner.py:1273] Model loading took 1.1667 GiB and 0.829921 seconds\n",
      "INFO 07-01 18:18:38 [kv_cache_utils.py:578] GPU KV cache size: 4,140,512 tokens\n",
      "INFO 07-01 18:18:38 [kv_cache_utils.py:581] Maximum concurrency for 8,192 tokens per request: 505.43x\n",
      "INFO 07-01 18:18:38 [kv_cache_utils.py:578] GPU KV cache size: 4,140,512 tokens\n",
      "INFO 07-01 18:18:38 [kv_cache_utils.py:581] Maximum concurrency for 8,192 tokens per request: 505.43x\n",
      "INFO 07-01 18:18:38 [core.py:162] init engine (profile, create kv cache, warmup model) took 5.81 seconds\n",
      "Python executable: /home/shanghong/miniconda3/envs/oumi/bin/python\n",
      "sys.path: ['/home/shanghong/miniconda3/envs/oumi/lib/python3.11/site-packages/ray/thirdparty_files', '/home/shanghong/miniconda3/envs/oumi/lib/python311.zip', '/home/shanghong/miniconda3/envs/oumi/lib/python3.11', '/home/shanghong/miniconda3/envs/oumi/lib/python3.11/lib-dynload', '', '/home/shanghong/miniconda3/envs/oumi/lib/python3.11/site-packages', '/home/shanghong/oumi/src', '/tmp/tmp91n8vu4b', '/home/shanghong/miniconda3/envs/oumi/lib/python3.11/site-packages/setuptools/_vendor']\n",
      "[2025-07-01 18:18:39,914][oumi][rank0][pid:2181942][MainThread][INFO]][alpaca_eval.py:97] Loading the `tatsu-lab/alpaca_eval` dataset.\n",
      "[2025-07-01 18:18:39,917][oumi][rank0][pid:2181942][MainThread][INFO]][base_map_dataset.py:91] Creating map dataset (type: AlpacaEvalDataset)... dataset_name: 'tatsu-lab/alpaca_eval'\n"
     ]
    },
    {
     "data": {
      "application/vnd.jupyter.widget-view+json": {
       "model_id": "0cd1b942ea2141eab3e825f54aa8aec8",
       "version_major": 2,
       "version_minor": 0
      },
      "text/plain": [
       "README.md:   0%|          | 0.00/30.0 [00:00<?, ?B/s]"
      ]
     },
     "metadata": {},
     "output_type": "display_data"
    },
    {
     "data": {
      "application/vnd.jupyter.widget-view+json": {
       "model_id": "068553ae045244fc972cc2989d42b181",
       "version_major": 2,
       "version_minor": 0
      },
      "text/plain": [
       "alpaca_eval.py: 0.00B [00:00, ?B/s]"
      ]
     },
     "metadata": {},
     "output_type": "display_data"
    },
    {
     "data": {
      "application/vnd.jupyter.widget-view+json": {
       "model_id": "ab9022523d84442aa9acb25187ac259a",
       "version_major": 2,
       "version_minor": 0
      },
      "text/plain": [
       "alpaca_eval.json: 0.00B [00:00, ?B/s]"
      ]
     },
     "metadata": {},
     "output_type": "display_data"
    },
    {
     "name": "stdout",
     "output_type": "stream",
     "text": [
      "/home/shanghong/.cache/huggingface/hub/datasets--tatsu-lab--alpaca_eval/snapshots/2edc6fad8be6b14ea7230aabfd08188da6b8b814/alpaca_eval.json\n"
     ]
    },
    {
     "data": {
      "application/vnd.jupyter.widget-view+json": {
       "model_id": "f179a3f637c1431fab205d6e947cbca8",
       "version_major": 2,
       "version_minor": 0
      },
      "text/plain": [
       "Generating eval split: 0 examples [00:00, ? examples/s]"
      ]
     },
     "metadata": {},
     "output_type": "display_data"
    },
    {
     "name": "stdout",
     "output_type": "stream",
     "text": [
      "[2025-07-01 18:18:41,051][oumi][rank0][pid:2181942][MainThread][INFO]][base_map_dataset.py:487] Dataset Info:\n",
      "\tSplit: eval\n",
      "\tVersion: 1.0.0\n",
      "\tDataset size: 554496\n",
      "\tDownload size: 620778\n",
      "\tSize: 1175274 bytes\n",
      "\tRows: 805\n",
      "\tColumns: ['instruction', 'output', 'generator', 'dataset']\n",
      "[2025-07-01 18:18:41,700][oumi][rank0][pid:2181942][MainThread][INFO]][base_map_dataset.py:426] Loaded DataFrame with shape: (805, 4). Columns:\n",
      "instruction    object\n",
      "output         object\n",
      "generator      object\n",
      "dataset        object\n",
      "dtype: object\n",
      "[2025-07-01 18:18:41,742][oumi][rank0][pid:2181942][MainThread][INFO]][alpaca_eval.py:106] \tAlpacaEval inference `model_params`:\n",
      "ModelParams(model_name='meta-llama/Llama-3.2-1B-Instruct',\n",
      "            adapter_model=None,\n",
      "            tokenizer_name=None,\n",
      "            tokenizer_pad_token=None,\n",
      "            tokenizer_kwargs={},\n",
      "            processor_kwargs={},\n",
      "            model_max_length=8192,\n",
      "            load_pretrained_weights=True,\n",
      "            trust_remote_code=False,\n",
      "            torch_dtype_str='bfloat16',\n",
      "            compile=False,\n",
      "            chat_template=None,\n",
      "            attn_implementation=None,\n",
      "            device_map='auto',\n",
      "            model_kwargs={},\n",
      "            enable_liger_kernel=False,\n",
      "            shard_for_eval=False,\n",
      "            freeze_layers=[],\n",
      "            model_revision=None)\n",
      "\tAlpacaEval inference `generation_params`:\n",
      "GenerationParams(max_new_tokens=8192,\n",
      "                 batch_size=1,\n",
      "                 exclude_prompt_from_response=True,\n",
      "                 seed=None,\n",
      "                 temperature=0.0,\n",
      "                 top_p=1.0,\n",
      "                 frequency_penalty=0.0,\n",
      "                 presence_penalty=0.0,\n",
      "                 stop_strings=None,\n",
      "                 stop_token_ids=None,\n",
      "                 logit_bias={},\n",
      "                 min_p=0.0,\n",
      "                 use_cache=False,\n",
      "                 num_beams=1,\n",
      "                 use_sampling=False,\n",
      "                 guided_decoding=None)\n",
      "INFO 07-01 18:18:42 [chat_utils.py:396] Detected the chat template content format to be 'string'. You can set `--chat-template-content-format` to override this.\n"
     ]
    },
    {
     "name": "stderr",
     "output_type": "stream",
     "text": [
      "Processed prompts: 100%|██████████| 3/3 [00:25<00:00,  8.51s/it, est. speed input: 6.47 toks/s, output: 90.59 toks/s]\n"
     ]
    },
    {
     "name": "stdout",
     "output_type": "stream",
     "text": [
      "[2025-07-01 18:19:08,145][oumi][rank0][pid:2181942][MainThread][INFO]][alpaca_eval.py:121] Running AlpacaEval annotation.\n",
      "[2025-07-01 18:19:08,149][oumi][rank0][pid:2181942][MainThread][INFO]][alpaca_eval.py:122] \tAlpacaEval `task_params`:\n",
      "AlpacaEvalTaskParams(evaluation_backend='alpaca_eval',\n",
      "                     task_name=None,\n",
      "                     num_samples=3,\n",
      "                     log_samples=False,\n",
      "                     eval_kwargs={},\n",
      "                     evaluation_platform='',\n",
      "                     version=2.0)\n"
     ]
    },
    {
     "data": {
      "application/vnd.jupyter.widget-view+json": {
       "model_id": "132906a6d8364de4a29e6d3c456f2e73",
       "version_major": 2,
       "version_minor": 0
      },
      "text/plain": [
       "alpaca_eval_gpt4_baseline.json: 0.00B [00:00, ?B/s]"
      ]
     },
     "metadata": {},
     "output_type": "display_data"
    },
    {
     "name": "stdout",
     "output_type": "stream",
     "text": [
      "/home/shanghong/.cache/huggingface/hub/datasets--tatsu-lab--alpaca_eval/snapshots/2edc6fad8be6b14ea7230aabfd08188da6b8b814/alpaca_eval_gpt4_baseline.json\n"
     ]
    },
    {
     "data": {
      "application/vnd.jupyter.widget-view+json": {
       "model_id": "a9882dd316b24ef39a9fbb268eadd6fd",
       "version_major": 2,
       "version_minor": 0
      },
      "text/plain": [
       "Generating eval split: 0 examples [00:00, ? examples/s]"
      ]
     },
     "metadata": {},
     "output_type": "display_data"
    },
    {
     "name": "stderr",
     "output_type": "stream",
     "text": [
      "INFO:root:Evaluating the 20250701_181839 outputs.\n",
      "WARNING:root:model_outputs and reference_outputs have different lengths, so we cannot shuffle before taking the first max_instances.\n",
      "INFO:root:Creating the annotator from `weighted_alpaca_eval_gpt4_turbo`.\n",
      "INFO:root:Saving annotations to `/home/shanghong/miniconda3/envs/oumi/lib/python3.11/site-packages/alpaca_eval/evaluators_configs/weighted_alpaca_eval_gpt4_turbo/annotations_seed0_configs.json`.\n",
      "Annotation chunk:   0%|          | 0/1 [00:00<?, ?it/s]INFO:root:Annotating 3 examples with weighted_alpaca_eval_gpt4_turbo\n",
      "INFO:root:Using `openai_completions` on 3 prompts using gpt-4-1106-preview.\n",
      "INFO:root:Kwargs to completion: {'model': 'gpt-4-1106-preview', 'temperature': 1, 'logprobs': True, 'top_logprobs': 5, 'is_chat': True}. num_procs=5\n",
      "WARNING:root:/home/shanghong/miniconda3/envs/oumi/lib/python3.11/client_configs/openai_configs.yaml wasn't found. We are using environment variables to construct the client configs.This is the old and non-recommended way of doing it. Please see `client_configs/README.md` for the recommended way of specifying client configs.\n",
      "WARNING:root:/home/shanghong/miniconda3/envs/oumi/lib/python3.11/client_configs/openai_configs.yaml wasn't found. We are using environment variables to construct the client configs.This is the old and non-recommended way of doing it. Please see `client_configs/README.md` for the recommended way of specifying client configs.\n",
      "\n",
      "prompt_batches:   0%|          | 0/3 [00:00<?, ?it/s]WARNING:root:/home/shanghong/miniconda3/envs/oumi/lib/python3.11/client_configs/openai_configs.yaml wasn't found. We are using environment variables to construct the client configs.This is the old and non-recommended way of doing it. Please see `client_configs/README.md` for the recommended way of specifying client configs.INFO:root:Using OAI client number 1 out of 1.\n",
      "INFO:root:Using OAI client number 1 out of 1.\n",
      "INFO:root:Using OAI client number 1 out of 1.\n",
      "INFO:httpx:HTTP Request: POST https://api.openai.com/v1/chat/completions \"HTTP/1.1 200 OK\"\n",
      "INFO:httpx:HTTP Request: POST https://api.openai.com/v1/chat/completions \"HTTP/1.1 200 OK\"\n",
      "INFO:httpx:HTTP Request: POST https://api.openai.com/v1/chat/completions \"HTTP/1.1 200 OK\"\n",
      "prompt_batches: 100%|██████████| 3/3 [00:03<00:00,  1.21s/it]\n",
      "INFO:root:Completed 3 examples in 3.7 seconds.\n",
      "INFO:root:Saving all annotations to /home/shanghong/miniconda3/envs/oumi/lib/python3.11/site-packages/alpaca_eval/evaluators_configs/weighted_alpaca_eval_gpt4_turbo/annotations_seed0_configs.json.\n",
      "Annotation chunk: 100%|██████████| 1/1 [00:03<00:00,  3.75s/it]\n"
     ]
    },
    {
     "data": {
      "application/vnd.jupyter.widget-view+json": {
       "model_id": "879153095669487ea06dd39b1f337149",
       "version_major": 2,
       "version_minor": 0
      },
      "text/plain": [
       "df_gamed.csv: 0.00B [00:00, ?B/s]"
      ]
     },
     "metadata": {},
     "output_type": "display_data"
    },
    {
     "name": "stderr",
     "output_type": "stream",
     "text": [
      "INFO:root:Saving all results to results/20250701_181839/weighted_alpaca_eval_gpt4_turbo\n"
     ]
    },
    {
     "name": "stdout",
     "output_type": "stream",
     "text": [
      "[2025-07-01 18:19:13,095][oumi][rank0][pid:2181942][MainThread][INFO]][alpaca_eval.py:145] AlpacaEval's metric dict is {'avg_length': 3131,\n",
      " 'discrete_win_rate': 0.0,\n",
      " 'lc_standard_error': 0.00788971350387147,\n",
      " 'length_controlled_winrate': 0.030004701563040123,\n",
      " 'mode': 'community',\n",
      " 'n_draws': 0,\n",
      " 'n_total': 3,\n",
      " 'n_wins': 0,\n",
      " 'n_wins_base': 3,\n",
      " 'standard_error': 0.041278944510150066,\n",
      " 'win_rate': 0.04327652582661508}.\n",
      "Evaluating meta-llama/Llama-3.2-3B-Instruct...\n",
      "[2025-07-01 18:19:30,096][oumi][rank0][pid:2181942][MainThread][INFO]][lm_harness.py:331] \tLM Harness `task_params`:\n",
      "LMHarnessTaskParams(evaluation_backend='lm_harness',\n",
      "                    task_name='leaderboard_mmlu_pro',\n",
      "                    num_samples=10,\n",
      "                    log_samples=False,\n",
      "                    eval_kwargs={},\n",
      "                    evaluation_platform='',\n",
      "                    num_fewshot=None)\n",
      "[2025-07-01 18:19:30,097][oumi][rank0][pid:2181942][MainThread][INFO]][lm_harness.py:332] \tLM Harness `task_dict`:\n",
      "{'leaderboard_mmlu_pro': ConfigurableTask(task_name=leaderboard_mmlu_pro,output_type=multiple_choice,num_fewshot=None,num_samples=12032)}\n",
      "[2025-07-01 18:19:30,098][oumi][rank0][pid:2181942][MainThread][INFO]][lm_harness.py:344] \tLM Harness `model_params`:\n",
      "{'batch_size': 1,\n",
      " 'device': 'cuda:0',\n",
      " 'dtype': torch.bfloat16,\n",
      " 'max_batch_size': None,\n",
      " 'max_length': 8192,\n",
      " 'pretrained': 'meta-llama/Llama-3.2-3B-Instruct',\n",
      " 'trust_remote_code': False}\n",
      "INFO 07-01 18:19:30 [config.py:600] This model supports multiple tasks: {'classify', 'reward', 'generate', 'embed', 'score'}. Defaulting to 'generate'.\n",
      "INFO 07-01 18:19:30 [config.py:1780] Chunked prefill is enabled with max_num_batched_tokens=16384.\n",
      "INFO 07-01 18:19:38 [__init__.py:239] Automatically detected platform cuda.\n",
      "INFO 07-01 18:19:43 [core.py:61] Initializing a V1 LLM engine (v0.8.3) with config: model='meta-llama/Llama-3.2-3B-Instruct', speculative_config=None, tokenizer='meta-llama/Llama-3.2-3B-Instruct', skip_tokenizer_init=False, tokenizer_mode=auto, revision=None, override_neuron_config=None, tokenizer_revision=None, trust_remote_code=False, dtype=torch.bfloat16, max_seq_len=8192, download_dir=None, load_format=LoadFormat.AUTO, tensor_parallel_size=1, pipeline_parallel_size=1, disable_custom_all_reduce=False, quantization=None, enforce_eager=False, kv_cache_dtype=auto,  device_config=cuda, decoding_config=DecodingConfig(guided_decoding_backend='xgrammar', reasoning_backend=None), observability_config=ObservabilityConfig(show_hidden_metrics=False, otlp_traces_endpoint=None, collect_model_forward_time=False, collect_model_execute_time=False), seed=1234, served_model_name=meta-llama/Llama-3.2-3B-Instruct, num_scheduler_steps=1, multi_step_stream_outputs=True, enable_prefix_caching=True, chunked_prefill_enabled=True, use_async_output_proc=True, disable_mm_preprocessor_cache=False, mm_processor_kwargs=None, pooler_config=None, compilation_config={\"level\":3,\"custom_ops\":[\"none\"],\"splitting_ops\":[\"vllm.unified_attention\",\"vllm.unified_attention_with_output\"],\"use_inductor\":true,\"compile_sizes\":[],\"use_cudagraph\":true,\"cudagraph_num_of_warmups\":1,\"cudagraph_capture_sizes\":[512,504,496,488,480,472,464,456,448,440,432,424,416,408,400,392,384,376,368,360,352,344,336,328,320,312,304,296,288,280,272,264,256,248,240,232,224,216,208,200,192,184,176,168,160,152,144,136,128,120,112,104,96,88,80,72,64,56,48,40,32,24,16,8,4,2,1],\"max_capture_size\":512}\n",
      "WARNING 07-01 18:19:44 [utils.py:2413] Methods determine_num_available_blocks,device_config,get_cache_block_size_bytes,initialize_cache not implemented in <vllm.v1.worker.gpu_worker.Worker object at 0x72db22bdbcd0>\n",
      "INFO 07-01 18:19:46 [parallel_state.py:957] rank 0 in world size 1 is assigned as DP rank 0, PP rank 0, TP rank 0\n",
      "INFO 07-01 18:19:46 [cuda.py:221] Using Flash Attention backend on V1 engine.\n",
      "INFO 07-01 18:19:46 [gpu_model_runner.py:1258] Starting to load model meta-llama/Llama-3.2-3B-Instruct...\n",
      "WARNING 07-01 18:19:46 [topk_topp_sampler.py:69] FlashInfer is not available. Falling back to the PyTorch-native implementation of top-p & top-k sampling. For the best performance, please install FlashInfer.\n",
      "INFO 07-01 18:19:46 [weight_utils.py:265] Using model weights format ['*.safetensors']\n"
     ]
    },
    {
     "name": "stderr",
     "output_type": "stream",
     "text": [
      "Loading safetensors checkpoint shards:   0% Completed | 0/2 [00:00<?, ?it/s]\n",
      "Loading safetensors checkpoint shards:  50% Completed | 1/2 [00:00<00:00,  1.00it/s]\n",
      "Loading safetensors checkpoint shards: 100% Completed | 2/2 [00:01<00:00,  1.45it/s]\n",
      "Loading safetensors checkpoint shards: 100% Completed | 2/2 [00:01<00:00,  1.36it/s]\n",
      "\n"
     ]
    },
    {
     "name": "stdout",
     "output_type": "stream",
     "text": [
      "INFO 07-01 18:19:48 [loader.py:447] Loading weights took 1.50 seconds\n",
      "INFO 07-01 18:19:48 [gpu_model_runner.py:1273] Model loading took 6.0160 GiB and 2.004073 seconds\n",
      "INFO 07-01 18:19:58 [backends.py:416] Using cache directory: /home/shanghong/.cache/vllm/torch_compile_cache/36786aec49/rank_0_0 for vLLM's torch.compile\n",
      "INFO 07-01 18:19:58 [backends.py:426] Dynamo bytecode transform time: 9.48 s\n",
      "INFO 07-01 18:19:58 [backends.py:115] Directly load the compiled graph for shape None from the cache\n",
      "INFO 07-01 18:20:04 [monitor.py:33] torch.compile takes 9.48 s in total\n",
      "INFO 07-01 18:20:04 [kv_cache_utils.py:578] GPU KV cache size: 559,552 tokens\n",
      "INFO 07-01 18:20:04 [kv_cache_utils.py:581] Maximum concurrency for 8,192 tokens per request: 68.30x\n",
      "INFO 07-01 18:20:20 [gpu_model_runner.py:1608] Graph capturing finished in 15 secs, took 0.57 GiB\n",
      "INFO 07-01 18:20:20 [core.py:162] init engine (profile, create kv cache, warmup model) took 31.57 seconds\n",
      "[2025-07-01 18:20:20,660][oumi][rank0][pid:2181942][MainThread][INFO]][lm_harness.py:348] Starting evaluation...\n"
     ]
    },
    {
     "name": "stderr",
     "output_type": "stream",
     "text": [
      "INFO:lm_eval.api.task:Building contexts for leaderboard_mmlu_pro on rank 0...\n",
      "100%|██████████| 10/10 [00:00<00:00, 23160.15it/s]\n",
      "INFO:lm_eval.evaluator:Running loglikelihood requests\n",
      "Running loglikelihood requests: 100%|██████████| 99/99 [00:00<00:00, 109.77it/s]\n"
     ]
    },
    {
     "name": "stdout",
     "output_type": "stream",
     "text": [
      "[2025-07-01 18:20:21,606][oumi][rank0][pid:2181942][MainThread][INFO]][lm_harness.py:366] leaderboard_mmlu_pro's metric dict is {'acc,none': 0.3,\n",
      " 'acc_stderr,none': 0.15275252316519464,\n",
      " 'alias': 'leaderboard_mmlu_pro'}\n"
     ]
    },
    {
     "name": "stderr",
     "output_type": "stream",
     "text": [
      "[rank0]:[W701 18:20:26.242481799 ProcessGroupNCCL.cpp:1496] Warning: WARNING: destroy_process_group() was not called before program exit, which can leak resources. For more info, please see https://pytorch.org/docs/stable/distributed.html#shutdown (function operator())\n"
     ]
    },
    {
     "name": "stdout",
     "output_type": "stream",
     "text": [
      "[2025-07-01 18:20:28,158][oumi][rank0][pid:2181942][MainThread][WARNING]][serialization_utils.py:47] Non-serializable value `LMHarnessTaskParams(evaluation_backend='lm_harness', task_name='leaderboard_mmlu_pro', num_samples=10, log_samples=False, eval_kwargs={}, evaluation_platform='', num_fewshot=None)` of type `<class 'oumi.core.configs.params.evaluation_params.LMHarnessTaskParams'>`.\n",
      "[2025-07-01 18:20:28,159][oumi][rank0][pid:2181942][MainThread][WARNING]][serialization_utils.py:47] Non-serializable value `ConfigurableTask(task_name=leaderboard_mmlu_pro,output_type=multiple_choice,num_fewshot=None,num_samples=12032)` of type `<class 'lm_eval.api.task.ConfigurableTask'>`.\n",
      "[2025-07-01 18:20:28,894][oumi][rank0][pid:2181942][MainThread][WARNING]][models.py:463] Undefined pad token. Setting it to `<|finetune_right_pad_id|>`.\n",
      "[2025-07-01 18:20:28,896][oumi][rank0][pid:2181942][MainThread][INFO]][models.py:506] Using the model's built-in chat template for model 'meta-llama/Llama-3.2-3B-Instruct'.\n",
      "INFO 07-01 18:20:29 [config.py:600] This model supports multiple tasks: {'classify', 'reward', 'generate', 'embed', 'score'}. Defaulting to 'generate'.\n",
      "INFO 07-01 18:20:29 [config.py:1600] Defaulting to use mp for distributed inference\n",
      "INFO 07-01 18:20:29 [config.py:1780] Chunked prefill is enabled with max_num_batched_tokens=16384.\n",
      "WARNING 07-01 18:20:29 [cuda.py:96] To see benefits of async output processing, enable CUDA graph. Since, enforce-eager is enabled, async output processor cannot be used\n",
      "INFO 07-01 18:20:35 [__init__.py:239] Automatically detected platform cuda.\n",
      "INFO 07-01 18:20:37 [core.py:61] Initializing a V1 LLM engine (v0.8.3) with config: model='meta-llama/Llama-3.2-3B-Instruct', speculative_config=None, tokenizer='meta-llama/Llama-3.2-3B-Instruct', skip_tokenizer_init=False, tokenizer_mode=auto, revision=None, override_neuron_config=None, tokenizer_revision=None, trust_remote_code=False, dtype=torch.bfloat16, max_seq_len=8192, download_dir=None, load_format=LoadFormat.AUTO, tensor_parallel_size=2, pipeline_parallel_size=1, disable_custom_all_reduce=False, quantization=None, enforce_eager=True, kv_cache_dtype=auto,  device_config=cuda, decoding_config=DecodingConfig(guided_decoding_backend='xgrammar', reasoning_backend=None), observability_config=ObservabilityConfig(show_hidden_metrics=False, otlp_traces_endpoint=None, collect_model_forward_time=False, collect_model_execute_time=False), seed=None, served_model_name=meta-llama/Llama-3.2-3B-Instruct, num_scheduler_steps=1, multi_step_stream_outputs=True, enable_prefix_caching=True, chunked_prefill_enabled=True, use_async_output_proc=False, disable_mm_preprocessor_cache=False, mm_processor_kwargs=None, pooler_config=None, compilation_config={\"splitting_ops\":[],\"compile_sizes\":[],\"cudagraph_capture_sizes\":[],\"max_capture_size\":0}\n",
      "WARNING 07-01 18:20:37 [multiproc_worker_utils.py:306] Reducing Torch parallelism from 2 threads to 1 to avoid unnecessary CPU contention. Set OMP_NUM_THREADS in the external environment to tune this value as needed.\n",
      "INFO 07-01 18:20:37 [shm_broadcast.py:264] vLLM message queue communication handle: Handle(local_reader_ranks=[0, 1], buffer_handle=(2, 10485760, 10, 'psm_a8d846c8'), local_subscribe_addr='ipc:///tmp/f09d569c-4dfe-4229-ad6e-4b53b3364fa0', remote_subscribe_addr=None, remote_addr_ipv6=False)\n",
      "INFO 07-01 18:20:44 [__init__.py:239] Automatically detected platform cuda.\n",
      "WARNING 07-01 18:20:47 [utils.py:2413] Methods determine_num_available_blocks,device_config,get_cache_block_size_bytes,initialize_cache not implemented in <vllm.v1.worker.gpu_worker.Worker object at 0x799a9d4e72d0>\n",
      "\u001b[1;36m(VllmWorker rank=0 pid=2185435)\u001b[0;0m INFO 07-01 18:20:47 [shm_broadcast.py:264] vLLM message queue communication handle: Handle(local_reader_ranks=[0], buffer_handle=(1, 10485760, 10, 'psm_694a9b70'), local_subscribe_addr='ipc:///tmp/3b3d1e57-925c-4f45-a956-babfc22797a8', remote_subscribe_addr=None, remote_addr_ipv6=False)\n",
      "INFO 07-01 18:20:53 [__init__.py:239] Automatically detected platform cuda.\n",
      "WARNING 07-01 18:20:56 [utils.py:2413] Methods determine_num_available_blocks,device_config,get_cache_block_size_bytes,initialize_cache not implemented in <vllm.v1.worker.gpu_worker.Worker object at 0x7e2628e5b290>\n",
      "\u001b[1;36m(VllmWorker rank=1 pid=2185576)\u001b[0;0m INFO 07-01 18:20:56 [shm_broadcast.py:264] vLLM message queue communication handle: Handle(local_reader_ranks=[0], buffer_handle=(1, 10485760, 10, 'psm_b27721b0'), local_subscribe_addr='ipc:///tmp/7eb21046-9b7f-4e3d-9fae-0c4e7b14d0df', remote_subscribe_addr=None, remote_addr_ipv6=False)\n",
      "\u001b[1;36m(VllmWorker rank=1 pid=2185576)\u001b[0;0m \u001b[1;36m(VllmWorker rank=0 pid=2185435)\u001b[0;0m INFO 07-01 18:20:56 [utils.py:990] Found nccl from library libnccl.so.2\n",
      "\u001b[1;36m(VllmWorker rank=0 pid=2185435)\u001b[0;0m INFO 07-01 18:20:56 [utils.py:990] Found nccl from library libnccl.so.2\n",
      "\u001b[1;36m(VllmWorker rank=1 pid=2185576)\u001b[0;0m INFO 07-01 18:20:56 [pynccl.py:69] vLLM is using nccl==2.21.5\n",
      "INFO 07-01 18:20:56 [pynccl.py:69] vLLM is using nccl==2.21.5\n",
      "\u001b[1;36m(VllmWorker rank=0 pid=2185435)\u001b[0;0m INFO 07-01 18:20:58 [custom_all_reduce_utils.py:244] reading GPU P2P access cache from /home/shanghong/.cache/vllm/gpu_p2p_access_cache_for_0,1.json\n",
      "\u001b[1;36m(VllmWorker rank=1 pid=2185576)\u001b[0;0m INFO 07-01 18:20:58 [custom_all_reduce_utils.py:244] reading GPU P2P access cache from /home/shanghong/.cache/vllm/gpu_p2p_access_cache_for_0,1.json\n",
      "\u001b[1;36m(VllmWorker rank=0 pid=2185435)\u001b[0;0m INFO 07-01 18:20:58 [shm_broadcast.py:264] vLLM message queue communication handle: Handle(local_reader_ranks=[1], buffer_handle=(1, 4194304, 6, 'psm_13f0e4b4'), local_subscribe_addr='ipc:///tmp/646c742c-24a7-4e06-aada-5a23cdefbdb4', remote_subscribe_addr=None, remote_addr_ipv6=False)\n",
      "\u001b[1;36m(VllmWorker rank=0 pid=2185435)\u001b[0;0m INFO 07-01 18:20:58 [parallel_state.py:957] rank 0 in world size 2 is assigned as DP rank 0, PP rank 0, TP rank 0\n",
      "\u001b[1;36m(VllmWorker rank=0 pid=2185435)\u001b[0;0m INFO 07-01 18:20:58 [cuda.py:221] Using Flash Attention backend on V1 engine.\n",
      "\u001b[1;36m(VllmWorker rank=1 pid=2185576)\u001b[0;0m INFO 07-01 18:20:58 [parallel_state.py:957] rank 1 in world size 2 is assigned as DP rank 0, PP rank 0, TP rank 1\n",
      "\u001b[1;36m(VllmWorker rank=1 pid=2185576)\u001b[0;0m INFO 07-01 18:20:58 [cuda.py:221] Using Flash Attention backend on V1 engine.\n",
      "\u001b[1;36m(VllmWorker rank=0 pid=2185435)\u001b[0;0m INFO 07-01 18:20:58 [gpu_model_runner.py:1258] Starting to load model meta-llama/Llama-3.2-3B-Instruct...\n",
      "\u001b[1;36m(VllmWorker rank=1 pid=2185576)\u001b[0;0m INFO 07-01 18:20:58 [gpu_model_runner.py:1258] Starting to load model meta-llama/Llama-3.2-3B-Instruct...\n",
      "\u001b[1;36m(VllmWorker rank=1 pid=2185576)\u001b[0;0m WARNING 07-01 18:20:58 [topk_topp_sampler.py:69] FlashInfer is not available. Falling back to the PyTorch-native implementation of top-p & top-k sampling. For the best performance, please install FlashInfer.\n",
      "\u001b[1;36m(VllmWorker rank=0 pid=2185435)\u001b[0;0m WARNING 07-01 18:20:58 [topk_topp_sampler.py:69] FlashInfer is not available. Falling back to the PyTorch-native implementation of top-p & top-k sampling. For the best performance, please install FlashInfer.\n",
      "\u001b[1;36m(VllmWorker rank=1 pid=2185576)\u001b[0;0m INFO 07-01 18:20:58 [weight_utils.py:265] Using model weights format ['*.safetensors']\n",
      "\u001b[1;36m(VllmWorker rank=0 pid=2185435)\u001b[0;0m INFO 07-01 18:20:58 [weight_utils.py:265] Using model weights format ['*.safetensors']\n"
     ]
    },
    {
     "name": "stderr",
     "output_type": "stream",
     "text": [
      "Loading safetensors checkpoint shards:   0% Completed | 0/2 [00:00<?, ?it/s]\n"
     ]
    },
    {
     "name": "stdout",
     "output_type": "stream",
     "text": [
      "\u001b[1;36m(VllmWorker rank=1 pid=2185576)\u001b[0;0m INFO 07-01 18:21:00 [loader.py:447] Loading weights took 1.51 seconds\n"
     ]
    },
    {
     "name": "stderr",
     "output_type": "stream",
     "text": [
      "Loading safetensors checkpoint shards:  50% Completed | 1/2 [00:01<00:01,  1.50s/it]\n",
      "Loading safetensors checkpoint shards: 100% Completed | 2/2 [00:02<00:00,  1.01s/it]\n",
      "Loading safetensors checkpoint shards: 100% Completed | 2/2 [00:02<00:00,  1.09s/it]\n",
      "\u001b[1;36m(VllmWorker rank=0 pid=2185435)\u001b[0;0m \n"
     ]
    },
    {
     "name": "stdout",
     "output_type": "stream",
     "text": [
      "\u001b[1;36m(VllmWorker rank=0 pid=2185435)\u001b[0;0m INFO 07-01 18:21:01 [loader.py:447] Loading weights took 2.20 seconds\n",
      "\u001b[1;36m(VllmWorker rank=1 pid=2185576)\u001b[0;0m INFO 07-01 18:21:01 [gpu_model_runner.py:1273] Model loading took 3.0512 GiB and 2.093744 seconds\n",
      "\u001b[1;36m(VllmWorker rank=0 pid=2185435)\u001b[0;0m INFO 07-01 18:21:01 [gpu_model_runner.py:1273] Model loading took 3.0512 GiB and 2.902773 seconds\n",
      "INFO 07-01 18:21:06 [kv_cache_utils.py:578] GPU KV cache size: 1,146,528 tokens\n",
      "INFO 07-01 18:21:06 [kv_cache_utils.py:581] Maximum concurrency for 8,192 tokens per request: 139.96x\n",
      "INFO 07-01 18:21:06 [kv_cache_utils.py:578] GPU KV cache size: 1,146,528 tokens\n",
      "INFO 07-01 18:21:06 [kv_cache_utils.py:581] Maximum concurrency for 8,192 tokens per request: 139.96x\n",
      "INFO 07-01 18:21:06 [core.py:162] init engine (profile, create kv cache, warmup model) took 5.28 seconds\n",
      "Python executable: /home/shanghong/miniconda3/envs/oumi/bin/python\n",
      "sys.path: ['/home/shanghong/miniconda3/envs/oumi/lib/python3.11/site-packages/ray/thirdparty_files', '/home/shanghong/miniconda3/envs/oumi/lib/python311.zip', '/home/shanghong/miniconda3/envs/oumi/lib/python3.11', '/home/shanghong/miniconda3/envs/oumi/lib/python3.11/lib-dynload', '', '/home/shanghong/miniconda3/envs/oumi/lib/python3.11/site-packages', '/home/shanghong/oumi/src', '/tmp/tmp91n8vu4b', '/home/shanghong/miniconda3/envs/oumi/lib/python3.11/site-packages/setuptools/_vendor', '/home/shanghong/.cache/huggingface/modules']\n",
      "[2025-07-01 18:21:07,217][oumi][rank0][pid:2181942][MainThread][INFO]][alpaca_eval.py:97] Loading the `tatsu-lab/alpaca_eval` dataset.\n",
      "[2025-07-01 18:21:07,219][oumi][rank0][pid:2181942][MainThread][INFO]][base_map_dataset.py:91] Creating map dataset (type: AlpacaEvalDataset)... dataset_name: 'tatsu-lab/alpaca_eval'\n",
      "[2025-07-01 18:21:07,418][oumi][rank0][pid:2181942][MainThread][INFO]][base_map_dataset.py:487] Dataset Info:\n",
      "\tSplit: eval\n",
      "\tVersion: 1.0.0\n",
      "\tDataset size: 554496\n",
      "\tDownload size: 620778\n",
      "\tSize: 1175274 bytes\n",
      "\tRows: 805\n",
      "\tColumns: ['instruction', 'output', 'generator', 'dataset']\n",
      "[2025-07-01 18:21:08,284][oumi][rank0][pid:2181942][MainThread][INFO]][base_map_dataset.py:426] Loaded DataFrame with shape: (805, 4). Columns:\n",
      "instruction    object\n",
      "output         object\n",
      "generator      object\n",
      "dataset        object\n",
      "dtype: object\n",
      "[2025-07-01 18:21:08,309][oumi][rank0][pid:2181942][MainThread][INFO]][alpaca_eval.py:106] \tAlpacaEval inference `model_params`:\n",
      "ModelParams(model_name='meta-llama/Llama-3.2-3B-Instruct',\n",
      "            adapter_model=None,\n",
      "            tokenizer_name=None,\n",
      "            tokenizer_pad_token=None,\n",
      "            tokenizer_kwargs={},\n",
      "            processor_kwargs={},\n",
      "            model_max_length=8192,\n",
      "            load_pretrained_weights=True,\n",
      "            trust_remote_code=False,\n",
      "            torch_dtype_str='bfloat16',\n",
      "            compile=False,\n",
      "            chat_template=None,\n",
      "            attn_implementation=None,\n",
      "            device_map='auto',\n",
      "            model_kwargs={},\n",
      "            enable_liger_kernel=False,\n",
      "            shard_for_eval=False,\n",
      "            freeze_layers=[],\n",
      "            model_revision=None)\n",
      "\tAlpacaEval inference `generation_params`:\n",
      "GenerationParams(max_new_tokens=8192,\n",
      "                 batch_size=1,\n",
      "                 exclude_prompt_from_response=True,\n",
      "                 seed=None,\n",
      "                 temperature=0.0,\n",
      "                 top_p=1.0,\n",
      "                 frequency_penalty=0.0,\n",
      "                 presence_penalty=0.0,\n",
      "                 stop_strings=None,\n",
      "                 stop_token_ids=None,\n",
      "                 logit_bias={},\n",
      "                 min_p=0.0,\n",
      "                 use_cache=False,\n",
      "                 num_beams=1,\n",
      "                 use_sampling=False,\n",
      "                 guided_decoding=None)\n"
     ]
    },
    {
     "name": "stderr",
     "output_type": "stream",
     "text": [
      "Processed prompts: 100%|██████████| 3/3 [00:32<00:00, 10.96s/it, est. speed input: 5.02 toks/s, output: 57.92 toks/s]\n"
     ]
    },
    {
     "name": "stdout",
     "output_type": "stream",
     "text": [
      "[2025-07-01 18:21:42,088][oumi][rank0][pid:2181942][MainThread][INFO]][alpaca_eval.py:121] Running AlpacaEval annotation.\n",
      "[2025-07-01 18:21:42,094][oumi][rank0][pid:2181942][MainThread][INFO]][alpaca_eval.py:122] \tAlpacaEval `task_params`:\n",
      "AlpacaEvalTaskParams(evaluation_backend='alpaca_eval',\n",
      "                     task_name=None,\n",
      "                     num_samples=3,\n",
      "                     log_samples=False,\n",
      "                     eval_kwargs={},\n",
      "                     evaluation_platform='',\n",
      "                     version=2.0)\n"
     ]
    },
    {
     "name": "stderr",
     "output_type": "stream",
     "text": [
      "INFO:root:Evaluating the 20250701_182107 outputs.\n",
      "WARNING:root:model_outputs and reference_outputs have different lengths, so we cannot shuffle before taking the first max_instances.\n",
      "INFO:root:Creating the annotator from `weighted_alpaca_eval_gpt4_turbo`.\n",
      "INFO:root:Saving annotations to `/home/shanghong/miniconda3/envs/oumi/lib/python3.11/site-packages/alpaca_eval/evaluators_configs/weighted_alpaca_eval_gpt4_turbo/annotations_seed0_configs.json`.\n",
      "INFO:root:Loading all annotations from /home/shanghong/miniconda3/envs/oumi/lib/python3.11/site-packages/alpaca_eval/evaluators_configs/weighted_alpaca_eval_gpt4_turbo/annotations_seed0_configs.json.\n",
      "Annotation chunk:   0%|          | 0/1 [00:00<?, ?it/s]INFO:root:Annotating 3 examples with weighted_alpaca_eval_gpt4_turbo\n",
      "INFO:root:Using `openai_completions` on 3 prompts using gpt-4-1106-preview.\n",
      "INFO:root:Kwargs to completion: {'model': 'gpt-4-1106-preview', 'temperature': 1, 'logprobs': True, 'top_logprobs': 5, 'is_chat': True}. num_procs=5\n",
      "WARNING:root:/home/shanghong/miniconda3/envs/oumi/lib/python3.11/client_configs/openai_configs.yaml wasn't found. We are using environment variables to construct the client configs.This is the old and non-recommended way of doing it. Please see `client_configs/README.md` for the recommended way of specifying client configs.\n",
      "WARNING:root:/home/shanghong/miniconda3/envs/oumi/lib/python3.11/client_configs/openai_configs.yaml wasn't found. We are using environment variables to construct the client configs.This is the old and non-recommended way of doing it. Please see `client_configs/README.md` for the recommended way of specifying client configs.\n",
      "\n",
      "WARNING:root:/home/shanghong/miniconda3/envs/oumi/lib/python3.11/client_configs/openai_configs.yaml wasn't found. We are using environment variables to construct the client configs.This is the old and non-recommended way of doing it. Please see `client_configs/README.md` for the recommended way of specifying client configs.INFO:root:Using OAI client number 1 out of 1.\n",
      "INFO:root:Using OAI client number 1 out of 1.\n",
      "INFO:root:Using OAI client number 1 out of 1.\n",
      "INFO:httpx:HTTP Request: POST https://api.openai.com/v1/chat/completions \"HTTP/1.1 200 OK\"\n",
      "INFO:httpx:HTTP Request: POST https://api.openai.com/v1/chat/completions \"HTTP/1.1 200 OK\"\n",
      "INFO:httpx:HTTP Request: POST https://api.openai.com/v1/chat/completions \"HTTP/1.1 200 OK\"\n",
      "prompt_batches: 100%|██████████| 3/3 [00:01<00:00,  2.58it/s]\n",
      "INFO:root:Completed 3 examples in 1.2 seconds.\n",
      "INFO:root:Saving all annotations to /home/shanghong/miniconda3/envs/oumi/lib/python3.11/site-packages/alpaca_eval/evaluators_configs/weighted_alpaca_eval_gpt4_turbo/annotations_seed0_configs.json.\n",
      "INFO:root:Loading all annotations from /home/shanghong/miniconda3/envs/oumi/lib/python3.11/site-packages/alpaca_eval/evaluators_configs/weighted_alpaca_eval_gpt4_turbo/annotations_seed0_configs.json.\n",
      "Annotation chunk: 100%|██████████| 1/1 [00:01<00:00,  1.31s/it]\n",
      "INFO:root:Saving all results to results/20250701_182107/weighted_alpaca_eval_gpt4_turbo\n"
     ]
    },
    {
     "name": "stdout",
     "output_type": "stream",
     "text": [
      "[2025-07-01 18:21:44,078][oumi][rank0][pid:2181942][MainThread][INFO]][alpaca_eval.py:145] AlpacaEval's metric dict is {'avg_length': 2595,\n",
      " 'discrete_win_rate': 0.0,\n",
      " 'lc_standard_error': 0.011829984072084042,\n",
      " 'length_controlled_winrate': 0.044992813467909884,\n",
      " 'mode': 'community',\n",
      " 'n_draws': 0,\n",
      " 'n_total': 3,\n",
      " 'n_wins': 0,\n",
      " 'n_wins_base': 3,\n",
      " 'standard_error': 0.013888605351796625,\n",
      " 'win_rate': 0.019729389984194746}.\n",
      "Evaluating meta-llama/Llama-3.1-8B-Instruct...\n",
      "[2025-07-01 18:22:02,224][oumi][rank0][pid:2181942][MainThread][INFO]][lm_harness.py:331] \tLM Harness `task_params`:\n",
      "LMHarnessTaskParams(evaluation_backend='lm_harness',\n",
      "                    task_name='leaderboard_mmlu_pro',\n",
      "                    num_samples=10,\n",
      "                    log_samples=False,\n",
      "                    eval_kwargs={},\n",
      "                    evaluation_platform='',\n",
      "                    num_fewshot=None)\n",
      "[2025-07-01 18:22:02,225][oumi][rank0][pid:2181942][MainThread][INFO]][lm_harness.py:332] \tLM Harness `task_dict`:\n",
      "{'leaderboard_mmlu_pro': ConfigurableTask(task_name=leaderboard_mmlu_pro,output_type=multiple_choice,num_fewshot=None,num_samples=12032)}\n",
      "[2025-07-01 18:22:02,227][oumi][rank0][pid:2181942][MainThread][INFO]][lm_harness.py:344] \tLM Harness `model_params`:\n",
      "{'batch_size': 1,\n",
      " 'device': 'cuda:0',\n",
      " 'dtype': torch.bfloat16,\n",
      " 'max_batch_size': None,\n",
      " 'max_length': 8192,\n",
      " 'pretrained': 'meta-llama/Llama-3.1-8B-Instruct',\n",
      " 'trust_remote_code': False}\n",
      "INFO 07-01 18:22:02 [config.py:600] This model supports multiple tasks: {'classify', 'reward', 'generate', 'embed', 'score'}. Defaulting to 'generate'.\n",
      "INFO 07-01 18:22:02 [config.py:1780] Chunked prefill is enabled with max_num_batched_tokens=16384.\n",
      "INFO 07-01 18:22:09 [__init__.py:239] Automatically detected platform cuda.\n",
      "INFO 07-01 18:22:12 [core.py:61] Initializing a V1 LLM engine (v0.8.3) with config: model='meta-llama/Llama-3.1-8B-Instruct', speculative_config=None, tokenizer='meta-llama/Llama-3.1-8B-Instruct', skip_tokenizer_init=False, tokenizer_mode=auto, revision=None, override_neuron_config=None, tokenizer_revision=None, trust_remote_code=False, dtype=torch.bfloat16, max_seq_len=8192, download_dir=None, load_format=LoadFormat.AUTO, tensor_parallel_size=1, pipeline_parallel_size=1, disable_custom_all_reduce=False, quantization=None, enforce_eager=False, kv_cache_dtype=auto,  device_config=cuda, decoding_config=DecodingConfig(guided_decoding_backend='xgrammar', reasoning_backend=None), observability_config=ObservabilityConfig(show_hidden_metrics=False, otlp_traces_endpoint=None, collect_model_forward_time=False, collect_model_execute_time=False), seed=1234, served_model_name=meta-llama/Llama-3.1-8B-Instruct, num_scheduler_steps=1, multi_step_stream_outputs=True, enable_prefix_caching=True, chunked_prefill_enabled=True, use_async_output_proc=True, disable_mm_preprocessor_cache=False, mm_processor_kwargs=None, pooler_config=None, compilation_config={\"level\":3,\"custom_ops\":[\"none\"],\"splitting_ops\":[\"vllm.unified_attention\",\"vllm.unified_attention_with_output\"],\"use_inductor\":true,\"compile_sizes\":[],\"use_cudagraph\":true,\"cudagraph_num_of_warmups\":1,\"cudagraph_capture_sizes\":[512,504,496,488,480,472,464,456,448,440,432,424,416,408,400,392,384,376,368,360,352,344,336,328,320,312,304,296,288,280,272,264,256,248,240,232,224,216,208,200,192,184,176,168,160,152,144,136,128,120,112,104,96,88,80,72,64,56,48,40,32,24,16,8,4,2,1],\"max_capture_size\":512}\n",
      "WARNING 07-01 18:22:12 [utils.py:2413] Methods determine_num_available_blocks,device_config,get_cache_block_size_bytes,initialize_cache not implemented in <vllm.v1.worker.gpu_worker.Worker object at 0x79c0050cdfd0>\n",
      "INFO 07-01 18:22:13 [parallel_state.py:957] rank 0 in world size 1 is assigned as DP rank 0, PP rank 0, TP rank 0\n",
      "INFO 07-01 18:22:13 [cuda.py:221] Using Flash Attention backend on V1 engine.\n",
      "INFO 07-01 18:22:13 [gpu_model_runner.py:1258] Starting to load model meta-llama/Llama-3.1-8B-Instruct...\n",
      "WARNING 07-01 18:22:13 [topk_topp_sampler.py:69] FlashInfer is not available. Falling back to the PyTorch-native implementation of top-p & top-k sampling. For the best performance, please install FlashInfer.\n",
      "INFO 07-01 18:22:13 [weight_utils.py:265] Using model weights format ['*.safetensors']\n"
     ]
    },
    {
     "name": "stderr",
     "output_type": "stream",
     "text": [
      "Loading safetensors checkpoint shards:   0% Completed | 0/4 [00:00<?, ?it/s]\n",
      "Loading safetensors checkpoint shards:  25% Completed | 1/4 [00:00<00:02,  1.26it/s]\n",
      "Loading safetensors checkpoint shards:  50% Completed | 2/4 [00:01<00:01,  1.31it/s]\n",
      "Loading safetensors checkpoint shards:  75% Completed | 3/4 [00:02<00:00,  1.27it/s]\n",
      "Loading safetensors checkpoint shards: 100% Completed | 4/4 [00:02<00:00,  1.79it/s]\n",
      "Loading safetensors checkpoint shards: 100% Completed | 4/4 [00:02<00:00,  1.56it/s]\n",
      "\n"
     ]
    },
    {
     "name": "stdout",
     "output_type": "stream",
     "text": [
      "INFO 07-01 18:22:16 [loader.py:447] Loading weights took 2.57 seconds\n",
      "INFO 07-01 18:22:16 [gpu_model_runner.py:1273] Model loading took 14.9889 GiB and 2.929392 seconds\n",
      "INFO 07-01 18:22:23 [backends.py:416] Using cache directory: /home/shanghong/.cache/vllm/torch_compile_cache/bff1dda4a0/rank_0_0 for vLLM's torch.compile\n",
      "INFO 07-01 18:22:23 [backends.py:426] Dynamo bytecode transform time: 7.35 s\n",
      "INFO 07-01 18:22:27 [backends.py:132] Cache the graph of shape None for later use\n",
      "INFO 07-01 18:22:51 [backends.py:144] Compiling a graph for general shape takes 26.84 s\n",
      "INFO 07-01 18:23:04 [monitor.py:33] torch.compile takes 34.19 s in total\n",
      "INFO 07-01 18:23:05 [kv_cache_utils.py:578] GPU KV cache size: 415,824 tokens\n",
      "INFO 07-01 18:23:05 [kv_cache_utils.py:581] Maximum concurrency for 8,192 tokens per request: 50.76x\n",
      "INFO 07-01 18:23:24 [gpu_model_runner.py:1608] Graph capturing finished in 20 secs, took 0.64 GiB\n",
      "INFO 07-01 18:23:24 [core.py:162] init engine (profile, create kv cache, warmup model) took 68.49 seconds\n",
      "[2025-07-01 18:23:25,360][oumi][rank0][pid:2181942][MainThread][INFO]][lm_harness.py:348] Starting evaluation...\n"
     ]
    },
    {
     "name": "stderr",
     "output_type": "stream",
     "text": [
      "INFO:lm_eval.api.task:Building contexts for leaderboard_mmlu_pro on rank 0...\n",
      "100%|██████████| 10/10 [00:00<00:00, 22345.79it/s]\n",
      "INFO:lm_eval.evaluator:Running loglikelihood requests\n",
      "Running loglikelihood requests: 100%|██████████| 99/99 [00:01<00:00, 79.95it/s]\n"
     ]
    },
    {
     "name": "stdout",
     "output_type": "stream",
     "text": [
      "[2025-07-01 18:23:26,646][oumi][rank0][pid:2181942][MainThread][INFO]][lm_harness.py:366] leaderboard_mmlu_pro's metric dict is {'acc,none': 0.3,\n",
      " 'acc_stderr,none': 0.15275252316519464,\n",
      " 'alias': 'leaderboard_mmlu_pro'}\n"
     ]
    },
    {
     "name": "stderr",
     "output_type": "stream",
     "text": [
      "[rank0]:[W701 18:23:31.140919986 ProcessGroupNCCL.cpp:1496] Warning: WARNING: destroy_process_group() was not called before program exit, which can leak resources. For more info, please see https://pytorch.org/docs/stable/distributed.html#shutdown (function operator())\n"
     ]
    },
    {
     "name": "stdout",
     "output_type": "stream",
     "text": [
      "[2025-07-01 18:23:33,298][oumi][rank0][pid:2181942][MainThread][WARNING]][serialization_utils.py:47] Non-serializable value `LMHarnessTaskParams(evaluation_backend='lm_harness', task_name='leaderboard_mmlu_pro', num_samples=10, log_samples=False, eval_kwargs={}, evaluation_platform='', num_fewshot=None)` of type `<class 'oumi.core.configs.params.evaluation_params.LMHarnessTaskParams'>`.\n",
      "[2025-07-01 18:23:33,299][oumi][rank0][pid:2181942][MainThread][WARNING]][serialization_utils.py:47] Non-serializable value `ConfigurableTask(task_name=leaderboard_mmlu_pro,output_type=multiple_choice,num_fewshot=None,num_samples=12032)` of type `<class 'lm_eval.api.task.ConfigurableTask'>`.\n",
      "[2025-07-01 18:23:34,061][oumi][rank0][pid:2181942][MainThread][WARNING]][models.py:463] Undefined pad token. Setting it to `<|finetune_right_pad_id|>`.\n",
      "[2025-07-01 18:23:34,063][oumi][rank0][pid:2181942][MainThread][INFO]][models.py:506] Using the model's built-in chat template for model 'meta-llama/Llama-3.1-8B-Instruct'.\n",
      "INFO 07-01 18:23:34 [config.py:600] This model supports multiple tasks: {'classify', 'reward', 'generate', 'embed', 'score'}. Defaulting to 'generate'.\n",
      "INFO 07-01 18:23:34 [config.py:1600] Defaulting to use mp for distributed inference\n",
      "INFO 07-01 18:23:34 [config.py:1780] Chunked prefill is enabled with max_num_batched_tokens=16384.\n",
      "WARNING 07-01 18:23:34 [cuda.py:96] To see benefits of async output processing, enable CUDA graph. Since, enforce-eager is enabled, async output processor cannot be used\n",
      "INFO 07-01 18:23:41 [__init__.py:239] Automatically detected platform cuda.\n",
      "INFO 07-01 18:23:44 [core.py:61] Initializing a V1 LLM engine (v0.8.3) with config: model='meta-llama/Llama-3.1-8B-Instruct', speculative_config=None, tokenizer='meta-llama/Llama-3.1-8B-Instruct', skip_tokenizer_init=False, tokenizer_mode=auto, revision=None, override_neuron_config=None, tokenizer_revision=None, trust_remote_code=False, dtype=torch.bfloat16, max_seq_len=8192, download_dir=None, load_format=LoadFormat.AUTO, tensor_parallel_size=2, pipeline_parallel_size=1, disable_custom_all_reduce=False, quantization=None, enforce_eager=True, kv_cache_dtype=auto,  device_config=cuda, decoding_config=DecodingConfig(guided_decoding_backend='xgrammar', reasoning_backend=None), observability_config=ObservabilityConfig(show_hidden_metrics=False, otlp_traces_endpoint=None, collect_model_forward_time=False, collect_model_execute_time=False), seed=None, served_model_name=meta-llama/Llama-3.1-8B-Instruct, num_scheduler_steps=1, multi_step_stream_outputs=True, enable_prefix_caching=True, chunked_prefill_enabled=True, use_async_output_proc=False, disable_mm_preprocessor_cache=False, mm_processor_kwargs=None, pooler_config=None, compilation_config={\"splitting_ops\":[],\"compile_sizes\":[],\"cudagraph_capture_sizes\":[],\"max_capture_size\":0}\n",
      "WARNING 07-01 18:23:44 [multiproc_worker_utils.py:306] Reducing Torch parallelism from 2 threads to 1 to avoid unnecessary CPU contention. Set OMP_NUM_THREADS in the external environment to tune this value as needed.\n",
      "INFO 07-01 18:23:44 [shm_broadcast.py:264] vLLM message queue communication handle: Handle(local_reader_ranks=[0, 1], buffer_handle=(2, 10485760, 10, 'psm_3d795e93'), local_subscribe_addr='ipc:///tmp/570ac4a9-cd7e-479b-a443-ec0a9a494846', remote_subscribe_addr=None, remote_addr_ipv6=False)\n",
      "INFO 07-01 18:23:49 [__init__.py:239] Automatically detected platform cuda.\n",
      "WARNING 07-01 18:23:52 [utils.py:2413] Methods determine_num_available_blocks,device_config,get_cache_block_size_bytes,initialize_cache not implemented in <vllm.v1.worker.gpu_worker.Worker object at 0x7c1bc8dcec50>\n",
      "\u001b[1;36m(VllmWorker rank=0 pid=2188221)\u001b[0;0m INFO 07-01 18:23:52 [shm_broadcast.py:264] vLLM message queue communication handle: Handle(local_reader_ranks=[0], buffer_handle=(1, 10485760, 10, 'psm_25d5117e'), local_subscribe_addr='ipc:///tmp/521fc2b8-5b76-4e74-8a33-259071e99971', remote_subscribe_addr=None, remote_addr_ipv6=False)\n",
      "INFO 07-01 18:23:57 [__init__.py:239] Automatically detected platform cuda.\n",
      "WARNING 07-01 18:24:00 [utils.py:2413] Methods determine_num_available_blocks,device_config,get_cache_block_size_bytes,initialize_cache not implemented in <vllm.v1.worker.gpu_worker.Worker object at 0x7f61da887810>\n",
      "\u001b[1;36m(VllmWorker rank=1 pid=2188356)\u001b[0;0m INFO 07-01 18:24:00 [shm_broadcast.py:264] vLLM message queue communication handle: Handle(local_reader_ranks=[0], buffer_handle=(1, 10485760, 10, 'psm_d09da612'), local_subscribe_addr='ipc:///tmp/e4786604-26b1-4de4-a7cf-036e9326d7a1', remote_subscribe_addr=None, remote_addr_ipv6=False)\n",
      "\u001b[1;36m(VllmWorker rank=0 pid=2188221)\u001b[0;0m INFO 07-01 18:24:01 [utils.py:990] Found nccl from library libnccl.so.2\n",
      "\u001b[1;36m(VllmWorker rank=0 pid=2188221)\u001b[0;0m INFO 07-01 18:24:01 [pynccl.py:69] vLLM is using nccl==2.21.5\n",
      "\u001b[1;36m(VllmWorker rank=1 pid=2188356)\u001b[0;0m INFO 07-01 18:24:01 [utils.py:990] Found nccl from library libnccl.so.2\n",
      "\u001b[1;36m(VllmWorker rank=1 pid=2188356)\u001b[0;0m INFO 07-01 18:24:01 [pynccl.py:69] vLLM is using nccl==2.21.5\n",
      "\u001b[1;36m(VllmWorker rank=0 pid=2188221)\u001b[0;0m \u001b[1;36m(VllmWorker rank=1 pid=2188356)\u001b[0;0m INFO 07-01 18:24:02 [custom_all_reduce_utils.py:244] reading GPU P2P access cache from /home/shanghong/.cache/vllm/gpu_p2p_access_cache_for_0,1.json\n",
      "INFO 07-01 18:24:02 [custom_all_reduce_utils.py:244] reading GPU P2P access cache from /home/shanghong/.cache/vllm/gpu_p2p_access_cache_for_0,1.json\n",
      "\u001b[1;36m(VllmWorker rank=0 pid=2188221)\u001b[0;0m INFO 07-01 18:24:02 [shm_broadcast.py:264] vLLM message queue communication handle: Handle(local_reader_ranks=[1], buffer_handle=(1, 4194304, 6, 'psm_6f03ed90'), local_subscribe_addr='ipc:///tmp/b80a5a78-008d-499a-9ad2-178ff9744e4c', remote_subscribe_addr=None, remote_addr_ipv6=False)\n",
      "\u001b[1;36m(VllmWorker rank=0 pid=2188221)\u001b[0;0m INFO 07-01 18:24:02 [parallel_state.py:957] rank 0 in world size 2 is assigned as DP rank 0, PP rank 0, TP rank 0\n",
      "\u001b[1;36m(VllmWorker rank=1 pid=2188356)\u001b[0;0m INFO 07-01 18:24:02 [parallel_state.py:957] rank 1 in world size 2 is assigned as DP rank 0, PP rank 0, TP rank 1\n",
      "\u001b[1;36m(VllmWorker rank=0 pid=2188221)\u001b[0;0m INFO 07-01 18:24:02 [cuda.py:221] Using Flash Attention backend on V1 engine.\n",
      "\u001b[1;36m(VllmWorker rank=1 pid=2188356)\u001b[0;0m INFO 07-01 18:24:02 [cuda.py:221] Using Flash Attention backend on V1 engine.\n",
      "\u001b[1;36m(VllmWorker rank=0 pid=2188221)\u001b[0;0m INFO 07-01 18:24:02 [gpu_model_runner.py:1258] Starting to load model meta-llama/Llama-3.1-8B-Instruct...\n",
      "\u001b[1;36m(VllmWorker rank=1 pid=2188356)\u001b[0;0m INFO 07-01 18:24:02 [gpu_model_runner.py:1258] Starting to load model meta-llama/Llama-3.1-8B-Instruct...\n",
      "\u001b[1;36m(VllmWorker rank=1 pid=2188356)\u001b[0;0m WARNING 07-01 18:24:02 [topk_topp_sampler.py:69] FlashInfer is not available. Falling back to the PyTorch-native implementation of top-p & top-k sampling. For the best performance, please install FlashInfer.\n",
      "\u001b[1;36m(VllmWorker rank=0 pid=2188221)\u001b[0;0m WARNING 07-01 18:24:02 [topk_topp_sampler.py:69] FlashInfer is not available. Falling back to the PyTorch-native implementation of top-p & top-k sampling. For the best performance, please install FlashInfer.\n",
      "\u001b[1;36m(VllmWorker rank=1 pid=2188356)\u001b[0;0m INFO 07-01 18:24:03 [weight_utils.py:265] Using model weights format ['*.safetensors']\n",
      "\u001b[1;36m(VllmWorker rank=0 pid=2188221)\u001b[0;0m INFO 07-01 18:24:03 [weight_utils.py:265] Using model weights format ['*.safetensors']\n"
     ]
    },
    {
     "name": "stderr",
     "output_type": "stream",
     "text": [
      "Loading safetensors checkpoint shards:   0% Completed | 0/4 [00:00<?, ?it/s]\n",
      "Loading safetensors checkpoint shards:  25% Completed | 1/4 [00:00<00:02,  1.07it/s]\n",
      "Loading safetensors checkpoint shards:  50% Completed | 2/4 [00:02<00:02,  1.18s/it]\n"
     ]
    },
    {
     "name": "stdout",
     "output_type": "stream",
     "text": [
      "\u001b[1;36m(VllmWorker rank=1 pid=2188356)\u001b[0;0m INFO 07-01 18:24:06 [loader.py:447] Loading weights took 3.53 seconds\n"
     ]
    },
    {
     "name": "stderr",
     "output_type": "stream",
     "text": [
      "Loading safetensors checkpoint shards:  75% Completed | 3/4 [00:03<00:01,  1.21s/it]\n",
      "Loading safetensors checkpoint shards: 100% Completed | 4/4 [00:03<00:00,  1.24it/s]\n",
      "Loading safetensors checkpoint shards: 100% Completed | 4/4 [00:03<00:00,  1.08it/s]\n",
      "\u001b[1;36m(VllmWorker rank=0 pid=2188221)\u001b[0;0m \n"
     ]
    },
    {
     "name": "stdout",
     "output_type": "stream",
     "text": [
      "\u001b[1;36m(VllmWorker rank=0 pid=2188221)\u001b[0;0m INFO 07-01 18:24:06 [loader.py:447] Loading weights took 3.73 seconds\n",
      "\u001b[1;36m(VllmWorker rank=1 pid=2188356)\u001b[0;0m INFO 07-01 18:24:06 [gpu_model_runner.py:1273] Model loading took 7.5123 GiB and 3.920266 seconds\n",
      "\u001b[1;36m(VllmWorker rank=0 pid=2188221)\u001b[0;0m INFO 07-01 18:24:07 [gpu_model_runner.py:1273] Model loading took 7.5123 GiB and 4.215796 seconds\n",
      "INFO 07-01 18:24:11 [kv_cache_utils.py:578] GPU KV cache size: 929,840 tokens\n",
      "INFO 07-01 18:24:11 [kv_cache_utils.py:581] Maximum concurrency for 8,192 tokens per request: 113.51x\n",
      "INFO 07-01 18:24:11 [kv_cache_utils.py:578] GPU KV cache size: 929,840 tokens\n",
      "INFO 07-01 18:24:11 [kv_cache_utils.py:581] Maximum concurrency for 8,192 tokens per request: 113.51x\n",
      "INFO 07-01 18:24:11 [core.py:162] init engine (profile, create kv cache, warmup model) took 4.67 seconds\n",
      "Python executable: /home/shanghong/miniconda3/envs/oumi/bin/python\n",
      "sys.path: ['/home/shanghong/miniconda3/envs/oumi/lib/python3.11/site-packages/ray/thirdparty_files', '/home/shanghong/miniconda3/envs/oumi/lib/python311.zip', '/home/shanghong/miniconda3/envs/oumi/lib/python3.11', '/home/shanghong/miniconda3/envs/oumi/lib/python3.11/lib-dynload', '', '/home/shanghong/miniconda3/envs/oumi/lib/python3.11/site-packages', '/home/shanghong/oumi/src', '/tmp/tmp91n8vu4b', '/home/shanghong/miniconda3/envs/oumi/lib/python3.11/site-packages/setuptools/_vendor', '/home/shanghong/.cache/huggingface/modules']\n",
      "[2025-07-01 18:24:12,171][oumi][rank0][pid:2181942][MainThread][INFO]][alpaca_eval.py:97] Loading the `tatsu-lab/alpaca_eval` dataset.\n",
      "[2025-07-01 18:24:12,175][oumi][rank0][pid:2181942][MainThread][INFO]][base_map_dataset.py:91] Creating map dataset (type: AlpacaEvalDataset)... dataset_name: 'tatsu-lab/alpaca_eval'\n",
      "[2025-07-01 18:24:12,343][oumi][rank0][pid:2181942][MainThread][INFO]][base_map_dataset.py:487] Dataset Info:\n",
      "\tSplit: eval\n",
      "\tVersion: 1.0.0\n",
      "\tDataset size: 554496\n",
      "\tDownload size: 620778\n",
      "\tSize: 1175274 bytes\n",
      "\tRows: 805\n",
      "\tColumns: ['instruction', 'output', 'generator', 'dataset']\n",
      "[2025-07-01 18:24:12,880][oumi][rank0][pid:2181942][MainThread][INFO]][base_map_dataset.py:426] Loaded DataFrame with shape: (805, 4). Columns:\n",
      "instruction    object\n",
      "output         object\n",
      "generator      object\n",
      "dataset        object\n",
      "dtype: object\n",
      "[2025-07-01 18:24:12,908][oumi][rank0][pid:2181942][MainThread][INFO]][alpaca_eval.py:106] \tAlpacaEval inference `model_params`:\n",
      "ModelParams(model_name='meta-llama/Llama-3.1-8B-Instruct',\n",
      "            adapter_model=None,\n",
      "            tokenizer_name=None,\n",
      "            tokenizer_pad_token=None,\n",
      "            tokenizer_kwargs={},\n",
      "            processor_kwargs={},\n",
      "            model_max_length=8192,\n",
      "            load_pretrained_weights=True,\n",
      "            trust_remote_code=False,\n",
      "            torch_dtype_str='bfloat16',\n",
      "            compile=False,\n",
      "            chat_template=None,\n",
      "            attn_implementation=None,\n",
      "            device_map='auto',\n",
      "            model_kwargs={},\n",
      "            enable_liger_kernel=False,\n",
      "            shard_for_eval=False,\n",
      "            freeze_layers=[],\n",
      "            model_revision=None)\n",
      "\tAlpacaEval inference `generation_params`:\n",
      "GenerationParams(max_new_tokens=8192,\n",
      "                 batch_size=1,\n",
      "                 exclude_prompt_from_response=True,\n",
      "                 seed=None,\n",
      "                 temperature=0.0,\n",
      "                 top_p=1.0,\n",
      "                 frequency_penalty=0.0,\n",
      "                 presence_penalty=0.0,\n",
      "                 stop_strings=None,\n",
      "                 stop_token_ids=None,\n",
      "                 logit_bias={},\n",
      "                 min_p=0.0,\n",
      "                 use_cache=False,\n",
      "                 num_beams=1,\n",
      "                 use_sampling=False,\n",
      "                 guided_decoding=None)\n"
     ]
    },
    {
     "name": "stderr",
     "output_type": "stream",
     "text": [
      "Processed prompts: 100%|██████████| 3/3 [01:06<00:00, 22.20s/it, est. speed input: 2.48 toks/s, output: 45.08 toks/s]\n"
     ]
    },
    {
     "name": "stdout",
     "output_type": "stream",
     "text": [
      "[2025-07-01 18:25:20,388][oumi][rank0][pid:2181942][MainThread][INFO]][alpaca_eval.py:121] Running AlpacaEval annotation.\n",
      "[2025-07-01 18:25:20,389][oumi][rank0][pid:2181942][MainThread][INFO]][alpaca_eval.py:122] \tAlpacaEval `task_params`:\n",
      "AlpacaEvalTaskParams(evaluation_backend='alpaca_eval',\n",
      "                     task_name=None,\n",
      "                     num_samples=3,\n",
      "                     log_samples=False,\n",
      "                     eval_kwargs={},\n",
      "                     evaluation_platform='',\n",
      "                     version=2.0)\n"
     ]
    },
    {
     "name": "stderr",
     "output_type": "stream",
     "text": [
      "INFO:root:Evaluating the 20250701_182412 outputs.\n",
      "WARNING:root:model_outputs and reference_outputs have different lengths, so we cannot shuffle before taking the first max_instances.\n",
      "INFO:root:Creating the annotator from `weighted_alpaca_eval_gpt4_turbo`.\n",
      "INFO:root:Saving annotations to `/home/shanghong/miniconda3/envs/oumi/lib/python3.11/site-packages/alpaca_eval/evaluators_configs/weighted_alpaca_eval_gpt4_turbo/annotations_seed0_configs.json`.\n",
      "INFO:root:Loading all annotations from /home/shanghong/miniconda3/envs/oumi/lib/python3.11/site-packages/alpaca_eval/evaluators_configs/weighted_alpaca_eval_gpt4_turbo/annotations_seed0_configs.json.\n",
      "Annotation chunk:   0%|          | 0/1 [00:00<?, ?it/s]INFO:root:Annotating 3 examples with weighted_alpaca_eval_gpt4_turbo\n",
      "INFO:root:Using `openai_completions` on 3 prompts using gpt-4-1106-preview.\n",
      "INFO:root:Kwargs to completion: {'model': 'gpt-4-1106-preview', 'temperature': 1, 'logprobs': True, 'top_logprobs': 5, 'is_chat': True}. num_procs=5\n",
      "WARNING:root:/home/shanghong/miniconda3/envs/oumi/lib/python3.11/client_configs/openai_configs.yaml wasn't found. We are using environment variables to construct the client configs.This is the old and non-recommended way of doing it. Please see `client_configs/README.md` for the recommended way of specifying client configs.\n",
      "WARNING:root:/home/shanghong/miniconda3/envs/oumi/lib/python3.11/client_configs/openai_configs.yaml wasn't found. We are using environment variables to construct the client configs.This is the old and non-recommended way of doing it. Please see `client_configs/README.md` for the recommended way of specifying client configs.\n",
      "\n",
      "WARNING:root:/home/shanghong/miniconda3/envs/oumi/lib/python3.11/client_configs/openai_configs.yaml wasn't found. We are using environment variables to construct the client configs.This is the old and non-recommended way of doing it. Please see `client_configs/README.md` for the recommended way of specifying client configs.INFO:root:Using OAI client number 1 out of 1.\n",
      "INFO:root:Using OAI client number 1 out of 1.\n",
      "INFO:root:Using OAI client number 1 out of 1.\n",
      "INFO:httpx:HTTP Request: POST https://api.openai.com/v1/chat/completions \"HTTP/1.1 200 OK\"\n",
      "INFO:httpx:HTTP Request: POST https://api.openai.com/v1/chat/completions \"HTTP/1.1 200 OK\"\n",
      "INFO:httpx:HTTP Request: POST https://api.openai.com/v1/chat/completions \"HTTP/1.1 200 OK\"\n",
      "prompt_batches: 100%|██████████| 3/3 [00:01<00:00,  1.95it/s]\n",
      "INFO:root:Completed 3 examples in 1.6 seconds.\n",
      "INFO:root:Saving all annotations to /home/shanghong/miniconda3/envs/oumi/lib/python3.11/site-packages/alpaca_eval/evaluators_configs/weighted_alpaca_eval_gpt4_turbo/annotations_seed0_configs.json.\n",
      "INFO:root:Loading all annotations from /home/shanghong/miniconda3/envs/oumi/lib/python3.11/site-packages/alpaca_eval/evaluators_configs/weighted_alpaca_eval_gpt4_turbo/annotations_seed0_configs.json.\n",
      "Annotation chunk: 100%|██████████| 1/1 [00:01<00:00,  1.70s/it]\n",
      "INFO:root:Saving all results to results/20250701_182412/weighted_alpaca_eval_gpt4_turbo\n"
     ]
    },
    {
     "name": "stdout",
     "output_type": "stream",
     "text": [
      "[2025-07-01 18:25:22,792][oumi][rank0][pid:2181942][MainThread][INFO]][alpaca_eval.py:145] AlpacaEval's metric dict is {'avg_length': 4014,\n",
      " 'discrete_win_rate': 33.33333333333333,\n",
      " 'lc_standard_error': 5.696288827948022,\n",
      " 'length_controlled_winrate': 27.061533794693894,\n",
      " 'mode': 'community',\n",
      " 'n_draws': 0,\n",
      " 'n_total': 3,\n",
      " 'n_wins': 1,\n",
      " 'n_wins_base': 2,\n",
      " 'standard_error': 31.605918306173457,\n",
      " 'win_rate': 31.65530398635676}.\n"
     ]
    }
   ],
   "source": [
    "from oumi.core.configs import (\n",
    "    EvaluationConfig,\n",
    "    GenerationParams,\n",
    "    InferenceEngineType,\n",
    "    ModelParams,\n",
    ")\n",
    "from oumi.evaluate import evaluate\n",
    "\n",
    "# Store the results for 1B, 3B, 8B models in the following lists.\n",
    "mmlu_acc = []\n",
    "alpaca_lcwr = []\n",
    "\n",
    "for model_name in MODEL_NAMES:\n",
    "    print(f\"Evaluating {model_name}...\")\n",
    "    # Define the evaluation configuration.\n",
    "    evaluation_config = EvaluationConfig(\n",
    "        tasks=TASKS,\n",
    "        model=ModelParams(\n",
    "            model_name=model_name,\n",
    "            model_max_length=MODEL_MAX_TOKENS,\n",
    "            torch_dtype_str=\"bfloat16\",\n",
    "        ),\n",
    "        generation=GenerationParams(max_new_tokens=MODEL_MAX_TOKENS),\n",
    "        inference_engine=InferenceEngineType.VLLM,\n",
    "        output_dir=tutorial_dir,\n",
    "    )\n",
    "\n",
    "    # Evaluate the model.\n",
    "    task_results = evaluate(evaluation_config)\n",
    "\n",
    "    # Store the results.\n",
    "    mmlu_acc.append(task_results[0][\"results\"][\"leaderboard_mmlu_pro\"][\"acc,none\"])\n",
    "    alpaca_lcwr.append(\n",
    "        task_results[1][\"results\"][\"alpaca_eval\"][\"length_controlled_winrate\"] / 100\n",
    "    )"
   ]
  },
  {
   "cell_type": "code",
   "execution_count": 8,
   "metadata": {},
   "outputs": [
    {
     "name": "stdout",
     "output_type": "stream",
     "text": [
      "['__builtins__', '__cached__', '__doc__', '__file__', '__loader__', '__name__', '__package__', '__path__', '__spec__', '__version__', 'analyze', 'analyze_evaluators', 'annotators', 'completion_parsers', 'constants', 'decoders', 'evaluate', 'evaluate_from_model', 'load_dotenv', 'main', 'make_leaderboard', 'metrics', 'processors', 'types', 'utils']\n"
     ]
    }
   ],
   "source": [
    "import alpaca_eval\n",
    "\n",
    "print(dir(alpaca_eval))"
   ]
  },
  {
   "cell_type": "code",
   "execution_count": null,
   "metadata": {},
   "outputs": [
    {
     "name": "stdout",
     "output_type": "stream",
     "text": [
      "/home/shanghong/miniconda3/envs/oumi/bin/python\n"
     ]
    }
   ],
   "source": [
    "import sys\n",
    "\n",
    "print(sys.executable)"
   ]
  },
  {
   "cell_type": "code",
   "execution_count": 10,
   "metadata": {},
   "outputs": [
    {
     "name": "stdout",
     "output_type": "stream",
     "text": [
      "<function evaluate at 0x71e2b09df880>\n"
     ]
    }
   ],
   "source": [
    "import alpaca_eval\n",
    "\n",
    "print(alpaca_eval.evaluate)"
   ]
  },
  {
   "cell_type": "code",
   "execution_count": 8,
   "metadata": {},
   "outputs": [
    {
     "name": "stdout",
     "output_type": "stream",
     "text": [
      "Python executable: /home/shanghong/miniconda3/envs/oumi/bin/python\n"
     ]
    }
   ],
   "source": [
    "import sys\n",
    "\n",
    "print(\"Python executable:\", sys.executable)"
   ]
  },
  {
   "cell_type": "code",
   "execution_count": null,
   "metadata": {},
   "outputs": [
    {
     "name": "stdout",
     "output_type": "stream",
     "text": [
      "/home/shanghong/miniconda3/envs/oumi/bin/python\n"
     ]
    }
   ],
   "source": [
    "import sys\n",
    "\n",
    "print(sys.executable)"
   ]
  },
  {
   "cell_type": "code",
   "execution_count": 11,
   "metadata": {},
   "outputs": [
    {
     "name": "stdout",
     "output_type": "stream",
     "text": [
      "0.6.6\n"
     ]
    }
   ],
   "source": [
    "import alpaca_eval\n",
    "\n",
    "print(alpaca_eval.__version__)"
   ]
  },
  {
   "cell_type": "markdown",
   "metadata": {},
   "source": [
    "## Evaluation Results\n",
    "\n",
    "The evaluation results are shown below."
   ]
  },
  {
   "cell_type": "code",
   "execution_count": 8,
   "metadata": {},
   "outputs": [
    {
     "name": "stdout",
     "output_type": "stream",
     "text": [
      "[0.0, 0.3, 0.3]\n",
      "[0.0003000470156304012, 0.00044992813467909887, 0.2706153379469389]\n"
     ]
    }
   ],
   "source": [
    "print(mmlu_acc)\n",
    "print(alpaca_lcwr)"
   ]
  },
  {
   "cell_type": "markdown",
   "metadata": {},
   "source": [
    "When visualizing the results using `matplotlib`'s `pyplot`, we observe a clear trend: both the model's knowledge and reasoning abilities (measured by MMLU Pro) and the quality of its responses (measured by AlpacaEval 2.0) improve as the model size increases. A notable performance gain is observed when scaling from 1B to 3B parameters. However, beyond this, the rate of improvement begins to plateau, indicating diminishing returns with further increases in model size."
   ]
  },
  {
   "cell_type": "code",
   "execution_count": 9,
   "metadata": {},
   "outputs": [
    {
     "name": "stderr",
     "output_type": "stream",
     "text": [
      "INFO:matplotlib.font_manager:generated new fontManager\n"
     ]
    },
    {
     "data": {
      "image/png": "[encoded data removed]",
      "text/plain": [
       "<Figure size 640x480 with 1 Axes>"
      ]
     },
     "metadata": {},
     "output_type": "display_data"
    }
   ],
   "source": [
    "import matplotlib.pyplot as plt\n",
    "\n",
    "# Data\n",
    "model_sizes = [1, 3, 8]\n",
    "plt.plot(model_sizes, mmlu_acc, label=\"MMLU Pro (Accuracy)\")\n",
    "plt.plot(model_sizes, alpaca_lcwr, label=\"AlpacaEval 2.0 (LC WR)\")\n",
    "\n",
    "# Show\n",
    "plt.xlabel(\"Model Size (Billion Parameters)\")\n",
    "plt.ylabel(\"Model Performance\")\n",
    "plt.legend()\n",
    "plt.show()"
   ]
  },
  {
   "cell_type": "code",
   "execution_count": null,
   "metadata": {},
   "outputs": [],
   "source": []
  }
 ],
 "metadata": {
  "kernelspec": {
   "display_name": "oumi",
   "language": "python",
   "name": "python3"
  },
  "language_info": {
   "codemirror_mode": {
    "name": "ipython",
    "version": 3
   },
   "file_extension": ".py",
   "mimetype": "text/x-python",
   "name": "python",
   "nbconvert_exporter": "python",
   "pygments_lexer": "ipython3",
   "version": "3.11.13"
  }
 },
 "nbformat": 4,
 "nbformat_minor": 2
}
